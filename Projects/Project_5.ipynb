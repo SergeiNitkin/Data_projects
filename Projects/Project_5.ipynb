{
 "cells": [
  {
   "cell_type": "markdown",
   "id": "3a04cedc",
   "metadata": {},
   "source": [
    "# Проект 5 "
   ]
  },
  {
   "cell_type": "markdown",
   "id": "f74a5401",
   "metadata": {},
   "source": [
    "# Анализ рекламных источников игры \"Космические братья\""
   ]
  },
  {
   "cell_type": "markdown",
   "id": "15f4a1fd",
   "metadata": {},
   "source": [
    "## Задача\n",
    "Проранжировать источники привлечения по различным критериям, таким как:\n",
    "- стоимость привлечения\n",
    "- вовлеченность игроков\n",
    "- особенности прохождения игры\n",
    "- скорость прохождения"
   ]
  },
  {
   "cell_type": "markdown",
   "id": "8ca4752c",
   "metadata": {},
   "source": [
    "### 1. предобработка данных\n",
    "- Исследовать пропущенные значения;\n",
    "- Исследовать соответствие типов;\n",
    "- Исследовать дубликаты;\n",
    "- Проверить корректность наименований колонок."
   ]
  },
  {
   "cell_type": "markdown",
   "id": "ec26f6e4",
   "metadata": {},
   "source": [
    "### 2. исследовательский анализ данных\n",
    "- исследовать сколько пользователей пришли по источнику\n",
    "- посчитать САС на источник\n",
    "- исследовать долю прошедших на второй этап от кол-ва привлеченных по источникам\n",
    "- исследовать способ прохождения на второй уровень в разбивке по источникам\n",
    "- какие пользователи дольше играют, опять же в разбивке по источникам\n",
    "- сколько зданий строят пользователи в разбивке по источникам(вероятная монетизация)"
   ]
  },
  {
   "cell_type": "markdown",
   "id": "b63857c8",
   "metadata": {},
   "source": [
    "### 3. проверить различется ли время завершения уровня в зависимости способа прохождения:\n",
    "- через реализацию проекта,\n",
    "- через победу над первым игроком."
   ]
  },
  {
   "cell_type": "markdown",
   "id": "2eeeabda",
   "metadata": {},
   "source": [
    "### 4. проверить различается ли количество построенных зданий в зависимости от игровой стратегии пользователя PvP или PvE у игроков прошедших на второй уровень."
   ]
  },
  {
   "cell_type": "markdown",
   "id": "95acadff",
   "metadata": {},
   "source": [
    "### 5. ранжирование источников на основании выявленных фактов и закономерностей"
   ]
  },
  {
   "cell_type": "markdown",
   "id": "8a8e6e2b",
   "metadata": {},
   "source": [
    "# РЕШЕНИЕ"
   ]
  },
  {
   "cell_type": "markdown",
   "id": "31a77179",
   "metadata": {},
   "source": [
    "Импортируем нужные библиотеки"
   ]
  },
  {
   "cell_type": "code",
   "execution_count": 1,
   "id": "1fdbe4f8",
   "metadata": {},
   "outputs": [],
   "source": [
    "import pandas as pd\n",
    "import numpy as np\n",
    "import matplotlib.pyplot as plt\n",
    "import seaborn as sns\n",
    "from scipy import stats as st\n",
    "import warnings"
   ]
  },
  {
   "cell_type": "code",
   "execution_count": 2,
   "id": "af16bfe6",
   "metadata": {},
   "outputs": [],
   "source": [
    "warnings.filterwarnings('ignore')"
   ]
  },
  {
   "cell_type": "markdown",
   "id": "bb7b1b16",
   "metadata": {},
   "source": [
    "# Предобработка данных"
   ]
  },
  {
   "cell_type": "markdown",
   "id": "3619ce2e",
   "metadata": {},
   "source": [
    "Посмотрим на данные - прочитаем и предобработаем датасеты"
   ]
  },
  {
   "cell_type": "code",
   "execution_count": 3,
   "id": "0fe0d55f",
   "metadata": {},
   "outputs": [
    {
     "data": {
      "text/html": [
       "<div>\n",
       "<style scoped>\n",
       "    .dataframe tbody tr th:only-of-type {\n",
       "        vertical-align: middle;\n",
       "    }\n",
       "\n",
       "    .dataframe tbody tr th {\n",
       "        vertical-align: top;\n",
       "    }\n",
       "\n",
       "    .dataframe thead th {\n",
       "        text-align: right;\n",
       "    }\n",
       "</style>\n",
       "<table border=\"1\" class=\"dataframe\">\n",
       "  <thead>\n",
       "    <tr style=\"text-align: right;\">\n",
       "      <th></th>\n",
       "      <th>event_dt</th>\n",
       "      <th>event</th>\n",
       "      <th>building_type</th>\n",
       "      <th>user_id</th>\n",
       "      <th>project_type</th>\n",
       "    </tr>\n",
       "  </thead>\n",
       "  <tbody>\n",
       "    <tr>\n",
       "      <th>126283</th>\n",
       "      <td>2020-05-18 19:01:56</td>\n",
       "      <td>building</td>\n",
       "      <td>spaceport</td>\n",
       "      <td>8baf4ab0-f490-4642-b68f-5f4a2826c458</td>\n",
       "      <td>NaN</td>\n",
       "    </tr>\n",
       "    <tr>\n",
       "      <th>5087</th>\n",
       "      <td>2020-05-04 15:12:32</td>\n",
       "      <td>building</td>\n",
       "      <td>assembly_shop</td>\n",
       "      <td>fb7febbc-8cbb-4c11-8cee-5f56226177c4</td>\n",
       "      <td>NaN</td>\n",
       "    </tr>\n",
       "    <tr>\n",
       "      <th>43899</th>\n",
       "      <td>2020-05-08 11:48:13</td>\n",
       "      <td>building</td>\n",
       "      <td>spaceport</td>\n",
       "      <td>369e2d01-7249-486c-b8f5-de67045df492</td>\n",
       "      <td>NaN</td>\n",
       "    </tr>\n",
       "    <tr>\n",
       "      <th>56075</th>\n",
       "      <td>2020-05-09 11:25:18</td>\n",
       "      <td>building</td>\n",
       "      <td>spaceport</td>\n",
       "      <td>f44f5682-781d-465e-aba0-a8431d1d2380</td>\n",
       "      <td>NaN</td>\n",
       "    </tr>\n",
       "    <tr>\n",
       "      <th>45270</th>\n",
       "      <td>2020-05-08 14:36:36</td>\n",
       "      <td>building</td>\n",
       "      <td>assembly_shop</td>\n",
       "      <td>4468b134-087c-4fda-9ef0-347c20db0b18</td>\n",
       "      <td>NaN</td>\n",
       "    </tr>\n",
       "    <tr>\n",
       "      <th>129316</th>\n",
       "      <td>2020-05-20 02:05:44</td>\n",
       "      <td>building</td>\n",
       "      <td>research_center</td>\n",
       "      <td>e1f95466-ce2e-4bc9-bcac-f5fec413f50c</td>\n",
       "      <td>NaN</td>\n",
       "    </tr>\n",
       "    <tr>\n",
       "      <th>56226</th>\n",
       "      <td>2020-05-09 11:44:27</td>\n",
       "      <td>building</td>\n",
       "      <td>assembly_shop</td>\n",
       "      <td>e4870307-4dbc-495b-9772-486595479b68</td>\n",
       "      <td>NaN</td>\n",
       "    </tr>\n",
       "    <tr>\n",
       "      <th>133021</th>\n",
       "      <td>2020-05-22 16:15:24</td>\n",
       "      <td>building</td>\n",
       "      <td>spaceport</td>\n",
       "      <td>e10eae9e-bc5c-4b01-bc62-0ac8fe5cf8a1</td>\n",
       "      <td>NaN</td>\n",
       "    </tr>\n",
       "    <tr>\n",
       "      <th>120505</th>\n",
       "      <td>2020-05-17 02:29:10</td>\n",
       "      <td>project</td>\n",
       "      <td>NaN</td>\n",
       "      <td>5c0ded2e-62f2-4812-9ca2-5e31fcff045f</td>\n",
       "      <td>satellite_orbital_assembly</td>\n",
       "    </tr>\n",
       "    <tr>\n",
       "      <th>92339</th>\n",
       "      <td>2020-05-12 17:26:14</td>\n",
       "      <td>building</td>\n",
       "      <td>research_center</td>\n",
       "      <td>cc6dd7e9-3d9e-4739-bdc0-6c6ed4851504</td>\n",
       "      <td>NaN</td>\n",
       "    </tr>\n",
       "    <tr>\n",
       "      <th>123799</th>\n",
       "      <td>2020-05-17 22:49:15</td>\n",
       "      <td>finished_stage_1</td>\n",
       "      <td>NaN</td>\n",
       "      <td>1d39a9c9-97f6-4627-9e09-79ca3e447b0b</td>\n",
       "      <td>NaN</td>\n",
       "    </tr>\n",
       "    <tr>\n",
       "      <th>131465</th>\n",
       "      <td>2020-05-21 07:28:20</td>\n",
       "      <td>building</td>\n",
       "      <td>spaceport</td>\n",
       "      <td>6da71c44-71d4-4352-af52-35fe5a115d14</td>\n",
       "      <td>NaN</td>\n",
       "    </tr>\n",
       "    <tr>\n",
       "      <th>86334</th>\n",
       "      <td>2020-05-11 23:16:59</td>\n",
       "      <td>building</td>\n",
       "      <td>spaceport</td>\n",
       "      <td>6035ae51-b8c0-4d5a-a04c-df391e7cf357</td>\n",
       "      <td>NaN</td>\n",
       "    </tr>\n",
       "    <tr>\n",
       "      <th>88597</th>\n",
       "      <td>2020-05-12 06:02:34</td>\n",
       "      <td>building</td>\n",
       "      <td>spaceport</td>\n",
       "      <td>2bd22ade-dcf3-4b6f-ab98-3f8e35214a8f</td>\n",
       "      <td>NaN</td>\n",
       "    </tr>\n",
       "    <tr>\n",
       "      <th>88638</th>\n",
       "      <td>2020-05-12 06:09:39</td>\n",
       "      <td>building</td>\n",
       "      <td>spaceport</td>\n",
       "      <td>b667b75c-e8b2-4f4d-b747-dc747b36234b</td>\n",
       "      <td>NaN</td>\n",
       "    </tr>\n",
       "  </tbody>\n",
       "</table>\n",
       "</div>"
      ],
      "text/plain": [
       "                  event_dt             event    building_type  \\\n",
       "126283 2020-05-18 19:01:56          building        spaceport   \n",
       "5087   2020-05-04 15:12:32          building    assembly_shop   \n",
       "43899  2020-05-08 11:48:13          building        spaceport   \n",
       "56075  2020-05-09 11:25:18          building        spaceport   \n",
       "45270  2020-05-08 14:36:36          building    assembly_shop   \n",
       "129316 2020-05-20 02:05:44          building  research_center   \n",
       "56226  2020-05-09 11:44:27          building    assembly_shop   \n",
       "133021 2020-05-22 16:15:24          building        spaceport   \n",
       "120505 2020-05-17 02:29:10           project              NaN   \n",
       "92339  2020-05-12 17:26:14          building  research_center   \n",
       "123799 2020-05-17 22:49:15  finished_stage_1              NaN   \n",
       "131465 2020-05-21 07:28:20          building        spaceport   \n",
       "86334  2020-05-11 23:16:59          building        spaceport   \n",
       "88597  2020-05-12 06:02:34          building        spaceport   \n",
       "88638  2020-05-12 06:09:39          building        spaceport   \n",
       "\n",
       "                                     user_id                project_type  \n",
       "126283  8baf4ab0-f490-4642-b68f-5f4a2826c458                         NaN  \n",
       "5087    fb7febbc-8cbb-4c11-8cee-5f56226177c4                         NaN  \n",
       "43899   369e2d01-7249-486c-b8f5-de67045df492                         NaN  \n",
       "56075   f44f5682-781d-465e-aba0-a8431d1d2380                         NaN  \n",
       "45270   4468b134-087c-4fda-9ef0-347c20db0b18                         NaN  \n",
       "129316  e1f95466-ce2e-4bc9-bcac-f5fec413f50c                         NaN  \n",
       "56226   e4870307-4dbc-495b-9772-486595479b68                         NaN  \n",
       "133021  e10eae9e-bc5c-4b01-bc62-0ac8fe5cf8a1                         NaN  \n",
       "120505  5c0ded2e-62f2-4812-9ca2-5e31fcff045f  satellite_orbital_assembly  \n",
       "92339   cc6dd7e9-3d9e-4739-bdc0-6c6ed4851504                         NaN  \n",
       "123799  1d39a9c9-97f6-4627-9e09-79ca3e447b0b                         NaN  \n",
       "131465  6da71c44-71d4-4352-af52-35fe5a115d14                         NaN  \n",
       "86334   6035ae51-b8c0-4d5a-a04c-df391e7cf357                         NaN  \n",
       "88597   2bd22ade-dcf3-4b6f-ab98-3f8e35214a8f                         NaN  \n",
       "88638   b667b75c-e8b2-4f4d-b747-dc747b36234b                         NaN  "
      ]
     },
     "execution_count": 3,
     "metadata": {},
     "output_type": "execute_result"
    }
   ],
   "source": [
    "try:\n",
    "    actions = pd.read_csv('/Users/sergejnitkin/Final_project/game_actions.csv', parse_dates=['event_datetime'])\n",
    "except:\n",
    "    actions = pd.read_csv('/datasets/game_actions.csv', parse_dates=['event_datetime'])\n",
    "actions = actions.rename(columns={'event_datetime' : 'event_dt'})\n",
    "actions.sample(15, random_state=0)"
   ]
  },
  {
   "cell_type": "code",
   "execution_count": 4,
   "id": "3d4381b9",
   "metadata": {},
   "outputs": [
    {
     "name": "stdout",
     "output_type": "stream",
     "text": [
      "<class 'pandas.core.frame.DataFrame'>\n",
      "RangeIndex: 135640 entries, 0 to 135639\n",
      "Data columns (total 5 columns):\n",
      " #   Column         Non-Null Count   Dtype         \n",
      "---  ------         --------------   -----         \n",
      " 0   event_dt       135640 non-null  datetime64[ns]\n",
      " 1   event          135640 non-null  object        \n",
      " 2   building_type  127957 non-null  object        \n",
      " 3   user_id        135640 non-null  object        \n",
      " 4   project_type   1866 non-null    object        \n",
      "dtypes: datetime64[ns](1), object(4)\n",
      "memory usage: 5.2+ MB\n"
     ]
    }
   ],
   "source": [
    "actions.info() # посмотрим на структуру и типы данных"
   ]
  },
  {
   "cell_type": "markdown",
   "id": "6359d1da",
   "metadata": {},
   "source": [
    "с названиями колонок и типами данных все в порядке"
   ]
  },
  {
   "cell_type": "code",
   "execution_count": 5,
   "id": "cf6d6c5f",
   "metadata": {},
   "outputs": [
    {
     "data": {
      "text/plain": [
       "1"
      ]
     },
     "execution_count": 5,
     "metadata": {},
     "output_type": "execute_result"
    }
   ],
   "source": [
    "actions.duplicated().sum() # поищем явные дубликаты"
   ]
  },
  {
   "cell_type": "code",
   "execution_count": 6,
   "id": "ea6c6c2b",
   "metadata": {},
   "outputs": [
    {
     "data": {
      "text/html": [
       "<div>\n",
       "<style scoped>\n",
       "    .dataframe tbody tr th:only-of-type {\n",
       "        vertical-align: middle;\n",
       "    }\n",
       "\n",
       "    .dataframe tbody tr th {\n",
       "        vertical-align: top;\n",
       "    }\n",
       "\n",
       "    .dataframe thead th {\n",
       "        text-align: right;\n",
       "    }\n",
       "</style>\n",
       "<table border=\"1\" class=\"dataframe\">\n",
       "  <thead>\n",
       "    <tr style=\"text-align: right;\">\n",
       "      <th></th>\n",
       "      <th>event_dt</th>\n",
       "      <th>event</th>\n",
       "      <th>building_type</th>\n",
       "      <th>user_id</th>\n",
       "      <th>project_type</th>\n",
       "    </tr>\n",
       "  </thead>\n",
       "  <tbody>\n",
       "    <tr>\n",
       "      <th>74891</th>\n",
       "      <td>2020-05-10 18:41:56</td>\n",
       "      <td>building</td>\n",
       "      <td>research_center</td>\n",
       "      <td>c9af55d2-b0ae-4bb4-b3d5-f32aa9ac03af</td>\n",
       "      <td>NaN</td>\n",
       "    </tr>\n",
       "  </tbody>\n",
       "</table>\n",
       "</div>"
      ],
      "text/plain": [
       "                 event_dt     event    building_type  \\\n",
       "74891 2020-05-10 18:41:56  building  research_center   \n",
       "\n",
       "                                    user_id project_type  \n",
       "74891  c9af55d2-b0ae-4bb4-b3d5-f32aa9ac03af          NaN  "
      ]
     },
     "execution_count": 6,
     "metadata": {},
     "output_type": "execute_result"
    }
   ],
   "source": [
    "actions[actions.duplicated()]"
   ]
  },
  {
   "cell_type": "code",
   "execution_count": 7,
   "id": "980529fb",
   "metadata": {},
   "outputs": [
    {
     "data": {
      "text/plain": [
       "0"
      ]
     },
     "execution_count": 7,
     "metadata": {},
     "output_type": "execute_result"
    }
   ],
   "source": [
    "actions = actions.drop_duplicates() # избавимся от дубликатов\n",
    "actions.duplicated().sum()"
   ]
  },
  {
   "cell_type": "markdown",
   "id": "15c6265a",
   "metadata": {},
   "source": [
    "Поищем неявные дубликаты"
   ]
  },
  {
   "cell_type": "code",
   "execution_count": 8,
   "id": "3079ae8b",
   "metadata": {},
   "outputs": [
    {
     "data": {
      "text/plain": [
       "array([nan, 'satellite_orbital_assembly'], dtype=object)"
      ]
     },
     "execution_count": 8,
     "metadata": {},
     "output_type": "execute_result"
    }
   ],
   "source": [
    "actions['project_type'].unique()"
   ]
  },
  {
   "cell_type": "code",
   "execution_count": 9,
   "id": "77833318",
   "metadata": {},
   "outputs": [
    {
     "name": "stdout",
     "output_type": "stream",
     "text": [
      "['building' 'finished_stage_1' 'project']\n",
      "['assembly_shop' 'spaceport' nan 'research_center']\n",
      "[nan 'satellite_orbital_assembly']\n"
     ]
    }
   ],
   "source": [
    "print(actions['event'].unique())\n",
    "print(actions['building_type'].unique())\n",
    "print(actions['project_type'].unique())"
   ]
  },
  {
   "cell_type": "markdown",
   "id": "f763d605",
   "metadata": {},
   "source": [
    "тут нет неявных дубликатов."
   ]
  },
  {
   "cell_type": "markdown",
   "id": "fdf55c1e",
   "metadata": {},
   "source": [
    "#### Посмотрим на природу пропусков и их логику."
   ]
  },
  {
   "cell_type": "code",
   "execution_count": 10,
   "id": "557b40da",
   "metadata": {},
   "outputs": [
    {
     "data": {
      "text/html": [
       "<div>\n",
       "<style scoped>\n",
       "    .dataframe tbody tr th:only-of-type {\n",
       "        vertical-align: middle;\n",
       "    }\n",
       "\n",
       "    .dataframe tbody tr th {\n",
       "        vertical-align: top;\n",
       "    }\n",
       "\n",
       "    .dataframe thead th {\n",
       "        text-align: right;\n",
       "    }\n",
       "</style>\n",
       "<table border=\"1\" class=\"dataframe\">\n",
       "  <thead>\n",
       "    <tr style=\"text-align: right;\">\n",
       "      <th></th>\n",
       "      <th>event_dt</th>\n",
       "      <th>event</th>\n",
       "      <th>building_type</th>\n",
       "      <th>user_id</th>\n",
       "      <th>project_type</th>\n",
       "    </tr>\n",
       "  </thead>\n",
       "  <tbody>\n",
       "    <tr>\n",
       "      <th>118938</th>\n",
       "      <td>2020-05-16 18:23:24</td>\n",
       "      <td>finished_stage_1</td>\n",
       "      <td>NaN</td>\n",
       "      <td>de7f8d45-4c2d-499a-beef-db083c5f6a3d</td>\n",
       "      <td>NaN</td>\n",
       "    </tr>\n",
       "    <tr>\n",
       "      <th>120869</th>\n",
       "      <td>2020-05-17 04:23:29</td>\n",
       "      <td>project</td>\n",
       "      <td>NaN</td>\n",
       "      <td>2eb93be4-3193-4cd8-90b7-806abed84ee8</td>\n",
       "      <td>satellite_orbital_assembly</td>\n",
       "    </tr>\n",
       "    <tr>\n",
       "      <th>121394</th>\n",
       "      <td>2020-05-17 07:07:28</td>\n",
       "      <td>finished_stage_1</td>\n",
       "      <td>NaN</td>\n",
       "      <td>3ed7037a-0b28-4b59-80e9-df4d69cac15a</td>\n",
       "      <td>NaN</td>\n",
       "    </tr>\n",
       "    <tr>\n",
       "      <th>84775</th>\n",
       "      <td>2020-05-11 18:41:47</td>\n",
       "      <td>finished_stage_1</td>\n",
       "      <td>NaN</td>\n",
       "      <td>45a7a941-bee7-40bc-93bb-88206cfc3cd0</td>\n",
       "      <td>NaN</td>\n",
       "    </tr>\n",
       "    <tr>\n",
       "      <th>101755</th>\n",
       "      <td>2020-05-13 22:52:18</td>\n",
       "      <td>project</td>\n",
       "      <td>NaN</td>\n",
       "      <td>f31a74d2-2877-4256-a57c-c3af85f862bc</td>\n",
       "      <td>satellite_orbital_assembly</td>\n",
       "    </tr>\n",
       "    <tr>\n",
       "      <th>87405</th>\n",
       "      <td>2020-05-12 02:25:59</td>\n",
       "      <td>finished_stage_1</td>\n",
       "      <td>NaN</td>\n",
       "      <td>1233ad33-a36d-4440-8002-7ae4a8f52715</td>\n",
       "      <td>NaN</td>\n",
       "    </tr>\n",
       "    <tr>\n",
       "      <th>129469</th>\n",
       "      <td>2020-05-20 03:54:08</td>\n",
       "      <td>finished_stage_1</td>\n",
       "      <td>NaN</td>\n",
       "      <td>f54adf83-0984-4809-8426-34c4a7d80abc</td>\n",
       "      <td>NaN</td>\n",
       "    </tr>\n",
       "    <tr>\n",
       "      <th>131651</th>\n",
       "      <td>2020-05-21 11:02:37</td>\n",
       "      <td>finished_stage_1</td>\n",
       "      <td>NaN</td>\n",
       "      <td>4bebc4dc-b26e-428b-ab53-e58090e21909</td>\n",
       "      <td>NaN</td>\n",
       "    </tr>\n",
       "    <tr>\n",
       "      <th>121156</th>\n",
       "      <td>2020-05-17 05:54:45</td>\n",
       "      <td>finished_stage_1</td>\n",
       "      <td>NaN</td>\n",
       "      <td>c2c260e7-f203-4c5a-ad32-e47c2d158476</td>\n",
       "      <td>NaN</td>\n",
       "    </tr>\n",
       "    <tr>\n",
       "      <th>95150</th>\n",
       "      <td>2020-05-13 02:02:26</td>\n",
       "      <td>finished_stage_1</td>\n",
       "      <td>NaN</td>\n",
       "      <td>96c82533-8fef-4e37-9f68-cf5f81fbb247</td>\n",
       "      <td>NaN</td>\n",
       "    </tr>\n",
       "  </tbody>\n",
       "</table>\n",
       "</div>"
      ],
      "text/plain": [
       "                  event_dt             event building_type  \\\n",
       "118938 2020-05-16 18:23:24  finished_stage_1           NaN   \n",
       "120869 2020-05-17 04:23:29           project           NaN   \n",
       "121394 2020-05-17 07:07:28  finished_stage_1           NaN   \n",
       "84775  2020-05-11 18:41:47  finished_stage_1           NaN   \n",
       "101755 2020-05-13 22:52:18           project           NaN   \n",
       "87405  2020-05-12 02:25:59  finished_stage_1           NaN   \n",
       "129469 2020-05-20 03:54:08  finished_stage_1           NaN   \n",
       "131651 2020-05-21 11:02:37  finished_stage_1           NaN   \n",
       "121156 2020-05-17 05:54:45  finished_stage_1           NaN   \n",
       "95150  2020-05-13 02:02:26  finished_stage_1           NaN   \n",
       "\n",
       "                                     user_id                project_type  \n",
       "118938  de7f8d45-4c2d-499a-beef-db083c5f6a3d                         NaN  \n",
       "120869  2eb93be4-3193-4cd8-90b7-806abed84ee8  satellite_orbital_assembly  \n",
       "121394  3ed7037a-0b28-4b59-80e9-df4d69cac15a                         NaN  \n",
       "84775   45a7a941-bee7-40bc-93bb-88206cfc3cd0                         NaN  \n",
       "101755  f31a74d2-2877-4256-a57c-c3af85f862bc  satellite_orbital_assembly  \n",
       "87405   1233ad33-a36d-4440-8002-7ae4a8f52715                         NaN  \n",
       "129469  f54adf83-0984-4809-8426-34c4a7d80abc                         NaN  \n",
       "131651  4bebc4dc-b26e-428b-ab53-e58090e21909                         NaN  \n",
       "121156  c2c260e7-f203-4c5a-ad32-e47c2d158476                         NaN  \n",
       "95150   96c82533-8fef-4e37-9f68-cf5f81fbb247                         NaN  "
      ]
     },
     "execution_count": 10,
     "metadata": {},
     "output_type": "execute_result"
    }
   ],
   "source": [
    "actions[actions['building_type'].isna()].sample(10, random_state=0) "
   ]
  },
  {
   "cell_type": "markdown",
   "id": "2839e9f1",
   "metadata": {},
   "source": [
    "Если event не равен building, то в building_type будет пропуск, тк это детализация, какого типа было построено здание"
   ]
  },
  {
   "cell_type": "code",
   "execution_count": 11,
   "id": "a87177fd",
   "metadata": {},
   "outputs": [
    {
     "data": {
      "text/html": [
       "<div>\n",
       "<style scoped>\n",
       "    .dataframe tbody tr th:only-of-type {\n",
       "        vertical-align: middle;\n",
       "    }\n",
       "\n",
       "    .dataframe tbody tr th {\n",
       "        vertical-align: top;\n",
       "    }\n",
       "\n",
       "    .dataframe thead th {\n",
       "        text-align: right;\n",
       "    }\n",
       "</style>\n",
       "<table border=\"1\" class=\"dataframe\">\n",
       "  <thead>\n",
       "    <tr style=\"text-align: right;\">\n",
       "      <th></th>\n",
       "      <th>event_dt</th>\n",
       "      <th>event</th>\n",
       "      <th>building_type</th>\n",
       "      <th>user_id</th>\n",
       "      <th>project_type</th>\n",
       "    </tr>\n",
       "  </thead>\n",
       "  <tbody>\n",
       "    <tr>\n",
       "      <th>74844</th>\n",
       "      <td>2020-05-10 18:38:23</td>\n",
       "      <td>building</td>\n",
       "      <td>spaceport</td>\n",
       "      <td>8f244188-77f0-4410-96f0-f0416d5e2802</td>\n",
       "      <td>NaN</td>\n",
       "    </tr>\n",
       "    <tr>\n",
       "      <th>47381</th>\n",
       "      <td>2020-05-08 18:45:01</td>\n",
       "      <td>building</td>\n",
       "      <td>spaceport</td>\n",
       "      <td>5b47d757-e2c4-463c-bd40-643ad1f02f72</td>\n",
       "      <td>NaN</td>\n",
       "    </tr>\n",
       "    <tr>\n",
       "      <th>9961</th>\n",
       "      <td>2020-05-05 04:59:04</td>\n",
       "      <td>building</td>\n",
       "      <td>assembly_shop</td>\n",
       "      <td>f5df0be9-bee9-42f8-866b-db54b79f2c7f</td>\n",
       "      <td>NaN</td>\n",
       "    </tr>\n",
       "    <tr>\n",
       "      <th>18353</th>\n",
       "      <td>2020-05-06 02:44:37</td>\n",
       "      <td>building</td>\n",
       "      <td>assembly_shop</td>\n",
       "      <td>bc73ebc8-156f-49d6-92c9-3735fd1b59a5</td>\n",
       "      <td>NaN</td>\n",
       "    </tr>\n",
       "    <tr>\n",
       "      <th>109981</th>\n",
       "      <td>2020-05-15 03:53:33</td>\n",
       "      <td>building</td>\n",
       "      <td>research_center</td>\n",
       "      <td>d5c6b8e6-1113-428a-9127-d0c1386bb0ac</td>\n",
       "      <td>NaN</td>\n",
       "    </tr>\n",
       "    <tr>\n",
       "      <th>72913</th>\n",
       "      <td>2020-05-10 15:43:34</td>\n",
       "      <td>building</td>\n",
       "      <td>spaceport</td>\n",
       "      <td>1bb09b65-b76b-429f-aa91-1cf33cbc225c</td>\n",
       "      <td>NaN</td>\n",
       "    </tr>\n",
       "    <tr>\n",
       "      <th>97060</th>\n",
       "      <td>2020-05-13 07:59:42</td>\n",
       "      <td>building</td>\n",
       "      <td>spaceport</td>\n",
       "      <td>1d2bf6d4-1810-4400-bc11-8753f33b4df6</td>\n",
       "      <td>NaN</td>\n",
       "    </tr>\n",
       "    <tr>\n",
       "      <th>97667</th>\n",
       "      <td>2020-05-13 09:53:57</td>\n",
       "      <td>building</td>\n",
       "      <td>spaceport</td>\n",
       "      <td>29131ef3-7318-404f-8a32-9e20bbcf905f</td>\n",
       "      <td>NaN</td>\n",
       "    </tr>\n",
       "    <tr>\n",
       "      <th>133740</th>\n",
       "      <td>2020-05-23 14:42:24</td>\n",
       "      <td>building</td>\n",
       "      <td>spaceport</td>\n",
       "      <td>0afc6da0-92aa-4806-aa2e-88e3f4df3fa0</td>\n",
       "      <td>NaN</td>\n",
       "    </tr>\n",
       "    <tr>\n",
       "      <th>91208</th>\n",
       "      <td>2020-05-12 13:51:16</td>\n",
       "      <td>finished_stage_1</td>\n",
       "      <td>NaN</td>\n",
       "      <td>eac6c4ae-7221-4b39-9848-381e21cbc274</td>\n",
       "      <td>NaN</td>\n",
       "    </tr>\n",
       "    <tr>\n",
       "      <th>118524</th>\n",
       "      <td>2020-05-16 16:18:46</td>\n",
       "      <td>building</td>\n",
       "      <td>spaceport</td>\n",
       "      <td>a2f85d5e-5a53-43ee-9d41-9e1def085562</td>\n",
       "      <td>NaN</td>\n",
       "    </tr>\n",
       "    <tr>\n",
       "      <th>79200</th>\n",
       "      <td>2020-05-11 02:26:56</td>\n",
       "      <td>building</td>\n",
       "      <td>spaceport</td>\n",
       "      <td>0fa52044-5807-408f-ad47-4dbad713a36d</td>\n",
       "      <td>NaN</td>\n",
       "    </tr>\n",
       "    <tr>\n",
       "      <th>109998</th>\n",
       "      <td>2020-05-15 03:58:35</td>\n",
       "      <td>finished_stage_1</td>\n",
       "      <td>NaN</td>\n",
       "      <td>cb784e51-269a-4f54-b14f-67e92a9d14a7</td>\n",
       "      <td>NaN</td>\n",
       "    </tr>\n",
       "    <tr>\n",
       "      <th>33471</th>\n",
       "      <td>2020-05-07 14:04:04</td>\n",
       "      <td>building</td>\n",
       "      <td>spaceport</td>\n",
       "      <td>3cef9e87-32e8-4b48-9957-6bd4f1f97394</td>\n",
       "      <td>NaN</td>\n",
       "    </tr>\n",
       "    <tr>\n",
       "      <th>116164</th>\n",
       "      <td>2020-05-16 05:28:09</td>\n",
       "      <td>building</td>\n",
       "      <td>research_center</td>\n",
       "      <td>896e900d-1765-4030-b326-a7b84066dd45</td>\n",
       "      <td>NaN</td>\n",
       "    </tr>\n",
       "  </tbody>\n",
       "</table>\n",
       "</div>"
      ],
      "text/plain": [
       "                  event_dt             event    building_type  \\\n",
       "74844  2020-05-10 18:38:23          building        spaceport   \n",
       "47381  2020-05-08 18:45:01          building        spaceport   \n",
       "9961   2020-05-05 04:59:04          building    assembly_shop   \n",
       "18353  2020-05-06 02:44:37          building    assembly_shop   \n",
       "109981 2020-05-15 03:53:33          building  research_center   \n",
       "72913  2020-05-10 15:43:34          building        spaceport   \n",
       "97060  2020-05-13 07:59:42          building        spaceport   \n",
       "97667  2020-05-13 09:53:57          building        spaceport   \n",
       "133740 2020-05-23 14:42:24          building        spaceport   \n",
       "91208  2020-05-12 13:51:16  finished_stage_1              NaN   \n",
       "118524 2020-05-16 16:18:46          building        spaceport   \n",
       "79200  2020-05-11 02:26:56          building        spaceport   \n",
       "109998 2020-05-15 03:58:35  finished_stage_1              NaN   \n",
       "33471  2020-05-07 14:04:04          building        spaceport   \n",
       "116164 2020-05-16 05:28:09          building  research_center   \n",
       "\n",
       "                                     user_id project_type  \n",
       "74844   8f244188-77f0-4410-96f0-f0416d5e2802          NaN  \n",
       "47381   5b47d757-e2c4-463c-bd40-643ad1f02f72          NaN  \n",
       "9961    f5df0be9-bee9-42f8-866b-db54b79f2c7f          NaN  \n",
       "18353   bc73ebc8-156f-49d6-92c9-3735fd1b59a5          NaN  \n",
       "109981  d5c6b8e6-1113-428a-9127-d0c1386bb0ac          NaN  \n",
       "72913   1bb09b65-b76b-429f-aa91-1cf33cbc225c          NaN  \n",
       "97060   1d2bf6d4-1810-4400-bc11-8753f33b4df6          NaN  \n",
       "97667   29131ef3-7318-404f-8a32-9e20bbcf905f          NaN  \n",
       "133740  0afc6da0-92aa-4806-aa2e-88e3f4df3fa0          NaN  \n",
       "91208   eac6c4ae-7221-4b39-9848-381e21cbc274          NaN  \n",
       "118524  a2f85d5e-5a53-43ee-9d41-9e1def085562          NaN  \n",
       "79200   0fa52044-5807-408f-ad47-4dbad713a36d          NaN  \n",
       "109998  cb784e51-269a-4f54-b14f-67e92a9d14a7          NaN  \n",
       "33471   3cef9e87-32e8-4b48-9957-6bd4f1f97394          NaN  \n",
       "116164  896e900d-1765-4030-b326-a7b84066dd45          NaN  "
      ]
     },
     "execution_count": 11,
     "metadata": {},
     "output_type": "execute_result"
    }
   ],
   "source": [
    "actions[actions['project_type'].isna()].sample(15, random_state=2)"
   ]
  },
  {
   "cell_type": "code",
   "execution_count": 12,
   "id": "23f1c594",
   "metadata": {},
   "outputs": [
    {
     "data": {
      "text/plain": [
       "0"
      ]
     },
     "execution_count": 12,
     "metadata": {},
     "output_type": "execute_result"
    }
   ],
   "source": [
    "actions.query('event == \"project\"').project_type.isna().sum()"
   ]
  },
  {
   "cell_type": "markdown",
   "id": "767e1aed",
   "metadata": {},
   "source": [
    "тут тоже все логично: НАН всегда, кроме случаев, когда ивент = проджект. (проджект - это условие перехода на новый уровень, то есть стратегия PvE), и project_type это детализация проджекта (что именно было построено)"
   ]
  },
  {
   "cell_type": "markdown",
   "id": "ac90e014",
   "metadata": {},
   "source": [
    "#### Посмотрим теперь на другой датасет"
   ]
  },
  {
   "cell_type": "code",
   "execution_count": 13,
   "id": "52237849",
   "metadata": {},
   "outputs": [
    {
     "data": {
      "text/html": [
       "<div>\n",
       "<style scoped>\n",
       "    .dataframe tbody tr th:only-of-type {\n",
       "        vertical-align: middle;\n",
       "    }\n",
       "\n",
       "    .dataframe tbody tr th {\n",
       "        vertical-align: top;\n",
       "    }\n",
       "\n",
       "    .dataframe thead th {\n",
       "        text-align: right;\n",
       "    }\n",
       "</style>\n",
       "<table border=\"1\" class=\"dataframe\">\n",
       "  <thead>\n",
       "    <tr style=\"text-align: right;\">\n",
       "      <th></th>\n",
       "      <th>user_id</th>\n",
       "      <th>source</th>\n",
       "    </tr>\n",
       "  </thead>\n",
       "  <tbody>\n",
       "    <tr>\n",
       "      <th>0</th>\n",
       "      <td>0001f83c-c6ac-4621-b7f0-8a28b283ac30</td>\n",
       "      <td>facebook_ads</td>\n",
       "    </tr>\n",
       "    <tr>\n",
       "      <th>1</th>\n",
       "      <td>00151b4f-ba38-44a8-a650-d7cf130a0105</td>\n",
       "      <td>yandex_direct</td>\n",
       "    </tr>\n",
       "    <tr>\n",
       "      <th>2</th>\n",
       "      <td>001aaea6-3d14-43f1-8ca8-7f48820f17aa</td>\n",
       "      <td>youtube_channel_reklama</td>\n",
       "    </tr>\n",
       "    <tr>\n",
       "      <th>3</th>\n",
       "      <td>001d39dc-366c-4021-9604-6a3b9ff01e25</td>\n",
       "      <td>instagram_new_adverts</td>\n",
       "    </tr>\n",
       "    <tr>\n",
       "      <th>4</th>\n",
       "      <td>002f508f-67b6-479f-814b-b05f00d4e995</td>\n",
       "      <td>facebook_ads</td>\n",
       "    </tr>\n",
       "    <tr>\n",
       "      <th>...</th>\n",
       "      <td>...</td>\n",
       "      <td>...</td>\n",
       "    </tr>\n",
       "    <tr>\n",
       "      <th>13571</th>\n",
       "      <td>ffef4fed-164c-40e1-bde1-3980f76d0fb5</td>\n",
       "      <td>instagram_new_adverts</td>\n",
       "    </tr>\n",
       "    <tr>\n",
       "      <th>13572</th>\n",
       "      <td>fffab3da-da0e-4e30-ae62-10d0a2e24a4e</td>\n",
       "      <td>facebook_ads</td>\n",
       "    </tr>\n",
       "    <tr>\n",
       "      <th>13573</th>\n",
       "      <td>fffb626c-5ab6-47c9-8113-2062a2f18494</td>\n",
       "      <td>yandex_direct</td>\n",
       "    </tr>\n",
       "    <tr>\n",
       "      <th>13574</th>\n",
       "      <td>ffff194a-56b7-4c12-860d-3485242ae7f5</td>\n",
       "      <td>instagram_new_adverts</td>\n",
       "    </tr>\n",
       "    <tr>\n",
       "      <th>13575</th>\n",
       "      <td>ffff69cc-fec1-4fd3-9f98-93be1112a6b8</td>\n",
       "      <td>facebook_ads</td>\n",
       "    </tr>\n",
       "  </tbody>\n",
       "</table>\n",
       "<p>13576 rows × 2 columns</p>\n",
       "</div>"
      ],
      "text/plain": [
       "                                    user_id                   source\n",
       "0      0001f83c-c6ac-4621-b7f0-8a28b283ac30             facebook_ads\n",
       "1      00151b4f-ba38-44a8-a650-d7cf130a0105            yandex_direct\n",
       "2      001aaea6-3d14-43f1-8ca8-7f48820f17aa  youtube_channel_reklama\n",
       "3      001d39dc-366c-4021-9604-6a3b9ff01e25    instagram_new_adverts\n",
       "4      002f508f-67b6-479f-814b-b05f00d4e995             facebook_ads\n",
       "...                                     ...                      ...\n",
       "13571  ffef4fed-164c-40e1-bde1-3980f76d0fb5    instagram_new_adverts\n",
       "13572  fffab3da-da0e-4e30-ae62-10d0a2e24a4e             facebook_ads\n",
       "13573  fffb626c-5ab6-47c9-8113-2062a2f18494            yandex_direct\n",
       "13574  ffff194a-56b7-4c12-860d-3485242ae7f5    instagram_new_adverts\n",
       "13575  ffff69cc-fec1-4fd3-9f98-93be1112a6b8             facebook_ads\n",
       "\n",
       "[13576 rows x 2 columns]"
      ]
     },
     "execution_count": 13,
     "metadata": {},
     "output_type": "execute_result"
    }
   ],
   "source": [
    "try:\n",
    "    users = pd.read_csv('/Users/sergejnitkin/Final_project/user_source.csv')\n",
    "except:\n",
    "    users = pd.read_csv('/datasets/user_source.csv')\n",
    "users"
   ]
  },
  {
   "cell_type": "code",
   "execution_count": 14,
   "id": "9c8303e4",
   "metadata": {},
   "outputs": [
    {
     "name": "stdout",
     "output_type": "stream",
     "text": [
      "<class 'pandas.core.frame.DataFrame'>\n",
      "RangeIndex: 13576 entries, 0 to 13575\n",
      "Data columns (total 2 columns):\n",
      " #   Column   Non-Null Count  Dtype \n",
      "---  ------   --------------  ----- \n",
      " 0   user_id  13576 non-null  object\n",
      " 1   source   13576 non-null  object\n",
      "dtypes: object(2)\n",
      "memory usage: 212.2+ KB\n"
     ]
    }
   ],
   "source": [
    "users.info()"
   ]
  },
  {
   "cell_type": "code",
   "execution_count": 15,
   "id": "0e950efb",
   "metadata": {},
   "outputs": [
    {
     "data": {
      "text/plain": [
       "0"
      ]
     },
     "execution_count": 15,
     "metadata": {},
     "output_type": "execute_result"
    }
   ],
   "source": [
    "users.duplicated().sum() # чекнем на явные дубликаты"
   ]
  },
  {
   "cell_type": "code",
   "execution_count": 16,
   "id": "b4161185",
   "metadata": {},
   "outputs": [
    {
     "data": {
      "text/plain": [
       "array(['facebook_ads', 'yandex_direct', 'youtube_channel_reklama',\n",
       "       'instagram_new_adverts'], dtype=object)"
      ]
     },
     "execution_count": 16,
     "metadata": {},
     "output_type": "execute_result"
    }
   ],
   "source": [
    "users['source'].unique() # чекнем неявные дубликаты"
   ]
  },
  {
   "cell_type": "markdown",
   "id": "64623636",
   "metadata": {},
   "source": [
    "тут все хорошо"
   ]
  },
  {
   "cell_type": "code",
   "execution_count": 17,
   "id": "cb53c9f3",
   "metadata": {
    "scrolled": true
   },
   "outputs": [
    {
     "data": {
      "text/plain": [
       "user_id    0\n",
       "source     0\n",
       "dtype: int64"
      ]
     },
     "execution_count": 17,
     "metadata": {},
     "output_type": "execute_result"
    }
   ],
   "source": [
    "users.isna().sum() # проверка на пропуски"
   ]
  },
  {
   "cell_type": "markdown",
   "id": "e12710e2",
   "metadata": {},
   "source": [
    "Тут все в порядке тоже. Теперь следующий датасет."
   ]
  },
  {
   "cell_type": "code",
   "execution_count": 18,
   "id": "a6db04a4",
   "metadata": {},
   "outputs": [
    {
     "data": {
      "text/html": [
       "<div>\n",
       "<style scoped>\n",
       "    .dataframe tbody tr th:only-of-type {\n",
       "        vertical-align: middle;\n",
       "    }\n",
       "\n",
       "    .dataframe tbody tr th {\n",
       "        vertical-align: top;\n",
       "    }\n",
       "\n",
       "    .dataframe thead th {\n",
       "        text-align: right;\n",
       "    }\n",
       "</style>\n",
       "<table border=\"1\" class=\"dataframe\">\n",
       "  <thead>\n",
       "    <tr style=\"text-align: right;\">\n",
       "      <th></th>\n",
       "      <th>source</th>\n",
       "      <th>date</th>\n",
       "      <th>cost</th>\n",
       "    </tr>\n",
       "  </thead>\n",
       "  <tbody>\n",
       "    <tr>\n",
       "      <th>0</th>\n",
       "      <td>facebook_ads</td>\n",
       "      <td>2020-05-03</td>\n",
       "      <td>935.88</td>\n",
       "    </tr>\n",
       "    <tr>\n",
       "      <th>1</th>\n",
       "      <td>facebook_ads</td>\n",
       "      <td>2020-05-04</td>\n",
       "      <td>548.35</td>\n",
       "    </tr>\n",
       "    <tr>\n",
       "      <th>2</th>\n",
       "      <td>facebook_ads</td>\n",
       "      <td>2020-05-05</td>\n",
       "      <td>260.19</td>\n",
       "    </tr>\n",
       "    <tr>\n",
       "      <th>3</th>\n",
       "      <td>facebook_ads</td>\n",
       "      <td>2020-05-06</td>\n",
       "      <td>177.98</td>\n",
       "    </tr>\n",
       "    <tr>\n",
       "      <th>4</th>\n",
       "      <td>facebook_ads</td>\n",
       "      <td>2020-05-07</td>\n",
       "      <td>111.77</td>\n",
       "    </tr>\n",
       "    <tr>\n",
       "      <th>5</th>\n",
       "      <td>facebook_ads</td>\n",
       "      <td>2020-05-08</td>\n",
       "      <td>68.01</td>\n",
       "    </tr>\n",
       "    <tr>\n",
       "      <th>6</th>\n",
       "      <td>facebook_ads</td>\n",
       "      <td>2020-05-09</td>\n",
       "      <td>38.72</td>\n",
       "    </tr>\n",
       "    <tr>\n",
       "      <th>7</th>\n",
       "      <td>instagram_new_adverts</td>\n",
       "      <td>2020-05-03</td>\n",
       "      <td>943.20</td>\n",
       "    </tr>\n",
       "    <tr>\n",
       "      <th>8</th>\n",
       "      <td>instagram_new_adverts</td>\n",
       "      <td>2020-05-04</td>\n",
       "      <td>502.93</td>\n",
       "    </tr>\n",
       "    <tr>\n",
       "      <th>9</th>\n",
       "      <td>instagram_new_adverts</td>\n",
       "      <td>2020-05-05</td>\n",
       "      <td>313.97</td>\n",
       "    </tr>\n",
       "    <tr>\n",
       "      <th>10</th>\n",
       "      <td>instagram_new_adverts</td>\n",
       "      <td>2020-05-06</td>\n",
       "      <td>173.07</td>\n",
       "    </tr>\n",
       "    <tr>\n",
       "      <th>11</th>\n",
       "      <td>instagram_new_adverts</td>\n",
       "      <td>2020-05-07</td>\n",
       "      <td>109.92</td>\n",
       "    </tr>\n",
       "    <tr>\n",
       "      <th>12</th>\n",
       "      <td>instagram_new_adverts</td>\n",
       "      <td>2020-05-08</td>\n",
       "      <td>71.58</td>\n",
       "    </tr>\n",
       "    <tr>\n",
       "      <th>13</th>\n",
       "      <td>instagram_new_adverts</td>\n",
       "      <td>2020-05-09</td>\n",
       "      <td>46.78</td>\n",
       "    </tr>\n",
       "    <tr>\n",
       "      <th>14</th>\n",
       "      <td>yandex_direct</td>\n",
       "      <td>2020-05-03</td>\n",
       "      <td>969.14</td>\n",
       "    </tr>\n",
       "    <tr>\n",
       "      <th>15</th>\n",
       "      <td>yandex_direct</td>\n",
       "      <td>2020-05-04</td>\n",
       "      <td>554.65</td>\n",
       "    </tr>\n",
       "    <tr>\n",
       "      <th>16</th>\n",
       "      <td>yandex_direct</td>\n",
       "      <td>2020-05-05</td>\n",
       "      <td>308.23</td>\n",
       "    </tr>\n",
       "    <tr>\n",
       "      <th>17</th>\n",
       "      <td>yandex_direct</td>\n",
       "      <td>2020-05-06</td>\n",
       "      <td>180.92</td>\n",
       "    </tr>\n",
       "    <tr>\n",
       "      <th>18</th>\n",
       "      <td>yandex_direct</td>\n",
       "      <td>2020-05-07</td>\n",
       "      <td>114.43</td>\n",
       "    </tr>\n",
       "    <tr>\n",
       "      <th>19</th>\n",
       "      <td>yandex_direct</td>\n",
       "      <td>2020-05-08</td>\n",
       "      <td>62.96</td>\n",
       "    </tr>\n",
       "    <tr>\n",
       "      <th>20</th>\n",
       "      <td>yandex_direct</td>\n",
       "      <td>2020-05-09</td>\n",
       "      <td>42.78</td>\n",
       "    </tr>\n",
       "    <tr>\n",
       "      <th>21</th>\n",
       "      <td>youtube_channel_reklama</td>\n",
       "      <td>2020-05-03</td>\n",
       "      <td>454.22</td>\n",
       "    </tr>\n",
       "    <tr>\n",
       "      <th>22</th>\n",
       "      <td>youtube_channel_reklama</td>\n",
       "      <td>2020-05-04</td>\n",
       "      <td>259.07</td>\n",
       "    </tr>\n",
       "    <tr>\n",
       "      <th>23</th>\n",
       "      <td>youtube_channel_reklama</td>\n",
       "      <td>2020-05-05</td>\n",
       "      <td>147.04</td>\n",
       "    </tr>\n",
       "    <tr>\n",
       "      <th>24</th>\n",
       "      <td>youtube_channel_reklama</td>\n",
       "      <td>2020-05-06</td>\n",
       "      <td>88.51</td>\n",
       "    </tr>\n",
       "    <tr>\n",
       "      <th>25</th>\n",
       "      <td>youtube_channel_reklama</td>\n",
       "      <td>2020-05-07</td>\n",
       "      <td>55.74</td>\n",
       "    </tr>\n",
       "    <tr>\n",
       "      <th>26</th>\n",
       "      <td>youtube_channel_reklama</td>\n",
       "      <td>2020-05-08</td>\n",
       "      <td>40.22</td>\n",
       "    </tr>\n",
       "    <tr>\n",
       "      <th>27</th>\n",
       "      <td>youtube_channel_reklama</td>\n",
       "      <td>2020-05-09</td>\n",
       "      <td>23.31</td>\n",
       "    </tr>\n",
       "  </tbody>\n",
       "</table>\n",
       "</div>"
      ],
      "text/plain": [
       "                     source       date    cost\n",
       "0              facebook_ads 2020-05-03  935.88\n",
       "1              facebook_ads 2020-05-04  548.35\n",
       "2              facebook_ads 2020-05-05  260.19\n",
       "3              facebook_ads 2020-05-06  177.98\n",
       "4              facebook_ads 2020-05-07  111.77\n",
       "5              facebook_ads 2020-05-08   68.01\n",
       "6              facebook_ads 2020-05-09   38.72\n",
       "7     instagram_new_adverts 2020-05-03  943.20\n",
       "8     instagram_new_adverts 2020-05-04  502.93\n",
       "9     instagram_new_adverts 2020-05-05  313.97\n",
       "10    instagram_new_adverts 2020-05-06  173.07\n",
       "11    instagram_new_adverts 2020-05-07  109.92\n",
       "12    instagram_new_adverts 2020-05-08   71.58\n",
       "13    instagram_new_adverts 2020-05-09   46.78\n",
       "14            yandex_direct 2020-05-03  969.14\n",
       "15            yandex_direct 2020-05-04  554.65\n",
       "16            yandex_direct 2020-05-05  308.23\n",
       "17            yandex_direct 2020-05-06  180.92\n",
       "18            yandex_direct 2020-05-07  114.43\n",
       "19            yandex_direct 2020-05-08   62.96\n",
       "20            yandex_direct 2020-05-09   42.78\n",
       "21  youtube_channel_reklama 2020-05-03  454.22\n",
       "22  youtube_channel_reklama 2020-05-04  259.07\n",
       "23  youtube_channel_reklama 2020-05-05  147.04\n",
       "24  youtube_channel_reklama 2020-05-06   88.51\n",
       "25  youtube_channel_reklama 2020-05-07   55.74\n",
       "26  youtube_channel_reklama 2020-05-08   40.22\n",
       "27  youtube_channel_reklama 2020-05-09   23.31"
      ]
     },
     "execution_count": 18,
     "metadata": {},
     "output_type": "execute_result"
    }
   ],
   "source": [
    "try:\n",
    "    ads = pd.read_csv('/Users/sergejnitkin/Final_project/ad_costs.csv', parse_dates=['day'])\n",
    "except:\n",
    "    ads = pd.read_csv('/datasets/ad_costs.csv', parse_dates=['day'])\n",
    "ads = ads.rename(columns={'day' : 'date'})\n",
    "ads['cost'] = ads['cost'].round(2) # округлим до 2 цифр после запятой\n",
    "ads"
   ]
  },
  {
   "cell_type": "code",
   "execution_count": 19,
   "id": "cc1db630",
   "metadata": {},
   "outputs": [
    {
     "name": "stdout",
     "output_type": "stream",
     "text": [
      "<class 'pandas.core.frame.DataFrame'>\n",
      "RangeIndex: 28 entries, 0 to 27\n",
      "Data columns (total 3 columns):\n",
      " #   Column  Non-Null Count  Dtype         \n",
      "---  ------  --------------  -----         \n",
      " 0   source  28 non-null     object        \n",
      " 1   date    28 non-null     datetime64[ns]\n",
      " 2   cost    28 non-null     float64       \n",
      "dtypes: datetime64[ns](1), float64(1), object(1)\n",
      "memory usage: 800.0+ bytes\n"
     ]
    }
   ],
   "source": [
    "ads.info()"
   ]
  },
  {
   "cell_type": "markdown",
   "id": "839e835d",
   "metadata": {},
   "source": [
    "Тут небольшой датасет и глазами видно, что все ок."
   ]
  },
  {
   "cell_type": "markdown",
   "id": "6ba64660",
   "metadata": {},
   "source": [
    "# Исследовательский анализ"
   ]
  },
  {
   "cell_type": "markdown",
   "id": "30096cd2",
   "metadata": {},
   "source": [
    "- ### исследовать сколько пользователей пришли по источнику"
   ]
  },
  {
   "cell_type": "code",
   "execution_count": 20,
   "id": "85549538",
   "metadata": {},
   "outputs": [
    {
     "data": {
      "text/html": [
       "<div>\n",
       "<style scoped>\n",
       "    .dataframe tbody tr th:only-of-type {\n",
       "        vertical-align: middle;\n",
       "    }\n",
       "\n",
       "    .dataframe tbody tr th {\n",
       "        vertical-align: top;\n",
       "    }\n",
       "\n",
       "    .dataframe thead th {\n",
       "        text-align: right;\n",
       "    }\n",
       "</style>\n",
       "<table border=\"1\" class=\"dataframe\">\n",
       "  <thead>\n",
       "    <tr style=\"text-align: right;\">\n",
       "      <th></th>\n",
       "      <th>user_id</th>\n",
       "    </tr>\n",
       "    <tr>\n",
       "      <th>source</th>\n",
       "      <th></th>\n",
       "    </tr>\n",
       "  </thead>\n",
       "  <tbody>\n",
       "    <tr>\n",
       "      <th>youtube_channel_reklama</th>\n",
       "      <td>2686</td>\n",
       "    </tr>\n",
       "    <tr>\n",
       "      <th>facebook_ads</th>\n",
       "      <td>2726</td>\n",
       "    </tr>\n",
       "    <tr>\n",
       "      <th>instagram_new_adverts</th>\n",
       "      <td>3347</td>\n",
       "    </tr>\n",
       "    <tr>\n",
       "      <th>yandex_direct</th>\n",
       "      <td>4817</td>\n",
       "    </tr>\n",
       "  </tbody>\n",
       "</table>\n",
       "</div>"
      ],
      "text/plain": [
       "                         user_id\n",
       "source                          \n",
       "youtube_channel_reklama     2686\n",
       "facebook_ads                2726\n",
       "instagram_new_adverts       3347\n",
       "yandex_direct               4817"
      ]
     },
     "execution_count": 20,
     "metadata": {},
     "output_type": "execute_result"
    }
   ],
   "source": [
    "users.groupby('source').agg({'user_id': 'count'}).sort_values(by='user_id')"
   ]
  },
  {
   "cell_type": "code",
   "execution_count": 21,
   "id": "ce3a8835",
   "metadata": {},
   "outputs": [
    {
     "data": {
      "image/png": "[encoded data removed]",
      "text/plain": [
       "<Figure size 720x720 with 1 Axes>"
      ]
     },
     "metadata": {},
     "output_type": "display_data"
    }
   ],
   "source": [
    "(\n",
    "    users.groupby('source').agg({'user_id': 'count'})\n",
    " .plot(kind='pie', autopct='%1.1f%%', subplots=True, figsize=(10, 10), legend=False)\n",
    ")\n",
    "plt.title('Количество пользователей в разбивке по источникам')\n",
    "plt.ylabel('')\n",
    "plt.show()"
   ]
  },
  {
   "cell_type": "markdown",
   "id": "00fcc2e5",
   "metadata": {},
   "source": [
    "Больше всего пользователей пришло по яндекс директ - 4817 или 35,5%, затем инстаграм (24,7%), потом с почти одинаковым количеством идут фэйсбук и ютуб - около 20% каждый. Таким образом Яндекс директ обеспечил почти треть всего трафика.\n",
    "\n",
    "*некоторые запрещены в России)"
   ]
  },
  {
   "cell_type": "markdown",
   "id": "2c6f2759",
   "metadata": {},
   "source": [
    "- ### Теперь посмотрим на среднюю стоимость привлечения одного пользователя (САС)."
   ]
  },
  {
   "cell_type": "code",
   "execution_count": 22,
   "id": "bcee3701",
   "metadata": {},
   "outputs": [
    {
     "data": {
      "text/html": [
       "<div>\n",
       "<style scoped>\n",
       "    .dataframe tbody tr th:only-of-type {\n",
       "        vertical-align: middle;\n",
       "    }\n",
       "\n",
       "    .dataframe tbody tr th {\n",
       "        vertical-align: top;\n",
       "    }\n",
       "\n",
       "    .dataframe thead th {\n",
       "        text-align: right;\n",
       "    }\n",
       "</style>\n",
       "<table border=\"1\" class=\"dataframe\">\n",
       "  <thead>\n",
       "    <tr style=\"text-align: right;\">\n",
       "      <th></th>\n",
       "      <th>source</th>\n",
       "      <th>cost</th>\n",
       "      <th>user_id</th>\n",
       "    </tr>\n",
       "  </thead>\n",
       "  <tbody>\n",
       "    <tr>\n",
       "      <th>0</th>\n",
       "      <td>facebook_ads</td>\n",
       "      <td>2140.90</td>\n",
       "      <td>2726</td>\n",
       "    </tr>\n",
       "    <tr>\n",
       "      <th>1</th>\n",
       "      <td>instagram_new_adverts</td>\n",
       "      <td>2161.45</td>\n",
       "      <td>3347</td>\n",
       "    </tr>\n",
       "    <tr>\n",
       "      <th>2</th>\n",
       "      <td>yandex_direct</td>\n",
       "      <td>2233.11</td>\n",
       "      <td>4817</td>\n",
       "    </tr>\n",
       "    <tr>\n",
       "      <th>3</th>\n",
       "      <td>youtube_channel_reklama</td>\n",
       "      <td>1068.11</td>\n",
       "      <td>2686</td>\n",
       "    </tr>\n",
       "  </tbody>\n",
       "</table>\n",
       "</div>"
      ],
      "text/plain": [
       "                    source     cost  user_id\n",
       "0             facebook_ads  2140.90     2726\n",
       "1    instagram_new_adverts  2161.45     3347\n",
       "2            yandex_direct  2233.11     4817\n",
       "3  youtube_channel_reklama  1068.11     2686"
      ]
     },
     "execution_count": 22,
     "metadata": {},
     "output_type": "execute_result"
    }
   ],
   "source": [
    "user_cost = (\n",
    "    ads.groupby('source').agg({'cost': 'sum'})\n",
    "    .merge(users.groupby('source', as_index=False).agg({'user_id': 'count'}), on='source')\n",
    "            )\n",
    "user_cost"
   ]
  },
  {
   "cell_type": "code",
   "execution_count": 23,
   "id": "d8b227e6",
   "metadata": {},
   "outputs": [
    {
     "data": {
      "text/html": [
       "<div>\n",
       "<style scoped>\n",
       "    .dataframe tbody tr th:only-of-type {\n",
       "        vertical-align: middle;\n",
       "    }\n",
       "\n",
       "    .dataframe tbody tr th {\n",
       "        vertical-align: top;\n",
       "    }\n",
       "\n",
       "    .dataframe thead th {\n",
       "        text-align: right;\n",
       "    }\n",
       "</style>\n",
       "<table border=\"1\" class=\"dataframe\">\n",
       "  <thead>\n",
       "    <tr style=\"text-align: right;\">\n",
       "      <th></th>\n",
       "      <th>cost</th>\n",
       "      <th>user_id</th>\n",
       "      <th>cost_by_user</th>\n",
       "    </tr>\n",
       "    <tr>\n",
       "      <th>source</th>\n",
       "      <th></th>\n",
       "      <th></th>\n",
       "      <th></th>\n",
       "    </tr>\n",
       "  </thead>\n",
       "  <tbody>\n",
       "    <tr>\n",
       "      <th>facebook_ads</th>\n",
       "      <td>2140.90</td>\n",
       "      <td>2726</td>\n",
       "      <td>0.785363</td>\n",
       "    </tr>\n",
       "    <tr>\n",
       "      <th>instagram_new_adverts</th>\n",
       "      <td>2161.45</td>\n",
       "      <td>3347</td>\n",
       "      <td>0.645787</td>\n",
       "    </tr>\n",
       "    <tr>\n",
       "      <th>yandex_direct</th>\n",
       "      <td>2233.11</td>\n",
       "      <td>4817</td>\n",
       "      <td>0.463589</td>\n",
       "    </tr>\n",
       "    <tr>\n",
       "      <th>youtube_channel_reklama</th>\n",
       "      <td>1068.11</td>\n",
       "      <td>2686</td>\n",
       "      <td>0.397658</td>\n",
       "    </tr>\n",
       "  </tbody>\n",
       "</table>\n",
       "</div>"
      ],
      "text/plain": [
       "                            cost  user_id  cost_by_user\n",
       "source                                                 \n",
       "facebook_ads             2140.90     2726      0.785363\n",
       "instagram_new_adverts    2161.45     3347      0.645787\n",
       "yandex_direct            2233.11     4817      0.463589\n",
       "youtube_channel_reklama  1068.11     2686      0.397658"
      ]
     },
     "execution_count": 23,
     "metadata": {},
     "output_type": "execute_result"
    }
   ],
   "source": [
    "user_cost['cost_by_user'] = user_cost['cost'] / user_cost['user_id']\n",
    "user_cost = user_cost.set_index('source')\n",
    "user_cost"
   ]
  },
  {
   "cell_type": "code",
   "execution_count": 24,
   "id": "2ecc3890",
   "metadata": {},
   "outputs": [
    {
     "data": {
      "image/png": "[encoded data removed]",
      "text/plain": [
       "<Figure size 720x432 with 1 Axes>"
      ]
     },
     "metadata": {
      "needs_background": "light"
     },
     "output_type": "display_data"
    }
   ],
   "source": [
    "user_cost['cost_by_user'].plot(kind='bar', grid=True, figsize =(10, 6), ylabel='cost')\n",
    "plt.show()"
   ]
  },
  {
   "cell_type": "markdown",
   "id": "4bae757a",
   "metadata": {},
   "source": [
    "Тут мы видим, что самый дешевый пользователь ютуба, затем идет яндекс, затем инстаграм и потом уже фэйсбук. Стоит заметить, что стоимость привлечения через фэйсбук около 2х раз выше, чем у ютуба. Тут возможно стоит обратить внимание на ютуб, тк там самый низкий САС, а через этот канал привлекается всего 19,8% игроков, но окончательно об этом можно будет говорить только после анализа поведения игроков."
   ]
  },
  {
   "cell_type": "markdown",
   "id": "53350b28",
   "metadata": {},
   "source": [
    "## Далее посмотрим на пользователей и то, как они взаимодействуют с игрой."
   ]
  },
  {
   "cell_type": "markdown",
   "id": "aa80b865",
   "metadata": {},
   "source": [
    "для полноты картины добавим 2 столбца\n",
    "1. день события\n",
    "2. источник, по которому пришел пользователь"
   ]
  },
  {
   "cell_type": "code",
   "execution_count": 25,
   "id": "b146bab3",
   "metadata": {},
   "outputs": [
    {
     "data": {
      "text/html": [
       "<div>\n",
       "<style scoped>\n",
       "    .dataframe tbody tr th:only-of-type {\n",
       "        vertical-align: middle;\n",
       "    }\n",
       "\n",
       "    .dataframe tbody tr th {\n",
       "        vertical-align: top;\n",
       "    }\n",
       "\n",
       "    .dataframe thead th {\n",
       "        text-align: right;\n",
       "    }\n",
       "</style>\n",
       "<table border=\"1\" class=\"dataframe\">\n",
       "  <thead>\n",
       "    <tr style=\"text-align: right;\">\n",
       "      <th></th>\n",
       "      <th>event_dt</th>\n",
       "      <th>event</th>\n",
       "      <th>building_type</th>\n",
       "      <th>user_id</th>\n",
       "      <th>project_type</th>\n",
       "      <th>event_date</th>\n",
       "      <th>source</th>\n",
       "    </tr>\n",
       "  </thead>\n",
       "  <tbody>\n",
       "    <tr>\n",
       "      <th>0</th>\n",
       "      <td>2020-05-04 00:00:01</td>\n",
       "      <td>building</td>\n",
       "      <td>assembly_shop</td>\n",
       "      <td>55e92310-cb8e-4754-b622-597e124b03de</td>\n",
       "      <td>NaN</td>\n",
       "      <td>2020-05-04</td>\n",
       "      <td>youtube_channel_reklama</td>\n",
       "    </tr>\n",
       "    <tr>\n",
       "      <th>1</th>\n",
       "      <td>2020-05-04 00:00:03</td>\n",
       "      <td>building</td>\n",
       "      <td>assembly_shop</td>\n",
       "      <td>c07b1c10-f477-44dc-81dc-ec82254b1347</td>\n",
       "      <td>NaN</td>\n",
       "      <td>2020-05-04</td>\n",
       "      <td>facebook_ads</td>\n",
       "    </tr>\n",
       "    <tr>\n",
       "      <th>2</th>\n",
       "      <td>2020-05-04 00:00:16</td>\n",
       "      <td>building</td>\n",
       "      <td>assembly_shop</td>\n",
       "      <td>6edd42cc-e753-4ff6-a947-2107cd560710</td>\n",
       "      <td>NaN</td>\n",
       "      <td>2020-05-04</td>\n",
       "      <td>instagram_new_adverts</td>\n",
       "    </tr>\n",
       "    <tr>\n",
       "      <th>3</th>\n",
       "      <td>2020-05-04 00:00:16</td>\n",
       "      <td>building</td>\n",
       "      <td>assembly_shop</td>\n",
       "      <td>92c69003-d60a-444a-827f-8cc51bf6bf4c</td>\n",
       "      <td>NaN</td>\n",
       "      <td>2020-05-04</td>\n",
       "      <td>facebook_ads</td>\n",
       "    </tr>\n",
       "    <tr>\n",
       "      <th>4</th>\n",
       "      <td>2020-05-04 00:00:35</td>\n",
       "      <td>building</td>\n",
       "      <td>assembly_shop</td>\n",
       "      <td>cdc6bb92-0ccb-4490-9866-ef142f09139d</td>\n",
       "      <td>NaN</td>\n",
       "      <td>2020-05-04</td>\n",
       "      <td>yandex_direct</td>\n",
       "    </tr>\n",
       "    <tr>\n",
       "      <th>...</th>\n",
       "      <td>...</td>\n",
       "      <td>...</td>\n",
       "      <td>...</td>\n",
       "      <td>...</td>\n",
       "      <td>...</td>\n",
       "      <td>...</td>\n",
       "      <td>...</td>\n",
       "    </tr>\n",
       "    <tr>\n",
       "      <th>135634</th>\n",
       "      <td>2020-06-05 00:08:06</td>\n",
       "      <td>building</td>\n",
       "      <td>research_center</td>\n",
       "      <td>f21d179f-1c4b-437e-b9c6-ab1976907195</td>\n",
       "      <td>NaN</td>\n",
       "      <td>2020-06-05</td>\n",
       "      <td>instagram_new_adverts</td>\n",
       "    </tr>\n",
       "    <tr>\n",
       "      <th>135635</th>\n",
       "      <td>2020-06-05 02:25:12</td>\n",
       "      <td>finished_stage_1</td>\n",
       "      <td>NaN</td>\n",
       "      <td>515c1952-99aa-4bca-a7ea-d0449eb5385a</td>\n",
       "      <td>NaN</td>\n",
       "      <td>2020-06-05</td>\n",
       "      <td>yandex_direct</td>\n",
       "    </tr>\n",
       "    <tr>\n",
       "      <th>135636</th>\n",
       "      <td>2020-06-05 08:57:52</td>\n",
       "      <td>building</td>\n",
       "      <td>research_center</td>\n",
       "      <td>ed3e7d02-8a96-4be7-9998-e9813ff9c316</td>\n",
       "      <td>NaN</td>\n",
       "      <td>2020-06-05</td>\n",
       "      <td>youtube_channel_reklama</td>\n",
       "    </tr>\n",
       "    <tr>\n",
       "      <th>135637</th>\n",
       "      <td>2020-06-05 12:12:27</td>\n",
       "      <td>finished_stage_1</td>\n",
       "      <td>NaN</td>\n",
       "      <td>32572adb-900f-4b5d-a453-1eb1e6d88d8b</td>\n",
       "      <td>NaN</td>\n",
       "      <td>2020-06-05</td>\n",
       "      <td>facebook_ads</td>\n",
       "    </tr>\n",
       "    <tr>\n",
       "      <th>135638</th>\n",
       "      <td>2020-06-05 12:32:49</td>\n",
       "      <td>finished_stage_1</td>\n",
       "      <td>NaN</td>\n",
       "      <td>f21d179f-1c4b-437e-b9c6-ab1976907195</td>\n",
       "      <td>NaN</td>\n",
       "      <td>2020-06-05</td>\n",
       "      <td>instagram_new_adverts</td>\n",
       "    </tr>\n",
       "  </tbody>\n",
       "</table>\n",
       "<p>135639 rows × 7 columns</p>\n",
       "</div>"
      ],
      "text/plain": [
       "                  event_dt             event    building_type  \\\n",
       "0      2020-05-04 00:00:01          building    assembly_shop   \n",
       "1      2020-05-04 00:00:03          building    assembly_shop   \n",
       "2      2020-05-04 00:00:16          building    assembly_shop   \n",
       "3      2020-05-04 00:00:16          building    assembly_shop   \n",
       "4      2020-05-04 00:00:35          building    assembly_shop   \n",
       "...                    ...               ...              ...   \n",
       "135634 2020-06-05 00:08:06          building  research_center   \n",
       "135635 2020-06-05 02:25:12  finished_stage_1              NaN   \n",
       "135636 2020-06-05 08:57:52          building  research_center   \n",
       "135637 2020-06-05 12:12:27  finished_stage_1              NaN   \n",
       "135638 2020-06-05 12:32:49  finished_stage_1              NaN   \n",
       "\n",
       "                                     user_id project_type  event_date  \\\n",
       "0       55e92310-cb8e-4754-b622-597e124b03de          NaN  2020-05-04   \n",
       "1       c07b1c10-f477-44dc-81dc-ec82254b1347          NaN  2020-05-04   \n",
       "2       6edd42cc-e753-4ff6-a947-2107cd560710          NaN  2020-05-04   \n",
       "3       92c69003-d60a-444a-827f-8cc51bf6bf4c          NaN  2020-05-04   \n",
       "4       cdc6bb92-0ccb-4490-9866-ef142f09139d          NaN  2020-05-04   \n",
       "...                                      ...          ...         ...   \n",
       "135634  f21d179f-1c4b-437e-b9c6-ab1976907195          NaN  2020-06-05   \n",
       "135635  515c1952-99aa-4bca-a7ea-d0449eb5385a          NaN  2020-06-05   \n",
       "135636  ed3e7d02-8a96-4be7-9998-e9813ff9c316          NaN  2020-06-05   \n",
       "135637  32572adb-900f-4b5d-a453-1eb1e6d88d8b          NaN  2020-06-05   \n",
       "135638  f21d179f-1c4b-437e-b9c6-ab1976907195          NaN  2020-06-05   \n",
       "\n",
       "                         source  \n",
       "0       youtube_channel_reklama  \n",
       "1                  facebook_ads  \n",
       "2         instagram_new_adverts  \n",
       "3                  facebook_ads  \n",
       "4                 yandex_direct  \n",
       "...                         ...  \n",
       "135634    instagram_new_adverts  \n",
       "135635            yandex_direct  \n",
       "135636  youtube_channel_reklama  \n",
       "135637             facebook_ads  \n",
       "135638    instagram_new_adverts  \n",
       "\n",
       "[135639 rows x 7 columns]"
      ]
     },
     "execution_count": 25,
     "metadata": {},
     "output_type": "execute_result"
    }
   ],
   "source": [
    "actions['event_date'] = pd.to_datetime(actions['event_dt']).dt.date\n",
    "actions = actions.merge(users, on='user_id', how='left')\n",
    "actions"
   ]
  },
  {
   "cell_type": "markdown",
   "id": "c3d8996c",
   "metadata": {},
   "source": [
    "- ####  исследовать долю прошедших на второй этап от кол-ва привлеченных по источникам"
   ]
  },
  {
   "cell_type": "code",
   "execution_count": 26,
   "id": "bd64a8a2",
   "metadata": {},
   "outputs": [
    {
     "data": {
      "text/html": [
       "<div>\n",
       "<style scoped>\n",
       "    .dataframe tbody tr th:only-of-type {\n",
       "        vertical-align: middle;\n",
       "    }\n",
       "\n",
       "    .dataframe tbody tr th {\n",
       "        vertical-align: top;\n",
       "    }\n",
       "\n",
       "    .dataframe thead th {\n",
       "        text-align: right;\n",
       "    }\n",
       "</style>\n",
       "<table border=\"1\" class=\"dataframe\">\n",
       "  <thead>\n",
       "    <tr style=\"text-align: right;\">\n",
       "      <th></th>\n",
       "      <th>user_id</th>\n",
       "    </tr>\n",
       "    <tr>\n",
       "      <th>event</th>\n",
       "      <th></th>\n",
       "    </tr>\n",
       "  </thead>\n",
       "  <tbody>\n",
       "    <tr>\n",
       "      <th>building</th>\n",
       "      <td>13576</td>\n",
       "    </tr>\n",
       "    <tr>\n",
       "      <th>finished_stage_1</th>\n",
       "      <td>5817</td>\n",
       "    </tr>\n",
       "    <tr>\n",
       "      <th>project</th>\n",
       "      <td>1866</td>\n",
       "    </tr>\n",
       "  </tbody>\n",
       "</table>\n",
       "</div>"
      ],
      "text/plain": [
       "                  user_id\n",
       "event                    \n",
       "building            13576\n",
       "finished_stage_1     5817\n",
       "project              1866"
      ]
     },
     "execution_count": 26,
     "metadata": {},
     "output_type": "execute_result"
    }
   ],
   "source": [
    "actions.groupby('event').agg({'user_id': 'nunique'})"
   ]
  },
  {
   "cell_type": "code",
   "execution_count": 27,
   "id": "5fe3df95",
   "metadata": {},
   "outputs": [
    {
     "data": {
      "text/plain": [
       "13576"
      ]
     },
     "execution_count": 27,
     "metadata": {},
     "output_type": "execute_result"
    }
   ],
   "source": [
    "actions['user_id'].nunique()"
   ]
  },
  {
   "cell_type": "markdown",
   "id": "2c031e0f",
   "metadata": {},
   "source": [
    "Если взять в расчет, что постройка одного здания - это участие, то finished_stage_1 - это переход игрока на следующий уровень, а project - это победа игрока по стратегии PvE. Тогда получается, что из 13576 участников на второй уровень проходят 5817 участников, что составляет около 42,8%. Из них на следующий этап проходят путем победы над игроком 3951 игрок (68%), и оставшиеся 1866 (32%) игроков проходят путем выполнения проекта."
   ]
  },
  {
   "cell_type": "markdown",
   "id": "f163294b",
   "metadata": {},
   "source": [
    "#### Далее посмотрим на распределение источников среди победителей."
   ]
  },
  {
   "cell_type": "code",
   "execution_count": 28,
   "id": "9bf16533",
   "metadata": {},
   "outputs": [
    {
     "data": {
      "text/html": [
       "<div>\n",
       "<style scoped>\n",
       "    .dataframe tbody tr th:only-of-type {\n",
       "        vertical-align: middle;\n",
       "    }\n",
       "\n",
       "    .dataframe tbody tr th {\n",
       "        vertical-align: top;\n",
       "    }\n",
       "\n",
       "    .dataframe thead th {\n",
       "        text-align: right;\n",
       "    }\n",
       "</style>\n",
       "<table border=\"1\" class=\"dataframe\">\n",
       "  <thead>\n",
       "    <tr style=\"text-align: right;\">\n",
       "      <th>event</th>\n",
       "      <th>source</th>\n",
       "      <th>players</th>\n",
       "      <th>finished_stage_1</th>\n",
       "      <th>pve_winners</th>\n",
       "      <th>pvp_winners</th>\n",
       "    </tr>\n",
       "  </thead>\n",
       "  <tbody>\n",
       "    <tr>\n",
       "      <th>2</th>\n",
       "      <td>yandex_direct</td>\n",
       "      <td>4817</td>\n",
       "      <td>2042</td>\n",
       "      <td>620</td>\n",
       "      <td>1422</td>\n",
       "    </tr>\n",
       "    <tr>\n",
       "      <th>1</th>\n",
       "      <td>instagram_new_adverts</td>\n",
       "      <td>3347</td>\n",
       "      <td>1466</td>\n",
       "      <td>476</td>\n",
       "      <td>990</td>\n",
       "    </tr>\n",
       "    <tr>\n",
       "      <th>0</th>\n",
       "      <td>facebook_ads</td>\n",
       "      <td>2726</td>\n",
       "      <td>1150</td>\n",
       "      <td>391</td>\n",
       "      <td>759</td>\n",
       "    </tr>\n",
       "    <tr>\n",
       "      <th>3</th>\n",
       "      <td>youtube_channel_reklama</td>\n",
       "      <td>2686</td>\n",
       "      <td>1159</td>\n",
       "      <td>379</td>\n",
       "      <td>780</td>\n",
       "    </tr>\n",
       "  </tbody>\n",
       "</table>\n",
       "</div>"
      ],
      "text/plain": [
       "event                   source  players  finished_stage_1  pve_winners  \\\n",
       "2                yandex_direct     4817              2042          620   \n",
       "1        instagram_new_adverts     3347              1466          476   \n",
       "0                 facebook_ads     2726              1150          391   \n",
       "3      youtube_channel_reklama     2686              1159          379   \n",
       "\n",
       "event  pvp_winners  \n",
       "2             1422  \n",
       "1              990  \n",
       "0              759  \n",
       "3              780  "
      ]
     },
     "execution_count": 28,
     "metadata": {},
     "output_type": "execute_result"
    }
   ],
   "source": [
    "winners = actions.pivot_table(index='source', columns='event', values='user_id', aggfunc='nunique').reset_index()\n",
    "winners = winners.sort_values(by='building', ascending=False)\n",
    "winners['pvp_winners'] = winners['finished_stage_1'] - winners['project']\n",
    "winners = winners.rename(columns={'building': 'players', 'project': 'pve_winners'})\n",
    "winners"
   ]
  },
  {
   "cell_type": "code",
   "execution_count": 29,
   "id": "aa2cdf2d",
   "metadata": {},
   "outputs": [
    {
     "data": {
      "image/png": "[encoded data removed]",
      "text/plain": [
       "<Figure size 1080x288 with 1 Axes>"
      ]
     },
     "metadata": {
      "needs_background": "light"
     },
     "output_type": "display_data"
    }
   ],
   "source": [
    "f, ax = plt.subplots(figsize = (15,4))\n",
    "\n",
    "sns.set_color_codes('pastel')\n",
    "sns.barplot(x = (winners['players'] / winners['players'] * 100).round(2)\n",
    "            , y = 'source', data = winners, color = 'b', edgecolor = 'w')\n",
    "\n",
    "sns.set_color_codes('deep')\n",
    "sns.barplot(x = (winners['finished_stage_1'] / winners['players'] * 100).round(2), y = 'source', data = winners,\n",
    "            label = 'Total Winners %', color = 'b', edgecolor = 'w')\n",
    "plt.xlabel(\"WINNERS %\")\n",
    "plt.title('Доля победителей среди игроков в разбивке по платформам')\n",
    "plt.grid(True)\n",
    "ax.legend()\n",
    "plt.show()"
   ]
  },
  {
   "cell_type": "markdown",
   "id": "1a222834",
   "metadata": {},
   "source": [
    "Если смотреть в разрезе по источникам, то тут картина примерно одинаковая, хуже всех проходят игру пользователи из фейсбука, лучше всех из инстаграма."
   ]
  },
  {
   "cell_type": "code",
   "execution_count": 30,
   "id": "d650e47b",
   "metadata": {},
   "outputs": [
    {
     "data": {
      "image/png": "[encoded data removed]",
      "text/plain": [
       "<Figure size 1080x288 with 1 Axes>"
      ]
     },
     "metadata": {
      "needs_background": "light"
     },
     "output_type": "display_data"
    }
   ],
   "source": [
    "f, ax = plt.subplots(figsize = (15,4))\n",
    "\n",
    "sns.set_color_codes('pastel')\n",
    "sns.barplot(x = (winners['finished_stage_1'] / winners['finished_stage_1'] * 100).round(2)\n",
    "            , y = 'source', data = winners, label = 'PvP %', color = 'b', edgecolor = 'w')\n",
    "\n",
    "sns.set_color_codes('deep')\n",
    "sns.barplot(x = (winners['pve_winners'] / winners['finished_stage_1'] * 100).round(2), \n",
    "            y = 'source', data = winners,\n",
    "            label = 'PvE (%)', color = 'b', edgecolor = 'w')\n",
    "plt.xlabel(\"PvE (%)\")\n",
    "plt.title('Доля PvE игроков среди победителей в разбивке по платформам')\n",
    "plt.grid(True)\n",
    "\n",
    "plt.show()"
   ]
  },
  {
   "cell_type": "markdown",
   "id": "aee4ffcc",
   "metadata": {},
   "source": [
    "Итак, получается стратегии победителей в разбивке по источникам (PvE/ PvP) %:\n",
    "- яндекс 30/ 70\n",
    "- инстаграм 32,5/ 67,5\n",
    "- фэйсбук 34/ 66\n",
    "- ютуб 32,7/ 67,3\n",
    "\n",
    "пользователи инстаграма и ютуба распределились примерно одинаково, больше всего же PvE победителей пришли из фэйсбука."
   ]
  },
  {
   "cell_type": "markdown",
   "id": "7932616b",
   "metadata": {},
   "source": [
    "- ### проанализировать сколько времени игроки проводят в игре"
   ]
  },
  {
   "cell_type": "markdown",
   "id": "c0e1ffc8",
   "metadata": {},
   "source": [
    "Соберем под это дело датафрейм с минимальной и максимальной датой события по игроку и таймдельтой"
   ]
  },
  {
   "cell_type": "code",
   "execution_count": 31,
   "id": "53aeb312",
   "metadata": {},
   "outputs": [
    {
     "data": {
      "text/html": [
       "<div>\n",
       "<style scoped>\n",
       "    .dataframe tbody tr th:only-of-type {\n",
       "        vertical-align: middle;\n",
       "    }\n",
       "\n",
       "    .dataframe tbody tr th {\n",
       "        vertical-align: top;\n",
       "    }\n",
       "\n",
       "    .dataframe thead th {\n",
       "        text-align: right;\n",
       "    }\n",
       "</style>\n",
       "<table border=\"1\" class=\"dataframe\">\n",
       "  <thead>\n",
       "    <tr style=\"text-align: right;\">\n",
       "      <th></th>\n",
       "      <th>user_id</th>\n",
       "      <th>min</th>\n",
       "      <th>max</th>\n",
       "      <th>timedelta_days</th>\n",
       "    </tr>\n",
       "  </thead>\n",
       "  <tbody>\n",
       "    <tr>\n",
       "      <th>0</th>\n",
       "      <td>0001f83c-c6ac-4621-b7f0-8a28b283ac30</td>\n",
       "      <td>2020-05-06 01:07:37</td>\n",
       "      <td>2020-05-20 11:26:06</td>\n",
       "      <td>14 days 10:18:29</td>\n",
       "    </tr>\n",
       "    <tr>\n",
       "      <th>1</th>\n",
       "      <td>00151b4f-ba38-44a8-a650-d7cf130a0105</td>\n",
       "      <td>2020-05-06 03:09:12</td>\n",
       "      <td>2020-05-18 10:46:52</td>\n",
       "      <td>12 days 07:37:40</td>\n",
       "    </tr>\n",
       "    <tr>\n",
       "      <th>2</th>\n",
       "      <td>001aaea6-3d14-43f1-8ca8-7f48820f17aa</td>\n",
       "      <td>2020-05-05 18:08:52</td>\n",
       "      <td>2020-05-14 09:21:27</td>\n",
       "      <td>8 days 15:12:35</td>\n",
       "    </tr>\n",
       "    <tr>\n",
       "      <th>3</th>\n",
       "      <td>001d39dc-366c-4021-9604-6a3b9ff01e25</td>\n",
       "      <td>2020-05-05 21:02:05</td>\n",
       "      <td>2020-05-12 07:40:47</td>\n",
       "      <td>6 days 10:38:42</td>\n",
       "    </tr>\n",
       "    <tr>\n",
       "      <th>4</th>\n",
       "      <td>002f508f-67b6-479f-814b-b05f00d4e995</td>\n",
       "      <td>2020-05-05 13:49:58</td>\n",
       "      <td>2020-05-22 02:46:45</td>\n",
       "      <td>16 days 12:56:47</td>\n",
       "    </tr>\n",
       "    <tr>\n",
       "      <th>...</th>\n",
       "      <td>...</td>\n",
       "      <td>...</td>\n",
       "      <td>...</td>\n",
       "      <td>...</td>\n",
       "    </tr>\n",
       "    <tr>\n",
       "      <th>13571</th>\n",
       "      <td>ffef4fed-164c-40e1-bde1-3980f76d0fb5</td>\n",
       "      <td>2020-05-04 01:58:59</td>\n",
       "      <td>2020-05-11 22:15:54</td>\n",
       "      <td>7 days 20:16:55</td>\n",
       "    </tr>\n",
       "    <tr>\n",
       "      <th>13572</th>\n",
       "      <td>fffab3da-da0e-4e30-ae62-10d0a2e24a4e</td>\n",
       "      <td>2020-05-04 11:58:14</td>\n",
       "      <td>2020-05-14 10:11:36</td>\n",
       "      <td>9 days 22:13:22</td>\n",
       "    </tr>\n",
       "    <tr>\n",
       "      <th>13573</th>\n",
       "      <td>fffb626c-5ab6-47c9-8113-2062a2f18494</td>\n",
       "      <td>2020-05-04 02:05:09</td>\n",
       "      <td>2020-05-12 13:01:52</td>\n",
       "      <td>8 days 10:56:43</td>\n",
       "    </tr>\n",
       "    <tr>\n",
       "      <th>13574</th>\n",
       "      <td>ffff194a-56b7-4c12-860d-3485242ae7f5</td>\n",
       "      <td>2020-05-04 20:28:28</td>\n",
       "      <td>2020-05-11 22:04:30</td>\n",
       "      <td>7 days 01:36:02</td>\n",
       "    </tr>\n",
       "    <tr>\n",
       "      <th>13575</th>\n",
       "      <td>ffff69cc-fec1-4fd3-9f98-93be1112a6b8</td>\n",
       "      <td>2020-05-08 06:57:30</td>\n",
       "      <td>2020-05-25 14:05:51</td>\n",
       "      <td>17 days 07:08:21</td>\n",
       "    </tr>\n",
       "  </tbody>\n",
       "</table>\n",
       "<p>13576 rows × 4 columns</p>\n",
       "</div>"
      ],
      "text/plain": [
       "                                    user_id                 min  \\\n",
       "0      0001f83c-c6ac-4621-b7f0-8a28b283ac30 2020-05-06 01:07:37   \n",
       "1      00151b4f-ba38-44a8-a650-d7cf130a0105 2020-05-06 03:09:12   \n",
       "2      001aaea6-3d14-43f1-8ca8-7f48820f17aa 2020-05-05 18:08:52   \n",
       "3      001d39dc-366c-4021-9604-6a3b9ff01e25 2020-05-05 21:02:05   \n",
       "4      002f508f-67b6-479f-814b-b05f00d4e995 2020-05-05 13:49:58   \n",
       "...                                     ...                 ...   \n",
       "13571  ffef4fed-164c-40e1-bde1-3980f76d0fb5 2020-05-04 01:58:59   \n",
       "13572  fffab3da-da0e-4e30-ae62-10d0a2e24a4e 2020-05-04 11:58:14   \n",
       "13573  fffb626c-5ab6-47c9-8113-2062a2f18494 2020-05-04 02:05:09   \n",
       "13574  ffff194a-56b7-4c12-860d-3485242ae7f5 2020-05-04 20:28:28   \n",
       "13575  ffff69cc-fec1-4fd3-9f98-93be1112a6b8 2020-05-08 06:57:30   \n",
       "\n",
       "                      max   timedelta_days  \n",
       "0     2020-05-20 11:26:06 14 days 10:18:29  \n",
       "1     2020-05-18 10:46:52 12 days 07:37:40  \n",
       "2     2020-05-14 09:21:27  8 days 15:12:35  \n",
       "3     2020-05-12 07:40:47  6 days 10:38:42  \n",
       "4     2020-05-22 02:46:45 16 days 12:56:47  \n",
       "...                   ...              ...  \n",
       "13571 2020-05-11 22:15:54  7 days 20:16:55  \n",
       "13572 2020-05-14 10:11:36  9 days 22:13:22  \n",
       "13573 2020-05-12 13:01:52  8 days 10:56:43  \n",
       "13574 2020-05-11 22:04:30  7 days 01:36:02  \n",
       "13575 2020-05-25 14:05:51 17 days 07:08:21  \n",
       "\n",
       "[13576 rows x 4 columns]"
      ]
     },
     "execution_count": 31,
     "metadata": {},
     "output_type": "execute_result"
    }
   ],
   "source": [
    "time = actions.groupby('user_id').agg({'event_dt': 'min'})\n",
    "max_t = actions.groupby('user_id').agg({'event_dt': 'max'})\n",
    "time = time.merge(max_t, on='user_id').reset_index()\n",
    "time = time.rename(columns={'event_dt_x': 'min', 'event_dt_y': 'max'})\n",
    "time['timedelta_days'] = time['max'] - time['min']\n",
    "time"
   ]
  },
  {
   "cell_type": "code",
   "execution_count": 32,
   "id": "e86ea8c4",
   "metadata": {},
   "outputs": [
    {
     "data": {
      "text/html": [
       "<div>\n",
       "<style scoped>\n",
       "    .dataframe tbody tr th:only-of-type {\n",
       "        vertical-align: middle;\n",
       "    }\n",
       "\n",
       "    .dataframe tbody tr th {\n",
       "        vertical-align: top;\n",
       "    }\n",
       "\n",
       "    .dataframe thead th {\n",
       "        text-align: right;\n",
       "    }\n",
       "</style>\n",
       "<table border=\"1\" class=\"dataframe\">\n",
       "  <thead>\n",
       "    <tr style=\"text-align: right;\">\n",
       "      <th></th>\n",
       "      <th>user_id</th>\n",
       "      <th>min</th>\n",
       "      <th>max</th>\n",
       "      <th>timedelta_days</th>\n",
       "    </tr>\n",
       "  </thead>\n",
       "  <tbody>\n",
       "    <tr>\n",
       "      <th>0</th>\n",
       "      <td>0001f83c-c6ac-4621-b7f0-8a28b283ac30</td>\n",
       "      <td>2020-05-06 01:07:37</td>\n",
       "      <td>2020-05-20 11:26:06</td>\n",
       "      <td>14</td>\n",
       "    </tr>\n",
       "    <tr>\n",
       "      <th>1</th>\n",
       "      <td>00151b4f-ba38-44a8-a650-d7cf130a0105</td>\n",
       "      <td>2020-05-06 03:09:12</td>\n",
       "      <td>2020-05-18 10:46:52</td>\n",
       "      <td>12</td>\n",
       "    </tr>\n",
       "    <tr>\n",
       "      <th>2</th>\n",
       "      <td>001aaea6-3d14-43f1-8ca8-7f48820f17aa</td>\n",
       "      <td>2020-05-05 18:08:52</td>\n",
       "      <td>2020-05-14 09:21:27</td>\n",
       "      <td>8</td>\n",
       "    </tr>\n",
       "    <tr>\n",
       "      <th>3</th>\n",
       "      <td>001d39dc-366c-4021-9604-6a3b9ff01e25</td>\n",
       "      <td>2020-05-05 21:02:05</td>\n",
       "      <td>2020-05-12 07:40:47</td>\n",
       "      <td>6</td>\n",
       "    </tr>\n",
       "    <tr>\n",
       "      <th>4</th>\n",
       "      <td>002f508f-67b6-479f-814b-b05f00d4e995</td>\n",
       "      <td>2020-05-05 13:49:58</td>\n",
       "      <td>2020-05-22 02:46:45</td>\n",
       "      <td>16</td>\n",
       "    </tr>\n",
       "    <tr>\n",
       "      <th>...</th>\n",
       "      <td>...</td>\n",
       "      <td>...</td>\n",
       "      <td>...</td>\n",
       "      <td>...</td>\n",
       "    </tr>\n",
       "    <tr>\n",
       "      <th>13571</th>\n",
       "      <td>ffef4fed-164c-40e1-bde1-3980f76d0fb5</td>\n",
       "      <td>2020-05-04 01:58:59</td>\n",
       "      <td>2020-05-11 22:15:54</td>\n",
       "      <td>7</td>\n",
       "    </tr>\n",
       "    <tr>\n",
       "      <th>13572</th>\n",
       "      <td>fffab3da-da0e-4e30-ae62-10d0a2e24a4e</td>\n",
       "      <td>2020-05-04 11:58:14</td>\n",
       "      <td>2020-05-14 10:11:36</td>\n",
       "      <td>9</td>\n",
       "    </tr>\n",
       "    <tr>\n",
       "      <th>13573</th>\n",
       "      <td>fffb626c-5ab6-47c9-8113-2062a2f18494</td>\n",
       "      <td>2020-05-04 02:05:09</td>\n",
       "      <td>2020-05-12 13:01:52</td>\n",
       "      <td>8</td>\n",
       "    </tr>\n",
       "    <tr>\n",
       "      <th>13574</th>\n",
       "      <td>ffff194a-56b7-4c12-860d-3485242ae7f5</td>\n",
       "      <td>2020-05-04 20:28:28</td>\n",
       "      <td>2020-05-11 22:04:30</td>\n",
       "      <td>7</td>\n",
       "    </tr>\n",
       "    <tr>\n",
       "      <th>13575</th>\n",
       "      <td>ffff69cc-fec1-4fd3-9f98-93be1112a6b8</td>\n",
       "      <td>2020-05-08 06:57:30</td>\n",
       "      <td>2020-05-25 14:05:51</td>\n",
       "      <td>17</td>\n",
       "    </tr>\n",
       "  </tbody>\n",
       "</table>\n",
       "<p>13576 rows × 4 columns</p>\n",
       "</div>"
      ],
      "text/plain": [
       "                                    user_id                 min  \\\n",
       "0      0001f83c-c6ac-4621-b7f0-8a28b283ac30 2020-05-06 01:07:37   \n",
       "1      00151b4f-ba38-44a8-a650-d7cf130a0105 2020-05-06 03:09:12   \n",
       "2      001aaea6-3d14-43f1-8ca8-7f48820f17aa 2020-05-05 18:08:52   \n",
       "3      001d39dc-366c-4021-9604-6a3b9ff01e25 2020-05-05 21:02:05   \n",
       "4      002f508f-67b6-479f-814b-b05f00d4e995 2020-05-05 13:49:58   \n",
       "...                                     ...                 ...   \n",
       "13571  ffef4fed-164c-40e1-bde1-3980f76d0fb5 2020-05-04 01:58:59   \n",
       "13572  fffab3da-da0e-4e30-ae62-10d0a2e24a4e 2020-05-04 11:58:14   \n",
       "13573  fffb626c-5ab6-47c9-8113-2062a2f18494 2020-05-04 02:05:09   \n",
       "13574  ffff194a-56b7-4c12-860d-3485242ae7f5 2020-05-04 20:28:28   \n",
       "13575  ffff69cc-fec1-4fd3-9f98-93be1112a6b8 2020-05-08 06:57:30   \n",
       "\n",
       "                      max  timedelta_days  \n",
       "0     2020-05-20 11:26:06              14  \n",
       "1     2020-05-18 10:46:52              12  \n",
       "2     2020-05-14 09:21:27               8  \n",
       "3     2020-05-12 07:40:47               6  \n",
       "4     2020-05-22 02:46:45              16  \n",
       "...                   ...             ...  \n",
       "13571 2020-05-11 22:15:54               7  \n",
       "13572 2020-05-14 10:11:36               9  \n",
       "13573 2020-05-12 13:01:52               8  \n",
       "13574 2020-05-11 22:04:30               7  \n",
       "13575 2020-05-25 14:05:51              17  \n",
       "\n",
       "[13576 rows x 4 columns]"
      ]
     },
     "execution_count": 32,
     "metadata": {},
     "output_type": "execute_result"
    }
   ],
   "source": [
    "time['timedelta_days'] = time['timedelta_days'].dt.days # для визуализации на нужны числовые данные, поэтому преобразуем\n",
    "time                                                    # таймдельту в дни"
   ]
  },
  {
   "cell_type": "code",
   "execution_count": 33,
   "id": "d65317ad",
   "metadata": {},
   "outputs": [
    {
     "data": {
      "text/plain": [
       "count    13576.000000\n",
       "mean        10.175309\n",
       "std          4.356852\n",
       "min          0.000000\n",
       "25%          7.000000\n",
       "50%         10.000000\n",
       "75%         13.000000\n",
       "max         30.000000\n",
       "Name: timedelta_days, dtype: float64"
      ]
     },
     "execution_count": 33,
     "metadata": {},
     "output_type": "execute_result"
    }
   ],
   "source": [
    "time['timedelta_days'].describe()"
   ]
  },
  {
   "cell_type": "code",
   "execution_count": 34,
   "id": "8bc03137",
   "metadata": {},
   "outputs": [
    {
     "data": {
      "image/png": "[encoded data removed]",
      "text/plain": [
       "<Figure size 360x720 with 1 Axes>"
      ]
     },
     "metadata": {
      "needs_background": "light"
     },
     "output_type": "display_data"
    }
   ],
   "source": [
    "plt.figure(figsize=(5,10))\n",
    "sns.boxplot(y = time['timedelta_days'])\n",
    "plt.title('Время в игре')\n",
    "plt.ylabel(\"DAYS\")\n",
    "plt.grid(True)\n",
    "plt.show()"
   ]
  },
  {
   "cell_type": "markdown",
   "id": "7550bbf6",
   "metadata": {},
   "source": [
    "Видим, что в среднем игроки проводят около 10 дней в игре, но разные игроки проводят его по-разному, есть те кто сразу вышел из игры, есть те, кто перешел на второй уровень, есть игроки, кто предпочитает PvP, а есть - PvE."
   ]
  },
  {
   "cell_type": "markdown",
   "id": "42bb8353",
   "metadata": {},
   "source": [
    "#### Далее посмотрим на время в игре в разбивке по стратегиям и источникам.\n",
    "для этого создадим списки с pvp победителями, pve победителями и теми кто по той или иной причине не прошел во второй тур"
   ]
  },
  {
   "cell_type": "code",
   "execution_count": 35,
   "id": "1b4d2b58",
   "metadata": {},
   "outputs": [
    {
     "name": "stdout",
     "output_type": "stream",
     "text": [
      "PvE: 3951\n",
      "PvP: 1866\n",
      "Winners: 5817\n",
      "Losers: 7759\n"
     ]
    }
   ],
   "source": [
    "win_users = actions.query('event == \"finished_stage_1\"').user_id.unique()\n",
    "pve_winners = actions.query('event == \"project\"').user_id.unique()\n",
    "pvp_winners = actions.query('(user_id in @win_users) & (user_id not in @pve_winners)').user_id.unique()\n",
    "lost_users = actions.query('user_id not in @win_users').user_id.unique()\n",
    "print('PvE: {}'.format(len(pvp_winners)))\n",
    "print('PvP: {}'.format(len(pve_winners)))\n",
    "print('Winners: {}'.format(len(win_users)))\n",
    "print('Losers: {}'.format(len(lost_users)))"
   ]
  },
  {
   "cell_type": "markdown",
   "id": "48bea141",
   "metadata": {},
   "source": [
    "Далее посмотрим на данные по времени прохождения первого этапа в разбивке по источникам, для этого прикрутим столбец с источником к нашему датафрейму"
   ]
  },
  {
   "cell_type": "code",
   "execution_count": 36,
   "id": "6f3ebc3e",
   "metadata": {},
   "outputs": [
    {
     "data": {
      "text/html": [
       "<div>\n",
       "<style scoped>\n",
       "    .dataframe tbody tr th:only-of-type {\n",
       "        vertical-align: middle;\n",
       "    }\n",
       "\n",
       "    .dataframe tbody tr th {\n",
       "        vertical-align: top;\n",
       "    }\n",
       "\n",
       "    .dataframe thead th {\n",
       "        text-align: right;\n",
       "    }\n",
       "</style>\n",
       "<table border=\"1\" class=\"dataframe\">\n",
       "  <thead>\n",
       "    <tr style=\"text-align: right;\">\n",
       "      <th></th>\n",
       "      <th>index</th>\n",
       "      <th>user_id</th>\n",
       "      <th>min</th>\n",
       "      <th>max</th>\n",
       "      <th>timedelta_days</th>\n",
       "      <th>source</th>\n",
       "    </tr>\n",
       "  </thead>\n",
       "  <tbody>\n",
       "    <tr>\n",
       "      <th>0</th>\n",
       "      <td>0</td>\n",
       "      <td>0001f83c-c6ac-4621-b7f0-8a28b283ac30</td>\n",
       "      <td>2020-05-06 01:07:37</td>\n",
       "      <td>2020-05-20 11:26:06</td>\n",
       "      <td>14</td>\n",
       "      <td>facebook_ads</td>\n",
       "    </tr>\n",
       "    <tr>\n",
       "      <th>1</th>\n",
       "      <td>1</td>\n",
       "      <td>00151b4f-ba38-44a8-a650-d7cf130a0105</td>\n",
       "      <td>2020-05-06 03:09:12</td>\n",
       "      <td>2020-05-18 10:46:52</td>\n",
       "      <td>12</td>\n",
       "      <td>yandex_direct</td>\n",
       "    </tr>\n",
       "    <tr>\n",
       "      <th>2</th>\n",
       "      <td>2</td>\n",
       "      <td>001aaea6-3d14-43f1-8ca8-7f48820f17aa</td>\n",
       "      <td>2020-05-05 18:08:52</td>\n",
       "      <td>2020-05-14 09:21:27</td>\n",
       "      <td>8</td>\n",
       "      <td>youtube_channel_reklama</td>\n",
       "    </tr>\n",
       "    <tr>\n",
       "      <th>3</th>\n",
       "      <td>3</td>\n",
       "      <td>001d39dc-366c-4021-9604-6a3b9ff01e25</td>\n",
       "      <td>2020-05-05 21:02:05</td>\n",
       "      <td>2020-05-12 07:40:47</td>\n",
       "      <td>6</td>\n",
       "      <td>instagram_new_adverts</td>\n",
       "    </tr>\n",
       "    <tr>\n",
       "      <th>4</th>\n",
       "      <td>4</td>\n",
       "      <td>002f508f-67b6-479f-814b-b05f00d4e995</td>\n",
       "      <td>2020-05-05 13:49:58</td>\n",
       "      <td>2020-05-22 02:46:45</td>\n",
       "      <td>16</td>\n",
       "      <td>facebook_ads</td>\n",
       "    </tr>\n",
       "    <tr>\n",
       "      <th>...</th>\n",
       "      <td>...</td>\n",
       "      <td>...</td>\n",
       "      <td>...</td>\n",
       "      <td>...</td>\n",
       "      <td>...</td>\n",
       "      <td>...</td>\n",
       "    </tr>\n",
       "    <tr>\n",
       "      <th>13571</th>\n",
       "      <td>13571</td>\n",
       "      <td>ffef4fed-164c-40e1-bde1-3980f76d0fb5</td>\n",
       "      <td>2020-05-04 01:58:59</td>\n",
       "      <td>2020-05-11 22:15:54</td>\n",
       "      <td>7</td>\n",
       "      <td>instagram_new_adverts</td>\n",
       "    </tr>\n",
       "    <tr>\n",
       "      <th>13572</th>\n",
       "      <td>13572</td>\n",
       "      <td>fffab3da-da0e-4e30-ae62-10d0a2e24a4e</td>\n",
       "      <td>2020-05-04 11:58:14</td>\n",
       "      <td>2020-05-14 10:11:36</td>\n",
       "      <td>9</td>\n",
       "      <td>facebook_ads</td>\n",
       "    </tr>\n",
       "    <tr>\n",
       "      <th>13573</th>\n",
       "      <td>13573</td>\n",
       "      <td>fffb626c-5ab6-47c9-8113-2062a2f18494</td>\n",
       "      <td>2020-05-04 02:05:09</td>\n",
       "      <td>2020-05-12 13:01:52</td>\n",
       "      <td>8</td>\n",
       "      <td>yandex_direct</td>\n",
       "    </tr>\n",
       "    <tr>\n",
       "      <th>13574</th>\n",
       "      <td>13574</td>\n",
       "      <td>ffff194a-56b7-4c12-860d-3485242ae7f5</td>\n",
       "      <td>2020-05-04 20:28:28</td>\n",
       "      <td>2020-05-11 22:04:30</td>\n",
       "      <td>7</td>\n",
       "      <td>instagram_new_adverts</td>\n",
       "    </tr>\n",
       "    <tr>\n",
       "      <th>13575</th>\n",
       "      <td>13575</td>\n",
       "      <td>ffff69cc-fec1-4fd3-9f98-93be1112a6b8</td>\n",
       "      <td>2020-05-08 06:57:30</td>\n",
       "      <td>2020-05-25 14:05:51</td>\n",
       "      <td>17</td>\n",
       "      <td>facebook_ads</td>\n",
       "    </tr>\n",
       "  </tbody>\n",
       "</table>\n",
       "<p>13576 rows × 6 columns</p>\n",
       "</div>"
      ],
      "text/plain": [
       "       index                               user_id                 min  \\\n",
       "0          0  0001f83c-c6ac-4621-b7f0-8a28b283ac30 2020-05-06 01:07:37   \n",
       "1          1  00151b4f-ba38-44a8-a650-d7cf130a0105 2020-05-06 03:09:12   \n",
       "2          2  001aaea6-3d14-43f1-8ca8-7f48820f17aa 2020-05-05 18:08:52   \n",
       "3          3  001d39dc-366c-4021-9604-6a3b9ff01e25 2020-05-05 21:02:05   \n",
       "4          4  002f508f-67b6-479f-814b-b05f00d4e995 2020-05-05 13:49:58   \n",
       "...      ...                                   ...                 ...   \n",
       "13571  13571  ffef4fed-164c-40e1-bde1-3980f76d0fb5 2020-05-04 01:58:59   \n",
       "13572  13572  fffab3da-da0e-4e30-ae62-10d0a2e24a4e 2020-05-04 11:58:14   \n",
       "13573  13573  fffb626c-5ab6-47c9-8113-2062a2f18494 2020-05-04 02:05:09   \n",
       "13574  13574  ffff194a-56b7-4c12-860d-3485242ae7f5 2020-05-04 20:28:28   \n",
       "13575  13575  ffff69cc-fec1-4fd3-9f98-93be1112a6b8 2020-05-08 06:57:30   \n",
       "\n",
       "                      max  timedelta_days                   source  \n",
       "0     2020-05-20 11:26:06              14             facebook_ads  \n",
       "1     2020-05-18 10:46:52              12            yandex_direct  \n",
       "2     2020-05-14 09:21:27               8  youtube_channel_reklama  \n",
       "3     2020-05-12 07:40:47               6    instagram_new_adverts  \n",
       "4     2020-05-22 02:46:45              16             facebook_ads  \n",
       "...                   ...             ...                      ...  \n",
       "13571 2020-05-11 22:15:54               7    instagram_new_adverts  \n",
       "13572 2020-05-14 10:11:36               9             facebook_ads  \n",
       "13573 2020-05-12 13:01:52               8            yandex_direct  \n",
       "13574 2020-05-11 22:04:30               7    instagram_new_adverts  \n",
       "13575 2020-05-25 14:05:51              17             facebook_ads  \n",
       "\n",
       "[13576 rows x 6 columns]"
      ]
     },
     "execution_count": 36,
     "metadata": {},
     "output_type": "execute_result"
    }
   ],
   "source": [
    "time = time.merge(users, on='user_id').reset_index()\n",
    "time"
   ]
  },
  {
   "cell_type": "markdown",
   "id": "55291946",
   "metadata": {},
   "source": [
    "#### посмотрим на время в игре в разбивке по источникам"
   ]
  },
  {
   "cell_type": "code",
   "execution_count": 37,
   "id": "b2c28dff",
   "metadata": {},
   "outputs": [
    {
     "data": {
      "image/png": "[encoded data removed]",
      "text/plain": [
       "<Figure size 864x720 with 1 Axes>"
      ]
     },
     "metadata": {
      "needs_background": "light"
     },
     "output_type": "display_data"
    }
   ],
   "source": [
    "plt.figure(figsize=(12, 10))\n",
    "sns.boxplot( x=time[\"source\"], y=time[\"timedelta_days\"], palette=\"Blues\", width=0.5);\n",
    "plt.title('Время в игре в разбивке по источникам')\n",
    "plt.ylabel(\"DAYS\")\n",
    "plt.grid(True)\n",
    "plt.show()"
   ]
  },
  {
   "cell_type": "markdown",
   "id": "a0516fcf",
   "metadata": {},
   "source": [
    "Здесь можем наблюдать, что игроки из всех источников проводят примерно одинаковое время в игре, отличаются, разве что, выбросы - у игроков с ютуба их кол-во чуть меньше"
   ]
  },
  {
   "cell_type": "markdown",
   "id": "fcc30db0",
   "metadata": {},
   "source": [
    "#### теперь же посмотрим на время прохождения первого этапа в разбивке по источникам и победителям и проигравшим."
   ]
  },
  {
   "cell_type": "code",
   "execution_count": 38,
   "id": "bdf3e332",
   "metadata": {},
   "outputs": [
    {
     "data": {
      "image/png": "[encoded data removed]",
      "text/plain": [
       "<Figure size 1080x1080 with 2 Axes>"
      ]
     },
     "metadata": {
      "needs_background": "light"
     },
     "output_type": "display_data"
    }
   ],
   "source": [
    "fig, axes = plt.subplots(nrows=2, figsize=(15, 15))\n",
    "fig.suptitle('Графики по времени прохождения первого этапа')\n",
    "\n",
    "sns.boxplot(ax=axes[0], data=time.query('user_id in @win_users').sort_values(by='source')\n",
    "            , x='source', y='timedelta_days', palette=\"Blues\", width=0.5).set_title(\"WINNERS\")\n",
    "\n",
    "sns.boxplot(ax=axes[1], data=time.query('user_id in @lost_users').sort_values(by='source')\n",
    "            , x='source', y='timedelta_days', palette=\"Blues\", width=0.5).set_title(\"LOSERS\")\n",
    "plt.show()"
   ]
  },
  {
   "cell_type": "markdown",
   "id": "f54d91bf",
   "metadata": {},
   "source": [
    "Что ксается победителей и проигравших, то тут, как и следовало ожидать, можно увидеть тенденцию, что победители проводят больше времени в игре, их медиана -11 дней, против 9 у проигравших. Причем в разбивке по источникам и у тех и у других картина одинаковая, разве, что незначительная разница в выбросах."
   ]
  },
  {
   "cell_type": "markdown",
   "id": "7489bbbc",
   "metadata": {},
   "source": [
    "#### теперь посмотрим на время прохождения первого этапа в зависимости от выбранной стратегии"
   ]
  },
  {
   "cell_type": "code",
   "execution_count": 39,
   "id": "86edf459",
   "metadata": {},
   "outputs": [
    {
     "data": {
      "image/png": "[encoded data removed]",
      "text/plain": [
       "<Figure size 1080x1080 with 2 Axes>"
      ]
     },
     "metadata": {
      "needs_background": "light"
     },
     "output_type": "display_data"
    }
   ],
   "source": [
    "fig, axes = plt.subplots(nrows=2, figsize=(15, 15))\n",
    "fig.suptitle('Графики по времени прохождения первого этапа')\n",
    "sns.boxplot(ax=axes[0], data=time.query('user_id in @pvp_winners').sort_values(by='source')\n",
    "            , x='source', y='timedelta_days', palette=\"Blues\", width=0.5).set_title(\"PvP winners\")\n",
    "sns.boxplot(ax=axes[1], data=time.query('user_id in @pve_winners').sort_values(by='source')\n",
    "            , x='source', y='timedelta_days', palette=\"Blues\", width=0.5).set_title(\"PvE winners\")\n",
    "plt.show()"
   ]
  },
  {
   "cell_type": "markdown",
   "id": "fc634e1f",
   "metadata": {},
   "source": [
    "Судя по графикам можно сделать вывод, что те, кто проходят через победу над игроком, затрачивают на прохождение значительно меньше времени (медиана - 10 дней), причем это так для игроков из всех источников. что касается PvE игроков, то они затрачивают на прохождение 12-13 дней (медианные значения), а 3 квартиль - 15 дней. "
   ]
  },
  {
   "cell_type": "markdown",
   "id": "80514661",
   "metadata": {},
   "source": [
    "- ### теперь посмотрим на кол-во зданий, которые строят пользователи. это довольно важный показатель в разрезе будущей монетизации."
   ]
  },
  {
   "cell_type": "markdown",
   "id": "1147a015",
   "metadata": {},
   "source": [
    "Для этого пособерем табличку, опираясь на списки игроков, сделанные ранее"
   ]
  },
  {
   "cell_type": "code",
   "execution_count": 40,
   "id": "0b8670ef",
   "metadata": {},
   "outputs": [
    {
     "data": {
      "text/html": [
       "<div>\n",
       "<style scoped>\n",
       "    .dataframe tbody tr th:only-of-type {\n",
       "        vertical-align: middle;\n",
       "    }\n",
       "\n",
       "    .dataframe tbody tr th {\n",
       "        vertical-align: top;\n",
       "    }\n",
       "\n",
       "    .dataframe thead th {\n",
       "        text-align: right;\n",
       "    }\n",
       "</style>\n",
       "<table border=\"1\" class=\"dataframe\">\n",
       "  <thead>\n",
       "    <tr style=\"text-align: right;\">\n",
       "      <th></th>\n",
       "      <th>index</th>\n",
       "      <th>user_id</th>\n",
       "      <th>event</th>\n",
       "      <th>source</th>\n",
       "    </tr>\n",
       "  </thead>\n",
       "  <tbody>\n",
       "    <tr>\n",
       "      <th>0</th>\n",
       "      <td>0</td>\n",
       "      <td>0001f83c-c6ac-4621-b7f0-8a28b283ac30</td>\n",
       "      <td>13</td>\n",
       "      <td>facebook_ads</td>\n",
       "    </tr>\n",
       "    <tr>\n",
       "      <th>1</th>\n",
       "      <td>1</td>\n",
       "      <td>00151b4f-ba38-44a8-a650-d7cf130a0105</td>\n",
       "      <td>9</td>\n",
       "      <td>yandex_direct</td>\n",
       "    </tr>\n",
       "    <tr>\n",
       "      <th>2</th>\n",
       "      <td>2</td>\n",
       "      <td>001aaea6-3d14-43f1-8ca8-7f48820f17aa</td>\n",
       "      <td>4</td>\n",
       "      <td>youtube_channel_reklama</td>\n",
       "    </tr>\n",
       "    <tr>\n",
       "      <th>3</th>\n",
       "      <td>3</td>\n",
       "      <td>001d39dc-366c-4021-9604-6a3b9ff01e25</td>\n",
       "      <td>8</td>\n",
       "      <td>instagram_new_adverts</td>\n",
       "    </tr>\n",
       "    <tr>\n",
       "      <th>4</th>\n",
       "      <td>4</td>\n",
       "      <td>002f508f-67b6-479f-814b-b05f00d4e995</td>\n",
       "      <td>12</td>\n",
       "      <td>facebook_ads</td>\n",
       "    </tr>\n",
       "    <tr>\n",
       "      <th>...</th>\n",
       "      <td>...</td>\n",
       "      <td>...</td>\n",
       "      <td>...</td>\n",
       "      <td>...</td>\n",
       "    </tr>\n",
       "    <tr>\n",
       "      <th>13571</th>\n",
       "      <td>13571</td>\n",
       "      <td>ffef4fed-164c-40e1-bde1-3980f76d0fb5</td>\n",
       "      <td>9</td>\n",
       "      <td>instagram_new_adverts</td>\n",
       "    </tr>\n",
       "    <tr>\n",
       "      <th>13572</th>\n",
       "      <td>13572</td>\n",
       "      <td>fffab3da-da0e-4e30-ae62-10d0a2e24a4e</td>\n",
       "      <td>16</td>\n",
       "      <td>facebook_ads</td>\n",
       "    </tr>\n",
       "    <tr>\n",
       "      <th>13573</th>\n",
       "      <td>13573</td>\n",
       "      <td>fffb626c-5ab6-47c9-8113-2062a2f18494</td>\n",
       "      <td>9</td>\n",
       "      <td>yandex_direct</td>\n",
       "    </tr>\n",
       "    <tr>\n",
       "      <th>13574</th>\n",
       "      <td>13574</td>\n",
       "      <td>ffff194a-56b7-4c12-860d-3485242ae7f5</td>\n",
       "      <td>7</td>\n",
       "      <td>instagram_new_adverts</td>\n",
       "    </tr>\n",
       "    <tr>\n",
       "      <th>13575</th>\n",
       "      <td>13575</td>\n",
       "      <td>ffff69cc-fec1-4fd3-9f98-93be1112a6b8</td>\n",
       "      <td>12</td>\n",
       "      <td>facebook_ads</td>\n",
       "    </tr>\n",
       "  </tbody>\n",
       "</table>\n",
       "<p>13576 rows × 4 columns</p>\n",
       "</div>"
      ],
      "text/plain": [
       "       index                               user_id  event  \\\n",
       "0          0  0001f83c-c6ac-4621-b7f0-8a28b283ac30     13   \n",
       "1          1  00151b4f-ba38-44a8-a650-d7cf130a0105      9   \n",
       "2          2  001aaea6-3d14-43f1-8ca8-7f48820f17aa      4   \n",
       "3          3  001d39dc-366c-4021-9604-6a3b9ff01e25      8   \n",
       "4          4  002f508f-67b6-479f-814b-b05f00d4e995     12   \n",
       "...      ...                                   ...    ...   \n",
       "13571  13571  ffef4fed-164c-40e1-bde1-3980f76d0fb5      9   \n",
       "13572  13572  fffab3da-da0e-4e30-ae62-10d0a2e24a4e     16   \n",
       "13573  13573  fffb626c-5ab6-47c9-8113-2062a2f18494      9   \n",
       "13574  13574  ffff194a-56b7-4c12-860d-3485242ae7f5      7   \n",
       "13575  13575  ffff69cc-fec1-4fd3-9f98-93be1112a6b8     12   \n",
       "\n",
       "                        source  \n",
       "0                 facebook_ads  \n",
       "1                yandex_direct  \n",
       "2      youtube_channel_reklama  \n",
       "3        instagram_new_adverts  \n",
       "4                 facebook_ads  \n",
       "...                        ...  \n",
       "13571    instagram_new_adverts  \n",
       "13572             facebook_ads  \n",
       "13573            yandex_direct  \n",
       "13574    instagram_new_adverts  \n",
       "13575             facebook_ads  \n",
       "\n",
       "[13576 rows x 4 columns]"
      ]
     },
     "execution_count": 40,
     "metadata": {},
     "output_type": "execute_result"
    }
   ],
   "source": [
    "n_buildings = actions.query('event == \"building\"').groupby('user_id').agg({'event': 'count'}).reset_index()\n",
    "n_buildings = n_buildings.merge(users, on='user_id').reset_index()\n",
    "n_buildings # здесь мы взяли только события building - тк именно тут планируется будущая монетизация"
   ]
  },
  {
   "cell_type": "code",
   "execution_count": 41,
   "id": "5a54c657",
   "metadata": {},
   "outputs": [
    {
     "data": {
      "image/png": "[encoded data removed]",
      "text/plain": [
       "<Figure size 1080x1080 with 2 Axes>"
      ]
     },
     "metadata": {
      "needs_background": "light"
     },
     "output_type": "display_data"
    }
   ],
   "source": [
    "fig, axes = plt.subplots(nrows=2, figsize=(15, 15))\n",
    "fig.suptitle('Графики по количеству построенных зданий на игрока')\n",
    "sns.boxplot(ax=axes[0], data=n_buildings.query('user_id in @win_users').sort_values(by='source')\n",
    "            , x='source', y='event', palette=\"Blues\", width=0.5).set_title(\"WINNERS\")\n",
    "sns.boxplot(ax=axes[1], data=n_buildings.query('user_id in @lost_users').sort_values(by='source')\n",
    "            , x='source', y='event', palette=\"Blues\", width=0.5).set_title(\"LOSERS\")\n",
    "plt.show()"
   ]
  },
  {
   "cell_type": "markdown",
   "id": "0b0652a5",
   "metadata": {},
   "source": [
    "Как и следовало ожидать, прошедшие на следующий этап строят больше зданий. У игроков, не прошедших на второй этап 25 перцентиль равен 5 вне зависимости от источника перехода, 75 перцентиль - 12, тоже вне зависимости от источника, а вот медианы немного отличаются, у игроков с фейсбука и инстаграма медианы около 9, а у яндекс директа и ютуба - 8. Что касается победителей первого этапа, то там распределение ниже, но тоже можно заметить некие закономерности. Игроки с фейсбука и инстаграма строя больше зданий, чем игроки из яндекс и ютуб."
   ]
  },
  {
   "cell_type": "markdown",
   "id": "45b45f07",
   "metadata": {},
   "source": [
    "#### Теперь же взглянем на цифры победителей, в зависимости от выбранной стратегии"
   ]
  },
  {
   "cell_type": "code",
   "execution_count": 42,
   "id": "ade272ec",
   "metadata": {},
   "outputs": [
    {
     "data": {
      "image/png": "[encoded data removed]",
      "text/plain": [
       "<Figure size 1080x1080 with 2 Axes>"
      ]
     },
     "metadata": {
      "needs_background": "light"
     },
     "output_type": "display_data"
    }
   ],
   "source": [
    "fig, axes = plt.subplots(nrows=2, figsize=(15, 15))\n",
    "fig.suptitle('Графики по количеству построенных зданий на игрока')\n",
    "sns.boxplot(ax=axes[0], data=n_buildings.query('user_id in @pvp_winners').sort_values(by='source')\n",
    "            , x='source', y='event', palette=\"Blues\", width=0.5).set_title(\"PvP winners\")\n",
    "sns.boxplot(ax=axes[1], data=n_buildings.query('user_id in @pve_winners').sort_values(by='source')\n",
    "            , x='source', y='event', palette=\"Blues\", width=0.5).set_title(\"PvE winners\")\n",
    "plt.show()"
   ]
  },
  {
   "cell_type": "markdown",
   "id": "cc17a765",
   "metadata": {},
   "source": [
    "Здесь тоже можно выявить закономерности, а именно что PvE игроки строят больше зданий (медиана - 12, 1й кванитль - 11, 3й квантиль - 14) и эта картина идентична для всех источников. У игроков PvP же медианное значение - 10. При этом в разбивке по источникам, также можно заметить, что игроки с фэйсбука и инстаграма строят меньше."
   ]
  },
  {
   "cell_type": "markdown",
   "id": "357d19de",
   "metadata": {},
   "source": [
    "## Проверка статистических гипотез.\n",
    "### различется ли время завершения уровня в зависимости способа прохождения\n",
    "- через реализацию проекта\n",
    "- через победу над первым игроком"
   ]
  },
  {
   "cell_type": "markdown",
   "id": "765b7ac7",
   "metadata": {},
   "source": [
    "#### Нулевая гипотеза: среднее время завершения первого этапа через постройку базы и среднее время завершения первого этапа через победу над другим игроком одинаковое\n",
    "#### Альтернативная гипотеза: среднее время завершения первого этапа через постройку базы и среднее время завершения первого этапа через победу над другим игроком разное"
   ]
  },
  {
   "cell_type": "code",
   "execution_count": 43,
   "id": "bf20d9f1",
   "metadata": {},
   "outputs": [
    {
     "name": "stdout",
     "output_type": "stream",
     "text": [
      "Среднее время прохождения первого этапа через победу над игроком: 10.606175651733738\n"
     ]
    }
   ],
   "source": [
    "print('Среднее время прохождения первого этапа через победу над игроком: {}'\n",
    "      .format(time.query('user_id in @pvp_winners').timedelta_days.mean()))"
   ]
  },
  {
   "cell_type": "code",
   "execution_count": 44,
   "id": "90d83d21",
   "metadata": {},
   "outputs": [
    {
     "name": "stdout",
     "output_type": "stream",
     "text": [
      "Среднее время прохождения первого этапа через постройку спутников: 12.963022508038586\n"
     ]
    }
   ],
   "source": [
    "print('Среднее время прохождения первого этапа через постройку спутников: {}'\n",
    "      .format(time.query('user_id in @pve_winners').timedelta_days.mean()))"
   ]
  },
  {
   "cell_type": "code",
   "execution_count": 45,
   "id": "f7a078a0",
   "metadata": {},
   "outputs": [
    {
     "data": {
      "text/plain": [
       "2.6237027268062713e-106"
      ]
     },
     "metadata": {},
     "output_type": "display_data"
    },
    {
     "name": "stdout",
     "output_type": "stream",
     "text": [
      "Отвергаем нулевую гипотезу\n"
     ]
    }
   ],
   "source": [
    "alpha = .05\n",
    "pvp_pve_means = st.ttest_ind(time.query('user_id in @pvp_winners').timedelta_days,\n",
    "                                time.query('user_id in @pve_winners').timedelta_days\n",
    "                                      , equal_var=False)\n",
    "display(pvp_pve_means.pvalue)\n",
    "if pvp_pve_means.pvalue < alpha:\n",
    "    print('Отвергаем нулевую гипотезу')\n",
    "else:\n",
    "    print('Не получилось отвергнуть нулевую гипотезу')"
   ]
  },
  {
   "cell_type": "markdown",
   "id": "dd1f3053",
   "metadata": {},
   "source": [
    "Среднее время, затарачиваемое игроками на прохождение первого этапа через победу над другим игроком, отличается от среднего времение на прохождение первого этапа через реализацию проекта."
   ]
  },
  {
   "cell_type": "markdown",
   "id": "db8c2baf",
   "metadata": {},
   "source": [
    "### различется ли количество зданий, построенных пользователями на первом этапе, в зависимости от способа прохождения (PvP или PvE)"
   ]
  },
  {
   "cell_type": "markdown",
   "id": "f60cd358",
   "metadata": {},
   "source": [
    "#### Нулевая гипотеза: среднее количество построенных на первом этапе зданий пользователями, которые прошли на второй этап через победу над другим игроком, и среднее количество построенных на первом этапе зданий пользователями, которые прошли на второй этап через постройку базы одинаково\n",
    "#### Альтернативная гипотеза: среднее количество построенных на первом этапе зданий пользователями, которые прошли на второй этап через победу над другим игроком, и среднее количество построенных на первом этапе зданий пользователями, которые прошли на второй этап через постройку базы разное"
   ]
  },
  {
   "cell_type": "code",
   "execution_count": 46,
   "id": "f9f73f1e",
   "metadata": {},
   "outputs": [
    {
     "name": "stdout",
     "output_type": "stream",
     "text": [
      "Среднее количество зданий, построенных игроком, который перешел на следующий этап через победу над другим игроком: 9.411541381928625\n"
     ]
    }
   ],
   "source": [
    "print('Среднее количество зданий, построенных игроком, который перешел на следующий этап через победу над другим игроком: {}'\n",
    "      .format(n_buildings.query('user_id in @pvp_winners').event.mean()))"
   ]
  },
  {
   "cell_type": "code",
   "execution_count": 47,
   "id": "c5aa8fdc",
   "metadata": {},
   "outputs": [
    {
     "name": "stdout",
     "output_type": "stream",
     "text": [
      "Среднее количество зданий, построенных игроком, который перешел на следующий этап через постройку базы: 12.64790996784566\n"
     ]
    }
   ],
   "source": [
    "print('Среднее количество зданий, построенных игроком, который перешел на следующий этап через постройку базы: {}'\n",
    "      .format(n_buildings.query('user_id in @pve_winners').event.mean()))"
   ]
  },
  {
   "cell_type": "code",
   "execution_count": 48,
   "id": "90a571a3",
   "metadata": {},
   "outputs": [
    {
     "data": {
      "text/plain": [
       "0.0"
      ]
     },
     "metadata": {},
     "output_type": "display_data"
    },
    {
     "name": "stdout",
     "output_type": "stream",
     "text": [
      "Отвергаем нулевую гипотезу\n"
     ]
    }
   ],
   "source": [
    "alpha = .05\n",
    "pvp_pve_building_means = st.ttest_ind(n_buildings.query('user_id in @pvp_winners').event,\n",
    "                                n_buildings.query('user_id in @pve_winners').event\n",
    "                                      , equal_var=False)\n",
    "display(pvp_pve_building_means.pvalue)\n",
    "if pvp_pve_building_means.pvalue < alpha:\n",
    "    print('Отвергаем нулевую гипотезу')\n",
    "else:\n",
    "    print('Не получилось отвергнуть нулевую гипотезу')"
   ]
  },
  {
   "cell_type": "markdown",
   "id": "f6a4bf3f",
   "metadata": {},
   "source": [
    "### Среднее количество зданий, построенных на первом этапе, у игроков, которые прошли на второй этап через победу над игроком отличается от среднего количества построенных зданий игроками, которые перешли на второй этап через реализацию проекта."
   ]
  },
  {
   "cell_type": "markdown",
   "id": "0a0b83f2",
   "metadata": {},
   "source": [
    "## Ранжирование источников"
   ]
  },
  {
   "cell_type": "markdown",
   "id": "d96c9d6d",
   "metadata": {},
   "source": [
    "Итак, согласно проведенному исследованию источники можно проранжировать в следующем порядке:\n",
    "1. Ютуб. Источник с самым низким САС 0.4. Стоит заметить, через этот источник приходит наименьшее кол-во пользователей около 19,8%. Пользователи из этого исчточника строят больше зданий, на уровне пользователей из Яндекс Директ. Также игроки из Ютуба выбирают PvE стратегию, подразумевающую постройку больше зданий в 32,7% случаев.\n",
    "2. Яндекс директ. Самый популярный - около около 35% пользователей приходят из этого источника. Стоимость привлечения одного пользователя всего 0.46. Игроки из Яндекса выбирают PvE стратегию в 30% случаев. Что же касается поведения игроков в рамках строительства зданий, то оно такое же как у игроков из Ютуба.\n",
    "3. Инстаграм. Около 24,7% игроков приходят через этот канал. Стоимость привлечения пользователя 0.65. Около 32,5% выбирают PvE стратегию, также стоит заметить, что игроки из этого канала в целом строят меньше зданий, что хуже для монетизации.\n",
    "4. Фэйсбук. Около 20,1% приходят через этот канал привлечения. У этого канала самая высокая САС 0,79. Хотя стоит заметить, что игроки из этого источника чаще остальных выбирают стратегию PvE (34%). Но если посмотреть в целом, то игроки из этого канала строят меньше зданий, чем игроки из Ютуба и Яндекса. \n",
    "\n",
    "Таким образом можно сделать вывод, что поведение игроков в целом очень похоже не завсисимо от источника привлечения, поэтому основным критерием ранжирования послужила стоимость привлечения пользователя (САС)"
   ]
  },
  {
   "cell_type": "markdown",
   "id": "a592069d",
   "metadata": {},
   "source": [
    "# Вывод:\n",
    "- на входе мы имели качественные данные, все пропуски имели логическое объяснение, каких-то особых аномалий выявлено не было.\n",
    "- в ходе исследования мы искали закономерности в способе прохождения первого, времени прохождения, кол-во победителей и проигравших и источников из которых игроки пришли в игру. Стоит заметить что особой разницы в пользователях в разбивке по источникам выявлено не было, разве что кроме описанных выше случаев.\n",
    "- также мы проверили две статистические гипотезы о разнице среднего времени прохождения этапа в зависимости от стратегии, а также о разнице среднего кол-ва построенных зданий в зависимости от выбранной стратегии. И тут стоит заметить, что мы выявили разницы. игроки чаще выбирают стратегию через победу над другим игроком (68%), тк она позволяет быстрее продвинуться на второй уровень, также эти игроки строят меньше зданий, и если брать в расчет будущую монетизацию, стоит пересмотреть игровую механику, чтобы побуждать игроков использовать стратеги PvE. \n",
    "- что касается ранжирования источников привлечения, то в силу отсутствия больших различий в поведении пользователей, основным критерием ранжирования служит САС:\n",
    "1. Ютуб 0,4\n",
    "2. Яндекс 0,46\n",
    "3. Инстаграм 0,65\n",
    "4. Фэйсбук 0.79\n"
   ]
  }
 ],
 "metadata": {
  "ExecuteTimeLog": [
   {
    "duration": 50,
    "start_time": "2022-10-16T08:31:52.834Z"
   },
   {
    "duration": 1416,
    "start_time": "2022-10-16T08:31:57.020Z"
   },
   {
    "duration": 2,
    "start_time": "2022-10-16T08:31:58.439Z"
   },
   {
    "duration": 761,
    "start_time": "2022-10-16T08:31:58.443Z"
   },
   {
    "duration": 33,
    "start_time": "2022-10-16T08:31:59.206Z"
   },
   {
    "duration": 75,
    "start_time": "2022-10-16T08:31:59.241Z"
   },
   {
    "duration": 84,
    "start_time": "2022-10-16T08:31:59.319Z"
   },
   {
    "duration": 141,
    "start_time": "2022-10-16T08:31:59.404Z"
   },
   {
    "duration": 12,
    "start_time": "2022-10-16T08:31:59.547Z"
   },
   {
    "duration": 35,
    "start_time": "2022-10-16T08:31:59.560Z"
   },
   {
    "duration": 22,
    "start_time": "2022-10-16T08:31:59.597Z"
   },
   {
    "duration": 26,
    "start_time": "2022-10-16T08:31:59.620Z"
   },
   {
    "duration": 10,
    "start_time": "2022-10-16T08:31:59.647Z"
   },
   {
    "duration": 183,
    "start_time": "2022-10-16T08:31:59.690Z"
   },
   {
    "duration": 10,
    "start_time": "2022-10-16T08:31:59.877Z"
   },
   {
    "duration": 15,
    "start_time": "2022-10-16T08:31:59.889Z"
   },
   {
    "duration": 6,
    "start_time": "2022-10-16T08:31:59.906Z"
   },
   {
    "duration": 26,
    "start_time": "2022-10-16T08:31:59.914Z"
   },
   {
    "duration": 98,
    "start_time": "2022-10-16T08:31:59.943Z"
   },
   {
    "duration": 12,
    "start_time": "2022-10-16T08:32:00.043Z"
   },
   {
    "duration": 27,
    "start_time": "2022-10-16T08:32:00.056Z"
   },
   {
    "duration": 193,
    "start_time": "2022-10-16T08:32:00.085Z"
   },
   {
    "duration": 24,
    "start_time": "2022-10-16T08:32:00.280Z"
   },
   {
    "duration": 13,
    "start_time": "2022-10-16T08:32:00.306Z"
   },
   {
    "duration": 171,
    "start_time": "2022-10-16T08:32:00.321Z"
   },
   {
    "duration": 111,
    "start_time": "2022-10-16T08:32:00.494Z"
   },
   {
    "duration": 51,
    "start_time": "2022-10-16T08:32:00.607Z"
   },
   {
    "duration": 48,
    "start_time": "2022-10-16T08:32:00.660Z"
   },
   {
    "duration": 129,
    "start_time": "2022-10-16T08:32:00.710Z"
   },
   {
    "duration": 264,
    "start_time": "2022-10-16T08:32:00.841Z"
   },
   {
    "duration": 99,
    "start_time": "2022-10-16T08:32:01.107Z"
   },
   {
    "duration": 13,
    "start_time": "2022-10-16T08:32:01.208Z"
   },
   {
    "duration": 28,
    "start_time": "2022-10-16T08:32:01.223Z"
   },
   {
    "duration": 127,
    "start_time": "2022-10-16T08:32:01.252Z"
   },
   {
    "duration": 47,
    "start_time": "2022-10-16T08:32:01.381Z"
   },
   {
    "duration": 28,
    "start_time": "2022-10-16T08:32:01.430Z"
   },
   {
    "duration": 225,
    "start_time": "2022-10-16T08:32:01.460Z"
   },
   {
    "duration": 560,
    "start_time": "2022-10-16T08:32:01.689Z"
   },
   {
    "duration": 392,
    "start_time": "2022-10-16T08:32:02.251Z"
   },
   {
    "duration": 87,
    "start_time": "2022-10-16T08:32:02.645Z"
   },
   {
    "duration": 441,
    "start_time": "2022-10-16T08:32:02.734Z"
   },
   {
    "duration": 416,
    "start_time": "2022-10-16T08:32:03.180Z"
   },
   {
    "duration": 9,
    "start_time": "2022-10-16T08:32:03.597Z"
   },
   {
    "duration": 28,
    "start_time": "2022-10-16T08:32:03.608Z"
   },
   {
    "duration": 31,
    "start_time": "2022-10-16T08:32:03.638Z"
   },
   {
    "duration": 36,
    "start_time": "2022-10-16T08:32:03.671Z"
   },
   {
    "duration": 22,
    "start_time": "2022-10-16T08:32:03.708Z"
   },
   {
    "duration": 23,
    "start_time": "2022-10-16T08:32:03.732Z"
   },
   {
    "duration": 15,
    "start_time": "2022-10-16T08:32:03.757Z"
   }
  ],
  "kernelspec": {
   "display_name": "Python 3 (ipykernel)",
   "language": "python",
   "name": "python3"
  },
  "language_info": {
   "codemirror_mode": {
    "name": "ipython",
    "version": 3
   },
   "file_extension": ".py",
   "mimetype": "text/x-python",
   "name": "python",
   "nbconvert_exporter": "python",
   "pygments_lexer": "ipython3",
   "version": "3.9.7"
  },
  "toc": {
   "base_numbering": 1,
   "nav_menu": {},
   "number_sections": true,
   "sideBar": true,
   "skip_h1_title": true,
   "title_cell": "Table of Contents",
   "title_sidebar": "Contents",
   "toc_cell": false,
   "toc_position": {},
   "toc_section_display": true,
   "toc_window_display": false
  }
 },
 "nbformat": 4,
 "nbformat_minor": 5
}
