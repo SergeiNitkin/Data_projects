{
 "cells": [
  {
   "cell_type": "markdown",
   "id": "44f52806",
   "metadata": {},
   "source": [
    "# Проект 7 "
   ]
  },
  {
   "cell_type": "markdown",
   "id": "a5af340f",
   "metadata": {},
   "source": [
    "# Определение перспективного тарифа для компании \"Мегалайн\"\n",
    "\n",
    "### Клиентам предлагается два тарифных плана: «Смарт» и «Ультра». Чтобы скорректировать рекламный бюджет, коммерческий департамент хочет понять, какой тариф приносит больше денег."
   ]
  },
  {
   "cell_type": "markdown",
   "id": "e1e0a4db",
   "metadata": {},
   "source": [
    "Предстоит сделать предварительный анализ тарифов на небольшой выборке клиентов. В нашем распоряжении данные 500 пользователей «Мегалайна»: кто они, откуда, каким тарифом пользуются, сколько звонков и сообщений каждый отправил за 2018 год. Нужно проанализировать поведение клиентов и сделать вывод — какой тариф лучше."
   ]
  },
  {
   "cell_type": "markdown",
   "id": "8c2886a1",
   "metadata": {},
   "source": [
    "## Описание тарифов\n",
    "### Тариф «Смарт»\n",
    "- Ежемесячная плата: 550 рублей\n",
    "- ключено 500 минут разговора, 50 сообщений и 15 Гб интернет-трафика\n",
    "- Стоимость услуг сверх тарифного пакета:\n",
    " - минута разговора: 3 рубля\n",
    " - сообщение: 3 рубля\n",
    " - 1 Гб интернет-трафика: 200 рублей\n",
    "\n",
    "### Тариф «Ультра»\n",
    "- Ежемесячная плата: 1950 рублей\n",
    "- Включено 3000 минут разговора, 1000 сообщений и 30 Гб интернет-трафика\n",
    "- Стоимость услуг сверх тарифного пакета:\n",
    " - минута разговора: 1 рубль\n",
    " - сообщение: 1 рубль\n",
    " - 1 Гб интернет-трафика: 150 рублей"
   ]
  },
  {
   "cell_type": "code",
   "execution_count": 1,
   "id": "44b0737d",
   "metadata": {},
   "outputs": [],
   "source": [
    "import pandas as pd\n",
    "import math\n",
    "import matplotlib.pyplot as plt\n",
    "import numpy as np\n",
    "import seaborn as sns\n",
    "from scipy import stats as st\n",
    "import warnings"
   ]
  },
  {
   "cell_type": "code",
   "execution_count": 2,
   "id": "74cfba74",
   "metadata": {},
   "outputs": [],
   "source": [
    "warnings.filterwarnings(\"ignore\")\n",
    "pd.set_option('display.max_columns', 50)"
   ]
  },
  {
   "cell_type": "markdown",
   "id": "74e895fe",
   "metadata": {},
   "source": [
    "# Рассмотрим датасеты"
   ]
  },
  {
   "cell_type": "code",
   "execution_count": 4,
   "id": "9b5246f9",
   "metadata": {},
   "outputs": [
    {
     "data": {
      "text/html": [
       "<div>\n",
       "<style scoped>\n",
       "    .dataframe tbody tr th:only-of-type {\n",
       "        vertical-align: middle;\n",
       "    }\n",
       "\n",
       "    .dataframe tbody tr th {\n",
       "        vertical-align: top;\n",
       "    }\n",
       "\n",
       "    .dataframe thead th {\n",
       "        text-align: right;\n",
       "    }\n",
       "</style>\n",
       "<table border=\"1\" class=\"dataframe\">\n",
       "  <thead>\n",
       "    <tr style=\"text-align: right;\">\n",
       "      <th></th>\n",
       "      <th>id</th>\n",
       "      <th>call_date</th>\n",
       "      <th>duration</th>\n",
       "      <th>user_id</th>\n",
       "    </tr>\n",
       "  </thead>\n",
       "  <tbody>\n",
       "    <tr>\n",
       "      <th>0</th>\n",
       "      <td>1000_0</td>\n",
       "      <td>2018-07-25</td>\n",
       "      <td>0.00</td>\n",
       "      <td>1000</td>\n",
       "    </tr>\n",
       "    <tr>\n",
       "      <th>1</th>\n",
       "      <td>1000_1</td>\n",
       "      <td>2018-08-17</td>\n",
       "      <td>0.00</td>\n",
       "      <td>1000</td>\n",
       "    </tr>\n",
       "    <tr>\n",
       "      <th>2</th>\n",
       "      <td>1000_2</td>\n",
       "      <td>2018-06-11</td>\n",
       "      <td>2.85</td>\n",
       "      <td>1000</td>\n",
       "    </tr>\n",
       "    <tr>\n",
       "      <th>3</th>\n",
       "      <td>1000_3</td>\n",
       "      <td>2018-09-21</td>\n",
       "      <td>13.80</td>\n",
       "      <td>1000</td>\n",
       "    </tr>\n",
       "    <tr>\n",
       "      <th>4</th>\n",
       "      <td>1000_4</td>\n",
       "      <td>2018-12-15</td>\n",
       "      <td>5.18</td>\n",
       "      <td>1000</td>\n",
       "    </tr>\n",
       "    <tr>\n",
       "      <th>5</th>\n",
       "      <td>1000_5</td>\n",
       "      <td>2018-11-02</td>\n",
       "      <td>0.00</td>\n",
       "      <td>1000</td>\n",
       "    </tr>\n",
       "    <tr>\n",
       "      <th>6</th>\n",
       "      <td>1000_6</td>\n",
       "      <td>2018-10-18</td>\n",
       "      <td>0.00</td>\n",
       "      <td>1000</td>\n",
       "    </tr>\n",
       "    <tr>\n",
       "      <th>7</th>\n",
       "      <td>1000_7</td>\n",
       "      <td>2018-08-22</td>\n",
       "      <td>18.31</td>\n",
       "      <td>1000</td>\n",
       "    </tr>\n",
       "    <tr>\n",
       "      <th>8</th>\n",
       "      <td>1000_8</td>\n",
       "      <td>2018-09-15</td>\n",
       "      <td>18.44</td>\n",
       "      <td>1000</td>\n",
       "    </tr>\n",
       "    <tr>\n",
       "      <th>9</th>\n",
       "      <td>1000_9</td>\n",
       "      <td>2018-08-15</td>\n",
       "      <td>0.00</td>\n",
       "      <td>1000</td>\n",
       "    </tr>\n",
       "  </tbody>\n",
       "</table>\n",
       "</div>"
      ],
      "text/plain": [
       "       id  call_date  duration  user_id\n",
       "0  1000_0 2018-07-25      0.00     1000\n",
       "1  1000_1 2018-08-17      0.00     1000\n",
       "2  1000_2 2018-06-11      2.85     1000\n",
       "3  1000_3 2018-09-21     13.80     1000\n",
       "4  1000_4 2018-12-15      5.18     1000\n",
       "5  1000_5 2018-11-02      0.00     1000\n",
       "6  1000_6 2018-10-18      0.00     1000\n",
       "7  1000_7 2018-08-22     18.31     1000\n",
       "8  1000_8 2018-09-15     18.44     1000\n",
       "9  1000_9 2018-08-15      0.00     1000"
      ]
     },
     "execution_count": 4,
     "metadata": {},
     "output_type": "execute_result"
    }
   ],
   "source": [
    "data_calls = pd.read_csv('/Users/sergejnitkin/mobile_datasets/calls.csv', parse_dates=['call_date'])\n",
    "data_calls.head(10)"
   ]
  },
  {
   "cell_type": "code",
   "execution_count": null,
   "id": "24700d28",
   "metadata": {},
   "outputs": [],
   "source": [
    "data_calls.info()"
   ]
  },
  {
   "cell_type": "code",
   "execution_count": 5,
   "id": "080980fc",
   "metadata": {},
   "outputs": [
    {
     "data": {
      "text/html": [
       "<div>\n",
       "<style scoped>\n",
       "    .dataframe tbody tr th:only-of-type {\n",
       "        vertical-align: middle;\n",
       "    }\n",
       "\n",
       "    .dataframe tbody tr th {\n",
       "        vertical-align: top;\n",
       "    }\n",
       "\n",
       "    .dataframe thead th {\n",
       "        text-align: right;\n",
       "    }\n",
       "</style>\n",
       "<table border=\"1\" class=\"dataframe\">\n",
       "  <thead>\n",
       "    <tr style=\"text-align: right;\">\n",
       "      <th></th>\n",
       "      <th>Unnamed: 0</th>\n",
       "      <th>id</th>\n",
       "      <th>mb_used</th>\n",
       "      <th>session_date</th>\n",
       "      <th>user_id</th>\n",
       "    </tr>\n",
       "  </thead>\n",
       "  <tbody>\n",
       "    <tr>\n",
       "      <th>0</th>\n",
       "      <td>0</td>\n",
       "      <td>1000_0</td>\n",
       "      <td>112.95</td>\n",
       "      <td>2018-11-25</td>\n",
       "      <td>1000</td>\n",
       "    </tr>\n",
       "    <tr>\n",
       "      <th>1</th>\n",
       "      <td>1</td>\n",
       "      <td>1000_1</td>\n",
       "      <td>1052.81</td>\n",
       "      <td>2018-09-07</td>\n",
       "      <td>1000</td>\n",
       "    </tr>\n",
       "    <tr>\n",
       "      <th>2</th>\n",
       "      <td>2</td>\n",
       "      <td>1000_2</td>\n",
       "      <td>1197.26</td>\n",
       "      <td>2018-06-25</td>\n",
       "      <td>1000</td>\n",
       "    </tr>\n",
       "    <tr>\n",
       "      <th>3</th>\n",
       "      <td>3</td>\n",
       "      <td>1000_3</td>\n",
       "      <td>550.27</td>\n",
       "      <td>2018-08-22</td>\n",
       "      <td>1000</td>\n",
       "    </tr>\n",
       "    <tr>\n",
       "      <th>4</th>\n",
       "      <td>4</td>\n",
       "      <td>1000_4</td>\n",
       "      <td>302.56</td>\n",
       "      <td>2018-09-24</td>\n",
       "      <td>1000</td>\n",
       "    </tr>\n",
       "    <tr>\n",
       "      <th>5</th>\n",
       "      <td>5</td>\n",
       "      <td>1000_5</td>\n",
       "      <td>399.97</td>\n",
       "      <td>2018-10-02</td>\n",
       "      <td>1000</td>\n",
       "    </tr>\n",
       "    <tr>\n",
       "      <th>6</th>\n",
       "      <td>6</td>\n",
       "      <td>1000_6</td>\n",
       "      <td>540.08</td>\n",
       "      <td>2018-09-07</td>\n",
       "      <td>1000</td>\n",
       "    </tr>\n",
       "    <tr>\n",
       "      <th>7</th>\n",
       "      <td>7</td>\n",
       "      <td>1000_7</td>\n",
       "      <td>415.70</td>\n",
       "      <td>2018-07-11</td>\n",
       "      <td>1000</td>\n",
       "    </tr>\n",
       "    <tr>\n",
       "      <th>8</th>\n",
       "      <td>8</td>\n",
       "      <td>1000_8</td>\n",
       "      <td>505.40</td>\n",
       "      <td>2018-10-08</td>\n",
       "      <td>1000</td>\n",
       "    </tr>\n",
       "    <tr>\n",
       "      <th>9</th>\n",
       "      <td>9</td>\n",
       "      <td>1000_9</td>\n",
       "      <td>345.54</td>\n",
       "      <td>2018-09-03</td>\n",
       "      <td>1000</td>\n",
       "    </tr>\n",
       "  </tbody>\n",
       "</table>\n",
       "</div>"
      ],
      "text/plain": [
       "   Unnamed: 0      id  mb_used session_date  user_id\n",
       "0           0  1000_0   112.95   2018-11-25     1000\n",
       "1           1  1000_1  1052.81   2018-09-07     1000\n",
       "2           2  1000_2  1197.26   2018-06-25     1000\n",
       "3           3  1000_3   550.27   2018-08-22     1000\n",
       "4           4  1000_4   302.56   2018-09-24     1000\n",
       "5           5  1000_5   399.97   2018-10-02     1000\n",
       "6           6  1000_6   540.08   2018-09-07     1000\n",
       "7           7  1000_7   415.70   2018-07-11     1000\n",
       "8           8  1000_8   505.40   2018-10-08     1000\n",
       "9           9  1000_9   345.54   2018-09-03     1000"
      ]
     },
     "execution_count": 5,
     "metadata": {},
     "output_type": "execute_result"
    }
   ],
   "source": [
    "data_internet = pd.read_csv('/Users/sergejnitkin/mobile_datasets/internet.csv', parse_dates=['session_date'])\n",
    "data_internet.head(10)"
   ]
  },
  {
   "cell_type": "code",
   "execution_count": null,
   "id": "f75fa8a1",
   "metadata": {},
   "outputs": [],
   "source": [
    "data_internet.info()"
   ]
  },
  {
   "cell_type": "code",
   "execution_count": 6,
   "id": "5d696e06",
   "metadata": {},
   "outputs": [
    {
     "data": {
      "text/html": [
       "<div>\n",
       "<style scoped>\n",
       "    .dataframe tbody tr th:only-of-type {\n",
       "        vertical-align: middle;\n",
       "    }\n",
       "\n",
       "    .dataframe tbody tr th {\n",
       "        vertical-align: top;\n",
       "    }\n",
       "\n",
       "    .dataframe thead th {\n",
       "        text-align: right;\n",
       "    }\n",
       "</style>\n",
       "<table border=\"1\" class=\"dataframe\">\n",
       "  <thead>\n",
       "    <tr style=\"text-align: right;\">\n",
       "      <th></th>\n",
       "      <th>id</th>\n",
       "      <th>message_date</th>\n",
       "      <th>user_id</th>\n",
       "    </tr>\n",
       "  </thead>\n",
       "  <tbody>\n",
       "    <tr>\n",
       "      <th>0</th>\n",
       "      <td>1000_0</td>\n",
       "      <td>2018-06-27</td>\n",
       "      <td>1000</td>\n",
       "    </tr>\n",
       "    <tr>\n",
       "      <th>1</th>\n",
       "      <td>1000_1</td>\n",
       "      <td>2018-10-08</td>\n",
       "      <td>1000</td>\n",
       "    </tr>\n",
       "    <tr>\n",
       "      <th>2</th>\n",
       "      <td>1000_2</td>\n",
       "      <td>2018-08-04</td>\n",
       "      <td>1000</td>\n",
       "    </tr>\n",
       "    <tr>\n",
       "      <th>3</th>\n",
       "      <td>1000_3</td>\n",
       "      <td>2018-06-16</td>\n",
       "      <td>1000</td>\n",
       "    </tr>\n",
       "    <tr>\n",
       "      <th>4</th>\n",
       "      <td>1000_4</td>\n",
       "      <td>2018-12-05</td>\n",
       "      <td>1000</td>\n",
       "    </tr>\n",
       "    <tr>\n",
       "      <th>5</th>\n",
       "      <td>1000_5</td>\n",
       "      <td>2018-06-20</td>\n",
       "      <td>1000</td>\n",
       "    </tr>\n",
       "    <tr>\n",
       "      <th>6</th>\n",
       "      <td>1000_6</td>\n",
       "      <td>2018-11-19</td>\n",
       "      <td>1000</td>\n",
       "    </tr>\n",
       "    <tr>\n",
       "      <th>7</th>\n",
       "      <td>1000_7</td>\n",
       "      <td>2018-10-29</td>\n",
       "      <td>1000</td>\n",
       "    </tr>\n",
       "    <tr>\n",
       "      <th>8</th>\n",
       "      <td>1000_8</td>\n",
       "      <td>2018-06-25</td>\n",
       "      <td>1000</td>\n",
       "    </tr>\n",
       "    <tr>\n",
       "      <th>9</th>\n",
       "      <td>1000_9</td>\n",
       "      <td>2018-12-18</td>\n",
       "      <td>1000</td>\n",
       "    </tr>\n",
       "  </tbody>\n",
       "</table>\n",
       "</div>"
      ],
      "text/plain": [
       "       id message_date  user_id\n",
       "0  1000_0   2018-06-27     1000\n",
       "1  1000_1   2018-10-08     1000\n",
       "2  1000_2   2018-08-04     1000\n",
       "3  1000_3   2018-06-16     1000\n",
       "4  1000_4   2018-12-05     1000\n",
       "5  1000_5   2018-06-20     1000\n",
       "6  1000_6   2018-11-19     1000\n",
       "7  1000_7   2018-10-29     1000\n",
       "8  1000_8   2018-06-25     1000\n",
       "9  1000_9   2018-12-18     1000"
      ]
     },
     "execution_count": 6,
     "metadata": {},
     "output_type": "execute_result"
    }
   ],
   "source": [
    "data_messages = pd.read_csv('/Users/sergejnitkin/mobile_datasets/messages.csv', parse_dates=['message_date'])\n",
    "data_messages.head(10)"
   ]
  },
  {
   "cell_type": "code",
   "execution_count": null,
   "id": "e4198422",
   "metadata": {},
   "outputs": [],
   "source": [
    "data_messages.info()"
   ]
  },
  {
   "cell_type": "code",
   "execution_count": 7,
   "id": "d9214d3a",
   "metadata": {},
   "outputs": [
    {
     "data": {
      "text/html": [
       "<div>\n",
       "<style scoped>\n",
       "    .dataframe tbody tr th:only-of-type {\n",
       "        vertical-align: middle;\n",
       "    }\n",
       "\n",
       "    .dataframe tbody tr th {\n",
       "        vertical-align: top;\n",
       "    }\n",
       "\n",
       "    .dataframe thead th {\n",
       "        text-align: right;\n",
       "    }\n",
       "</style>\n",
       "<table border=\"1\" class=\"dataframe\">\n",
       "  <thead>\n",
       "    <tr style=\"text-align: right;\">\n",
       "      <th></th>\n",
       "      <th>messages_included</th>\n",
       "      <th>mb_per_month_included</th>\n",
       "      <th>minutes_included</th>\n",
       "      <th>rub_monthly_fee</th>\n",
       "      <th>rub_per_gb</th>\n",
       "      <th>rub_per_message</th>\n",
       "      <th>rub_per_minute</th>\n",
       "      <th>tariff_name</th>\n",
       "    </tr>\n",
       "  </thead>\n",
       "  <tbody>\n",
       "    <tr>\n",
       "      <th>0</th>\n",
       "      <td>50</td>\n",
       "      <td>15360</td>\n",
       "      <td>500</td>\n",
       "      <td>550</td>\n",
       "      <td>200</td>\n",
       "      <td>3</td>\n",
       "      <td>3</td>\n",
       "      <td>smart</td>\n",
       "    </tr>\n",
       "    <tr>\n",
       "      <th>1</th>\n",
       "      <td>1000</td>\n",
       "      <td>30720</td>\n",
       "      <td>3000</td>\n",
       "      <td>1950</td>\n",
       "      <td>150</td>\n",
       "      <td>1</td>\n",
       "      <td>1</td>\n",
       "      <td>ultra</td>\n",
       "    </tr>\n",
       "  </tbody>\n",
       "</table>\n",
       "</div>"
      ],
      "text/plain": [
       "   messages_included  mb_per_month_included  minutes_included  \\\n",
       "0                 50                  15360               500   \n",
       "1               1000                  30720              3000   \n",
       "\n",
       "   rub_monthly_fee  rub_per_gb  rub_per_message  rub_per_minute tariff_name  \n",
       "0              550         200                3               3       smart  \n",
       "1             1950         150                1               1       ultra  "
      ]
     },
     "execution_count": 7,
     "metadata": {},
     "output_type": "execute_result"
    }
   ],
   "source": [
    "data_tariffs = pd.read_csv('/Users/sergejnitkin/mobile_datasets/tariffs.csv')\n",
    "data_tariffs"
   ]
  },
  {
   "cell_type": "code",
   "execution_count": 8,
   "id": "6ae6cb56",
   "metadata": {},
   "outputs": [
    {
     "data": {
      "text/html": [
       "<div>\n",
       "<style scoped>\n",
       "    .dataframe tbody tr th:only-of-type {\n",
       "        vertical-align: middle;\n",
       "    }\n",
       "\n",
       "    .dataframe tbody tr th {\n",
       "        vertical-align: top;\n",
       "    }\n",
       "\n",
       "    .dataframe thead th {\n",
       "        text-align: right;\n",
       "    }\n",
       "</style>\n",
       "<table border=\"1\" class=\"dataframe\">\n",
       "  <thead>\n",
       "    <tr style=\"text-align: right;\">\n",
       "      <th></th>\n",
       "      <th>user_id</th>\n",
       "      <th>age</th>\n",
       "      <th>churn_date</th>\n",
       "      <th>city</th>\n",
       "      <th>first_name</th>\n",
       "      <th>last_name</th>\n",
       "      <th>reg_date</th>\n",
       "      <th>tariff</th>\n",
       "    </tr>\n",
       "  </thead>\n",
       "  <tbody>\n",
       "    <tr>\n",
       "      <th>0</th>\n",
       "      <td>1000</td>\n",
       "      <td>52</td>\n",
       "      <td>NaT</td>\n",
       "      <td>Краснодар</td>\n",
       "      <td>Рафаил</td>\n",
       "      <td>Верещагин</td>\n",
       "      <td>2018-05-25</td>\n",
       "      <td>ultra</td>\n",
       "    </tr>\n",
       "    <tr>\n",
       "      <th>1</th>\n",
       "      <td>1001</td>\n",
       "      <td>41</td>\n",
       "      <td>NaT</td>\n",
       "      <td>Москва</td>\n",
       "      <td>Иван</td>\n",
       "      <td>Ежов</td>\n",
       "      <td>2018-11-01</td>\n",
       "      <td>smart</td>\n",
       "    </tr>\n",
       "    <tr>\n",
       "      <th>2</th>\n",
       "      <td>1002</td>\n",
       "      <td>59</td>\n",
       "      <td>NaT</td>\n",
       "      <td>Стерлитамак</td>\n",
       "      <td>Евгений</td>\n",
       "      <td>Абрамович</td>\n",
       "      <td>2018-06-17</td>\n",
       "      <td>smart</td>\n",
       "    </tr>\n",
       "    <tr>\n",
       "      <th>3</th>\n",
       "      <td>1003</td>\n",
       "      <td>23</td>\n",
       "      <td>NaT</td>\n",
       "      <td>Москва</td>\n",
       "      <td>Белла</td>\n",
       "      <td>Белякова</td>\n",
       "      <td>2018-08-17</td>\n",
       "      <td>ultra</td>\n",
       "    </tr>\n",
       "    <tr>\n",
       "      <th>4</th>\n",
       "      <td>1004</td>\n",
       "      <td>68</td>\n",
       "      <td>NaT</td>\n",
       "      <td>Новокузнецк</td>\n",
       "      <td>Татьяна</td>\n",
       "      <td>Авдеенко</td>\n",
       "      <td>2018-05-14</td>\n",
       "      <td>ultra</td>\n",
       "    </tr>\n",
       "    <tr>\n",
       "      <th>...</th>\n",
       "      <td>...</td>\n",
       "      <td>...</td>\n",
       "      <td>...</td>\n",
       "      <td>...</td>\n",
       "      <td>...</td>\n",
       "      <td>...</td>\n",
       "      <td>...</td>\n",
       "      <td>...</td>\n",
       "    </tr>\n",
       "    <tr>\n",
       "      <th>495</th>\n",
       "      <td>1495</td>\n",
       "      <td>65</td>\n",
       "      <td>NaT</td>\n",
       "      <td>Иркутск</td>\n",
       "      <td>Авксентий</td>\n",
       "      <td>Фокин</td>\n",
       "      <td>2018-08-28</td>\n",
       "      <td>ultra</td>\n",
       "    </tr>\n",
       "    <tr>\n",
       "      <th>496</th>\n",
       "      <td>1496</td>\n",
       "      <td>36</td>\n",
       "      <td>NaT</td>\n",
       "      <td>Вологда</td>\n",
       "      <td>Трифон</td>\n",
       "      <td>Блохин</td>\n",
       "      <td>2018-01-27</td>\n",
       "      <td>smart</td>\n",
       "    </tr>\n",
       "    <tr>\n",
       "      <th>497</th>\n",
       "      <td>1497</td>\n",
       "      <td>32</td>\n",
       "      <td>NaT</td>\n",
       "      <td>Челябинск</td>\n",
       "      <td>Каролина</td>\n",
       "      <td>Агеева</td>\n",
       "      <td>2018-10-09</td>\n",
       "      <td>smart</td>\n",
       "    </tr>\n",
       "    <tr>\n",
       "      <th>498</th>\n",
       "      <td>1498</td>\n",
       "      <td>68</td>\n",
       "      <td>2018-10-25</td>\n",
       "      <td>Владикавказ</td>\n",
       "      <td>Всеволод</td>\n",
       "      <td>Акимчин</td>\n",
       "      <td>2018-07-19</td>\n",
       "      <td>smart</td>\n",
       "    </tr>\n",
       "    <tr>\n",
       "      <th>499</th>\n",
       "      <td>1499</td>\n",
       "      <td>35</td>\n",
       "      <td>NaT</td>\n",
       "      <td>Пермь</td>\n",
       "      <td>Гектор</td>\n",
       "      <td>Корнилов</td>\n",
       "      <td>2018-09-27</td>\n",
       "      <td>smart</td>\n",
       "    </tr>\n",
       "  </tbody>\n",
       "</table>\n",
       "<p>500 rows × 8 columns</p>\n",
       "</div>"
      ],
      "text/plain": [
       "     user_id  age churn_date         city first_name  last_name   reg_date  \\\n",
       "0       1000   52        NaT    Краснодар     Рафаил  Верещагин 2018-05-25   \n",
       "1       1001   41        NaT       Москва       Иван       Ежов 2018-11-01   \n",
       "2       1002   59        NaT  Стерлитамак    Евгений  Абрамович 2018-06-17   \n",
       "3       1003   23        NaT       Москва      Белла   Белякова 2018-08-17   \n",
       "4       1004   68        NaT  Новокузнецк    Татьяна   Авдеенко 2018-05-14   \n",
       "..       ...  ...        ...          ...        ...        ...        ...   \n",
       "495     1495   65        NaT      Иркутск  Авксентий      Фокин 2018-08-28   \n",
       "496     1496   36        NaT      Вологда     Трифон     Блохин 2018-01-27   \n",
       "497     1497   32        NaT    Челябинск   Каролина     Агеева 2018-10-09   \n",
       "498     1498   68 2018-10-25  Владикавказ   Всеволод    Акимчин 2018-07-19   \n",
       "499     1499   35        NaT        Пермь     Гектор   Корнилов 2018-09-27   \n",
       "\n",
       "    tariff  \n",
       "0    ultra  \n",
       "1    smart  \n",
       "2    smart  \n",
       "3    ultra  \n",
       "4    ultra  \n",
       "..     ...  \n",
       "495  ultra  \n",
       "496  smart  \n",
       "497  smart  \n",
       "498  smart  \n",
       "499  smart  \n",
       "\n",
       "[500 rows x 8 columns]"
      ]
     },
     "execution_count": 8,
     "metadata": {},
     "output_type": "execute_result"
    }
   ],
   "source": [
    "data_users = pd.read_csv('/Users/sergejnitkin/mobile_datasets/users.csv', parse_dates=['reg_date', 'churn_date'])\n",
    "data_users"
   ]
  },
  {
   "cell_type": "code",
   "execution_count": null,
   "id": "f67a3099",
   "metadata": {},
   "outputs": [],
   "source": [
    "data_users.info()"
   ]
  },
  {
   "cell_type": "markdown",
   "id": "a1cac241",
   "metadata": {},
   "source": [
    "## Проверим данные на задвоения."
   ]
  },
  {
   "cell_type": "code",
   "execution_count": null,
   "id": "da17f92f",
   "metadata": {},
   "outputs": [],
   "source": [
    "data_calls.duplicated().sum()"
   ]
  },
  {
   "cell_type": "code",
   "execution_count": null,
   "id": "12acd70e",
   "metadata": {},
   "outputs": [],
   "source": [
    "data_internet.duplicated().sum()"
   ]
  },
  {
   "cell_type": "code",
   "execution_count": null,
   "id": "a74e295e",
   "metadata": {},
   "outputs": [],
   "source": [
    "data_messages.duplicated().sum()"
   ]
  },
  {
   "cell_type": "code",
   "execution_count": null,
   "id": "db5c9c4f",
   "metadata": {
    "scrolled": true
   },
   "outputs": [],
   "source": [
    "data_users.duplicated().sum()"
   ]
  },
  {
   "cell_type": "markdown",
   "id": "24dcf818",
   "metadata": {},
   "source": [
    "### Теперь проверим data_users. Там нас по большому счету интересуют значения в колонках tariff и city."
   ]
  },
  {
   "cell_type": "code",
   "execution_count": null,
   "id": "07467ec7",
   "metadata": {},
   "outputs": [],
   "source": [
    "data_users['city'].value_counts()"
   ]
  },
  {
   "cell_type": "code",
   "execution_count": null,
   "id": "bb4cc936",
   "metadata": {},
   "outputs": [],
   "source": [
    "data_users['tariff'].value_counts()"
   ]
  },
  {
   "cell_type": "markdown",
   "id": "1a632cd5",
   "metadata": {},
   "source": [
    "Видим, что в таблице данные заполнены корректно."
   ]
  },
  {
   "cell_type": "markdown",
   "id": "5399dac7",
   "metadata": {},
   "source": [
    "### Все данные выглядят корректно, в нашем случае nan имеют право быть, это не ошибки."
   ]
  },
  {
   "cell_type": "markdown",
   "id": "717a283a",
   "metadata": {},
   "source": [
    "## Теперь округлим согласно тарифов значения минут и приведем их к целочисленному формату.\n",
    "\n",
    "Посмотрим на таблицу с минутами, каждый звонок округляется до минут, поэтому округлим в большую сторону и приведем к целочисленному формату. Кроме звонков равных 0, тк это просто пропущенные звонки."
   ]
  },
  {
   "cell_type": "code",
   "execution_count": null,
   "id": "e3500b14",
   "metadata": {},
   "outputs": [],
   "source": [
    "data_calls['duration'] = np.ceil(data_calls['duration']).astype('int')\n",
    "data_calls"
   ]
  },
  {
   "cell_type": "code",
   "execution_count": null,
   "id": "1c455695",
   "metadata": {},
   "outputs": [],
   "source": [
    "data_calls.info()"
   ]
  },
  {
   "cell_type": "markdown",
   "id": "7da265f5",
   "metadata": {},
   "source": [
    "## Посчитаем для каждого пользователя:\n",
    "- количество сделанных звонков и израсходованных минут разговора по месяцам;\n",
    "- количество отправленных сообщений по месяцам;\n",
    "- объем израсходованного интернет-трафика по месяцам.\n",
    "\n",
    "### Для этого сначала добавим в таблицы столбец с месяцем."
   ]
  },
  {
   "cell_type": "code",
   "execution_count": null,
   "id": "1b2380b0",
   "metadata": {},
   "outputs": [],
   "source": [
    "data_calls['month'] = data_calls['call_date'].dt.month\n",
    "data_calls"
   ]
  },
  {
   "cell_type": "code",
   "execution_count": null,
   "id": "e7e5a2cf",
   "metadata": {},
   "outputs": [],
   "source": [
    "data_internet['month'] = data_internet['session_date'].dt.month\n",
    "data_internet"
   ]
  },
  {
   "cell_type": "code",
   "execution_count": null,
   "id": "faab5f0c",
   "metadata": {},
   "outputs": [],
   "source": [
    "data_messages['month'] = data_messages['message_date'].dt.month\n",
    "data_messages"
   ]
  },
  {
   "cell_type": "markdown",
   "id": "2196a532",
   "metadata": {},
   "source": [
    "### теперь построим сводные таблицы по минутам, мб и сообщениям.\n",
    "\n",
    "Длительность звонков мы уже округлили, поэтому здесь просто сгруппируем данные по пользователям и месяцам"
   ]
  },
  {
   "cell_type": "code",
   "execution_count": null,
   "id": "c6a7360a",
   "metadata": {},
   "outputs": [],
   "source": [
    "calls_per_month = data_calls.groupby(['user_id', 'month']).agg({'duration': ['count', 'sum']}).reset_index()\n",
    "calls_per_month.columns = ['user_id', 'month', 'calls', 'minutes']\n",
    "calls_per_month"
   ]
  },
  {
   "cell_type": "markdown",
   "id": "5eff0c1f",
   "metadata": {},
   "source": [
    "по такому же принципу сгруппируем данные по сообщениям"
   ]
  },
  {
   "cell_type": "code",
   "execution_count": null,
   "id": "2c1aced5",
   "metadata": {},
   "outputs": [],
   "source": [
    "messages_per_month = data_messages.groupby(['user_id', 'month']).agg({'id': 'count'}).reset_index()\n",
    "messages_per_month.columns = (['user_id', 'month', 'messages'])\n",
    "messages_per_month"
   ]
  },
  {
   "cell_type": "markdown",
   "id": "2130f022",
   "metadata": {},
   "source": [
    "Что касается интернет траффика, то тут сессии не округляются, а трафик округляется до гб в конце месяца. Поэтому сначала сгруппируем данные по пользователям и месяцам, и только потом округлим до гб."
   ]
  },
  {
   "cell_type": "code",
   "execution_count": null,
   "id": "4f817994",
   "metadata": {},
   "outputs": [],
   "source": [
    "mb_per_month = data_internet.groupby(['user_id', 'month']).agg({'mb_used': 'sum'}).reset_index()\n",
    "mb_per_month['mb_used'] = np.ceil(mb_per_month['mb_used'] / 1024).astype('int')\n",
    "mb_per_month.columns = ['user_id', 'month', 'gb_used']\n",
    "mb_per_month"
   ]
  },
  {
   "cell_type": "markdown",
   "id": "66ba28a4",
   "metadata": {},
   "source": [
    "## Теперь объединим их в одну таблицу для того, чтобы посчитать перерасходы по пакетам и посчитать выручку по месяцам для каждого пользователя"
   ]
  },
  {
   "cell_type": "code",
   "execution_count": null,
   "id": "3f442e1b",
   "metadata": {},
   "outputs": [],
   "source": [
    "data_per_month = calls_per_month.merge(mb_per_month, on=['user_id', 'month'], how='outer')\n",
    "data_per_month"
   ]
  },
  {
   "cell_type": "code",
   "execution_count": null,
   "id": "a80aac3b",
   "metadata": {},
   "outputs": [],
   "source": [
    "data_per_month = data_per_month.merge(messages_per_month, on=['user_id', 'month'], how='outer')\n",
    "data_per_month.head()"
   ]
  },
  {
   "cell_type": "code",
   "execution_count": null,
   "id": "87cdd2b6",
   "metadata": {},
   "outputs": [],
   "source": [
    "data_per_month = data_per_month.merge(data_users[['user_id', 'tariff', 'city']], on='user_id', how='outer')\n",
    "data_per_month"
   ]
  },
  {
   "cell_type": "code",
   "execution_count": null,
   "id": "f6bb7fca",
   "metadata": {
    "scrolled": true
   },
   "outputs": [],
   "source": [
    "data_tariffs"
   ]
  },
  {
   "cell_type": "markdown",
   "id": "f8698241",
   "metadata": {},
   "source": [
    "Теперь для того, чтобы свести все таблицы надо немного изменить таблицу с тариффами, а именно округлить пакет мб до гб и переименуем столбцы соответственно"
   ]
  },
  {
   "cell_type": "code",
   "execution_count": null,
   "id": "8583ca8a",
   "metadata": {},
   "outputs": [],
   "source": [
    "data_tariffs['mb_per_month_included'] = data_tariffs['mb_per_month_included'] / 1024\n",
    "data_tariffs"
   ]
  },
  {
   "cell_type": "code",
   "execution_count": null,
   "id": "9a011c59",
   "metadata": {},
   "outputs": [],
   "source": [
    "data_tariffs.rename(columns = {'mb_per_month_included': 'gb_per_month_included', 'tariff_name': 'tariff'},\n",
    "                    inplace=True)\n",
    "data_tariffs"
   ]
  },
  {
   "cell_type": "markdown",
   "id": "2b86fcf8",
   "metadata": {},
   "source": [
    "Теперь объединим таблицы"
   ]
  },
  {
   "cell_type": "code",
   "execution_count": null,
   "id": "7b7a5d05",
   "metadata": {},
   "outputs": [],
   "source": [
    "data_per_month = data_per_month.merge(data_tariffs, on='tariff', how='outer')\n",
    "data_per_month"
   ]
  },
  {
   "cell_type": "code",
   "execution_count": null,
   "id": "ed5d9a35",
   "metadata": {},
   "outputs": [],
   "source": [
    "data_per_month.user_id.nunique()"
   ]
  },
  {
   "cell_type": "markdown",
   "id": "db8bb503",
   "metadata": {},
   "source": [
    "## Заполним пропуски 0.\n"
   ]
  },
  {
   "cell_type": "code",
   "execution_count": null,
   "id": "40a405e5",
   "metadata": {},
   "outputs": [],
   "source": [
    "data_per_month = data_per_month.fillna(0)\n",
    "data_per_month.tail(10)"
   ]
  },
  {
   "cell_type": "code",
   "execution_count": null,
   "id": "d4189fda",
   "metadata": {},
   "outputs": [],
   "source": [
    "data_per_month.info()"
   ]
  },
  {
   "cell_type": "markdown",
   "id": "1e18f49a",
   "metadata": {},
   "source": [
    "Теперь для подсчета выручки, нам надо написать функцию, которая проверит, есть ли расход по каким-либо пакетам, и если есть, то посчитает стоимость перерасхода, согласно тариффа, и прибавит к этому ежемесячную плату."
   ]
  },
  {
   "cell_type": "code",
   "execution_count": null,
   "id": "a8435287",
   "metadata": {},
   "outputs": [],
   "source": [
    "def revenue(row):\n",
    "    revenue_per_minutes = 0\n",
    "    revenue_per_gb = 0\n",
    "    revenue_per_messages = 0\n",
    "    if (row['minutes'] - row['minutes_included']) > 0:\n",
    "        revenue_per_minutes = (row['minutes'] - row['minutes_included']) * row['rub_per_minute']\n",
    "    if (row['gb_used'] - row['gb_per_month_included']) > 0:\n",
    "        revenue_per_gb = (row['gb_used'] - row['gb_per_month_included']) * row['rub_per_gb']\n",
    "    if (row['messages'] - row['messages_included']) > 0:\n",
    "        revenue_per_messages = (row['messages'] - row['messages_included']) * row['rub_per_message']\n",
    "    return row['rub_monthly_fee'] + revenue_per_minutes + revenue_per_gb + revenue_per_messages"
   ]
  },
  {
   "cell_type": "code",
   "execution_count": null,
   "id": "a47787ef",
   "metadata": {},
   "outputs": [],
   "source": [
    "data_per_month['revenue'] = data_per_month.apply(revenue, axis=1)\n",
    "data_per_month"
   ]
  },
  {
   "cell_type": "code",
   "execution_count": null,
   "id": "1d730bfb",
   "metadata": {},
   "outputs": [],
   "source": [
    "# на самом деле, сначала я сделал со строками по перерасходам, потому что так проще проверить себя было"
   ]
  },
  {
   "cell_type": "markdown",
   "id": "f9469f9c",
   "metadata": {},
   "source": [
    "## Сколько минут разговора, сколько сообщений и какой объём интернет-трафика требуется пользователям каждого тарифа в месяц? \n",
    "Посчитаем:\n",
    "- среднее количество, \n",
    "- дисперсию\n",
    "- стандартное отклонение\n",
    "- медиану \n",
    "\n",
    "Построим гистограммы. \n"
   ]
  },
  {
   "cell_type": "code",
   "execution_count": null,
   "id": "df07ec95",
   "metadata": {},
   "outputs": [],
   "source": [
    "sns.histplot(data_per_month, x='minutes', bins=30, hue='tariff').set_title('Minutes usage')\n",
    "plt.show()"
   ]
  },
  {
   "cell_type": "markdown",
   "id": "40cd9cbb",
   "metadata": {},
   "source": [
    "у меня же графики не в матплотлиб, а в сиборн"
   ]
  },
  {
   "cell_type": "code",
   "execution_count": null,
   "id": "93993487",
   "metadata": {},
   "outputs": [],
   "source": [
    "data_per_month.pivot_table(index='tariff', values='minutes', aggfunc=['mean', 'median', 'var', 'std'])"
   ]
  },
  {
   "cell_type": "markdown",
   "id": "7f824cad",
   "metadata": {},
   "source": [
    "### Что касается расхода минут, то на графике мы видим следующее:\n",
    "- пользователи тарифа Смарт расходуют в среднем 417 минут, распределение близко к нормальному, стандартное отклонение равно 190\n",
    "- что же касается пользователей тарифа Ультра, то тут расброс гораздо шире - стандартное отклонение здесь уже 317 минут. График скошен вправо, о чем говорит разница между медианой и средним. Ну а в среднем пользователи тарифа расходуют 526 минут."
   ]
  },
  {
   "cell_type": "code",
   "execution_count": null,
   "id": "2a9e9467",
   "metadata": {},
   "outputs": [],
   "source": [
    "sns.histplot(data_per_month, x='gb_used', bins=30, hue='tariff').set_title('Internet')\n",
    "plt.show()"
   ]
  },
  {
   "cell_type": "code",
   "execution_count": null,
   "id": "3e558476",
   "metadata": {},
   "outputs": [],
   "source": [
    "data_per_month.pivot_table(index='tariff', values='gb_used', aggfunc=['mean', 'median', 'var', 'std'])"
   ]
  },
  {
   "cell_type": "markdown",
   "id": "f4e78582",
   "metadata": {},
   "source": [
    "### Теперь посмотрим на то как расходуются гигабайты:\n",
    "- по расходованию интернет трафика пользователи тарифа Смарт распределились нормально. Основная масса людей тратит от 10 до 20 гб трафика. В среднем пользователи расходуют 16.3гб в месяц\n",
    "- Пользователи тарифа Ультра тоже имеют нормальное распределение, но имеют более широкую дисперсию. В среднем пользователи расходуют 19.5гб."
   ]
  },
  {
   "cell_type": "code",
   "execution_count": null,
   "id": "f4f08b59",
   "metadata": {},
   "outputs": [],
   "source": [
    "sns.histplot(data_per_month, x='messages', bins=30, hue='tariff').set_title('Messages')\n",
    "plt.show()"
   ]
  },
  {
   "cell_type": "code",
   "execution_count": null,
   "id": "9b4e4671",
   "metadata": {},
   "outputs": [],
   "source": [
    "data_per_month.pivot_table(index='tariff', values='messages', aggfunc=['mean', 'median', 'var', 'std'])"
   ]
  },
  {
   "cell_type": "markdown",
   "id": "607dbdc2",
   "metadata": {},
   "source": [
    "## Сообщения:\n",
    "- пользователи тарифа Смарт в основном отправляют до 50 сообщений в месяц, на графике мы можем видеть распределение Пуассона. В среднем пользователи отправляют 33.4 сообщений\n",
    "- пользователи тарифа Ультра отправляют в среднем 49.3 сообщений, в то время как медиана 38 сообщение, это говорит о выбросах, которые мы можем наблюдать на графике.\n"
   ]
  },
  {
   "cell_type": "markdown",
   "id": "092a2f0b",
   "metadata": {},
   "source": [
    "# Гипотезы \n",
    "\n",
    "- Нулевая гипотеза - средняя выручка пользователей тарифов «Ультра» и «Смарт» равна\n",
    "- Альтернативная гипотеза - средняя выручка пользователей тарифов \"Ультра\" больше, чем свредняя выручка пользователей тарифа \"Смарт\" "
   ]
  },
  {
   "cell_type": "code",
   "execution_count": null,
   "id": "471c4c7c",
   "metadata": {},
   "outputs": [],
   "source": [
    "alpha = .05\n",
    "results_tariffs = st.ttest_ind(data_per_month[data_per_month['tariff'] == 'ultra']['revenue'], \n",
    "                      data_per_month[data_per_month['tariff'] == 'smart']['revenue'], equal_var=False)\n",
    "display(results_tariffs.pvalue)\n",
    "if (results_tariffs.pvalue / 2) < alpha and (data_per_month[data_per_month['tariff'] == 'ultra']['revenue'].mean() >\n",
    "                                            data_per_month[data_per_month['tariff'] == 'smart']['revenue'].mean()):\n",
    "    print('Отвергаем нулевую гипотезу')\n",
    "else:\n",
    "    print('Не получилось отвергнуть нулевую гипотезу')"
   ]
  },
  {
   "cell_type": "markdown",
   "id": "77f2c299",
   "metadata": {},
   "source": [
    "## Вывод: \n",
    "#### средняя выручка пользователей тарифа \"Ультра\" больше средней выручки пользователей тарифа \"Смарт\""
   ]
  },
  {
   "cell_type": "markdown",
   "id": "f3099f36",
   "metadata": {},
   "source": [
    "- Нулевая гипотеза - средняя выручка пользователей из Москвы равна выручке пользователей из других регионов.\n",
    "- Альтернативная гипотеза - средняя выручка пользователей из Москвы не равна выручке пользователей из других регионов."
   ]
  },
  {
   "cell_type": "code",
   "execution_count": null,
   "id": "0f04834d",
   "metadata": {},
   "outputs": [],
   "source": [
    "alpha = .05\n",
    "results_regions = st.ttest_ind (data_per_month[data_per_month['city'] == 'Москва']['revenue'],\n",
    "                                data_per_month[data_per_month['city'] != 'Москва']['revenue'], equal_var=False)\n",
    "display(results_regions.pvalue)\n",
    "if results_regions.pvalue < alpha:\n",
    "    print('Отвергаем нулевую гипотезу')\n",
    "else:\n",
    "    print('Не получилось отвергнуть нулевую гипотезу')"
   ]
  },
  {
   "cell_type": "markdown",
   "id": "86d0d25a",
   "metadata": {},
   "source": [
    "## Вывод:\n",
    "#### средняя выручка от пользователей из Москвы равна выручке от пользователей из других регионов"
   ]
  },
  {
   "cell_type": "markdown",
   "id": "3a945210",
   "metadata": {},
   "source": [
    "# Общий вывод\n"
   ]
  },
  {
   "cell_type": "markdown",
   "id": "31d60e63",
   "metadata": {},
   "source": [
    "### Мы рассмотрели данные пользователей Мегалайна на выборке в 500 человек. Данные оказались корректные, без задвоений и ошибок.\n",
    "\n",
    "### округлили данные согласно условий тарифа - каждый звонок до минут, а интернет до гб за месяц.\n",
    "### построили графики по тарифам для пользователей и выявили среднее, медиану, дисперсию и стандартное отклонение\n",
    "- пользователи тарифа смарт в среднем используют 419 минут при стандартном отклонении 189 минут, в то время как пользователи тарифа Ультра расходуют в среднем 528 минут при стандартном отклонении 306.\n",
    "- Пользователи Смарт расходуют в среднем 16.3. гб в месяц при стандартном отклонении 5.7. Пользователи Ультра расходуют 19.7 гб траффика при стандартном отклонении 9.7.\n",
    "- что же касается сообщений, то пользователи на тарифе Смарт тратят в среднем 38.7 сообщений при стандартном распределении 26.8. Пользователи на тарифе Ультра расходуют 61.2 сообщения в среднем при стандартном отклонении 44.7.\n",
    "\n",
    "### далее мы проверили 2 гипотезы:\n",
    "1. средняя выручка пользователей тарифов «Ультра» и «Смарт» различаются\n",
    "\n",
    "для этого мы привели нулевую гипотезу, что выручка от пользователей двух тарифов равна, и альтернативную, что выручка пользователей тарифа Ультра больше, чем выручка пользователей тарифа Смарт. Таким образом мы опровергли нулевую гипотезу и выяснили, что средняя выручка пользователей тарифа \"Ультра\" больше средней выручки тарифа \"Смарт\".\n",
    "\n",
    "2. средняя выручка пользователей из Москвы отличается от выручки пользователей из других регионов\n",
    "\n",
    "Здесь мы привели нулевую гипотезу - средняя выручка пользователей из Москвы равна выручке пользователей из других регионов и не смогли ее опровергнуть.\n",
    "\n",
    "## Таким образом можем сделать вывод, что тариф Ультра с коммерческой точки зрения более выгоден для Мегалайна, тк приносит больше выручки."
   ]
  }
 ],
 "metadata": {
  "ExecuteTimeLog": [
   {
    "duration": 1426,
    "start_time": "2022-05-15T19:52:44.729Z"
   },
   {
    "duration": 3,
    "start_time": "2022-05-15T19:52:46.158Z"
   },
   {
    "duration": 210,
    "start_time": "2022-05-15T19:52:46.163Z"
   },
   {
    "duration": 21,
    "start_time": "2022-05-15T19:52:46.376Z"
   },
   {
    "duration": 172,
    "start_time": "2022-05-15T19:52:46.399Z"
   },
   {
    "duration": 18,
    "start_time": "2022-05-15T19:52:46.573Z"
   },
   {
    "duration": 116,
    "start_time": "2022-05-15T19:52:46.593Z"
   },
   {
    "duration": 28,
    "start_time": "2022-05-15T19:52:46.711Z"
   },
   {
    "duration": 19,
    "start_time": "2022-05-15T19:52:46.741Z"
   },
   {
    "duration": 42,
    "start_time": "2022-05-15T19:52:46.763Z"
   },
   {
    "duration": 12,
    "start_time": "2022-05-15T19:52:46.806Z"
   },
   {
    "duration": 108,
    "start_time": "2022-05-15T19:52:46.819Z"
   },
   {
    "duration": 68,
    "start_time": "2022-05-15T19:52:46.928Z"
   },
   {
    "duration": 60,
    "start_time": "2022-05-15T19:52:46.998Z"
   },
   {
    "duration": 7,
    "start_time": "2022-05-15T19:52:47.060Z"
   },
   {
    "duration": 7,
    "start_time": "2022-05-15T19:52:47.068Z"
   },
   {
    "duration": 9,
    "start_time": "2022-05-15T19:52:47.076Z"
   },
   {
    "duration": 17,
    "start_time": "2022-05-15T19:52:47.087Z"
   },
   {
    "duration": 45,
    "start_time": "2022-05-15T19:52:47.105Z"
   },
   {
    "duration": 32,
    "start_time": "2022-05-15T19:52:47.152Z"
   },
   {
    "duration": 49,
    "start_time": "2022-05-15T19:52:47.185Z"
   },
   {
    "duration": 24,
    "start_time": "2022-05-15T19:52:47.236Z"
   },
   {
    "duration": 32,
    "start_time": "2022-05-15T19:52:47.262Z"
   },
   {
    "duration": 47,
    "start_time": "2022-05-15T19:52:47.296Z"
   },
   {
    "duration": 23,
    "start_time": "2022-05-15T19:52:47.345Z"
   },
   {
    "duration": 16,
    "start_time": "2022-05-15T19:52:47.370Z"
   },
   {
    "duration": 17,
    "start_time": "2022-05-15T19:52:47.387Z"
   },
   {
    "duration": 19,
    "start_time": "2022-05-15T19:52:47.433Z"
   },
   {
    "duration": 7,
    "start_time": "2022-05-15T19:52:47.454Z"
   },
   {
    "duration": 12,
    "start_time": "2022-05-15T19:52:47.463Z"
   },
   {
    "duration": 13,
    "start_time": "2022-05-15T19:52:47.477Z"
   },
   {
    "duration": 54,
    "start_time": "2022-05-15T19:52:47.491Z"
   },
   {
    "duration": 29,
    "start_time": "2022-05-15T19:52:47.547Z"
   },
   {
    "duration": 4,
    "start_time": "2022-05-15T19:52:47.578Z"
   },
   {
    "duration": 114,
    "start_time": "2022-05-15T19:52:47.585Z"
   },
   {
    "duration": 296,
    "start_time": "2022-05-15T19:52:47.701Z"
   },
   {
    "duration": 43,
    "start_time": "2022-05-15T19:52:47.999Z"
   },
   {
    "duration": 276,
    "start_time": "2022-05-15T19:52:48.044Z"
   },
   {
    "duration": 39,
    "start_time": "2022-05-15T19:52:48.322Z"
   },
   {
    "duration": 273,
    "start_time": "2022-05-15T19:52:48.363Z"
   },
   {
    "duration": 33,
    "start_time": "2022-05-15T19:52:48.638Z"
   },
   {
    "duration": 10,
    "start_time": "2022-05-15T19:52:48.673Z"
   },
   {
    "duration": 15,
    "start_time": "2022-05-15T19:52:48.685Z"
   },
   {
    "duration": 4,
    "start_time": "2022-05-15T20:35:35.478Z"
   },
   {
    "duration": 5,
    "start_time": "2022-05-15T20:36:46.773Z"
   },
   {
    "duration": 175,
    "start_time": "2022-05-15T20:51:01.617Z"
   },
   {
    "duration": 2727,
    "start_time": "2022-05-17T12:17:33.971Z"
   },
   {
    "duration": 6,
    "start_time": "2022-05-17T12:17:36.701Z"
   },
   {
    "duration": 436,
    "start_time": "2022-05-17T12:17:36.709Z"
   },
   {
    "duration": 34,
    "start_time": "2022-05-17T12:17:37.150Z"
   },
   {
    "duration": 230,
    "start_time": "2022-05-17T12:17:37.186Z"
   },
   {
    "duration": 24,
    "start_time": "2022-05-17T12:17:37.419Z"
   },
   {
    "duration": 148,
    "start_time": "2022-05-17T12:17:37.459Z"
   },
   {
    "duration": 22,
    "start_time": "2022-05-17T12:17:37.609Z"
   },
   {
    "duration": 34,
    "start_time": "2022-05-17T12:17:37.634Z"
   },
   {
    "duration": 45,
    "start_time": "2022-05-17T12:17:37.672Z"
   },
   {
    "duration": 16,
    "start_time": "2022-05-17T12:17:37.720Z"
   },
   {
    "duration": 173,
    "start_time": "2022-05-17T12:17:37.738Z"
   },
   {
    "duration": 134,
    "start_time": "2022-05-17T12:17:37.913Z"
   },
   {
    "duration": 67,
    "start_time": "2022-05-17T12:17:38.049Z"
   },
   {
    "duration": 8,
    "start_time": "2022-05-17T12:17:38.119Z"
   },
   {
    "duration": 11,
    "start_time": "2022-05-17T12:17:38.129Z"
   },
   {
    "duration": 19,
    "start_time": "2022-05-17T12:17:38.142Z"
   },
   {
    "duration": 22,
    "start_time": "2022-05-17T12:17:38.164Z"
   },
   {
    "duration": 26,
    "start_time": "2022-05-17T12:17:38.189Z"
   },
   {
    "duration": 57,
    "start_time": "2022-05-17T12:17:38.218Z"
   },
   {
    "duration": 40,
    "start_time": "2022-05-17T12:17:38.277Z"
   },
   {
    "duration": 42,
    "start_time": "2022-05-17T12:17:38.320Z"
   },
   {
    "duration": 47,
    "start_time": "2022-05-17T12:17:38.364Z"
   },
   {
    "duration": 47,
    "start_time": "2022-05-17T12:17:38.413Z"
   },
   {
    "duration": 40,
    "start_time": "2022-05-17T12:17:38.462Z"
   },
   {
    "duration": 26,
    "start_time": "2022-05-17T12:17:38.504Z"
   },
   {
    "duration": 35,
    "start_time": "2022-05-17T12:17:38.532Z"
   },
   {
    "duration": 33,
    "start_time": "2022-05-17T12:17:38.571Z"
   },
   {
    "duration": 11,
    "start_time": "2022-05-17T12:17:38.607Z"
   },
   {
    "duration": 16,
    "start_time": "2022-05-17T12:17:38.620Z"
   },
   {
    "duration": 23,
    "start_time": "2022-05-17T12:17:38.638Z"
   },
   {
    "duration": 42,
    "start_time": "2022-05-17T12:17:38.663Z"
   },
   {
    "duration": 6,
    "start_time": "2022-05-17T12:17:38.708Z"
   },
   {
    "duration": 6,
    "start_time": "2022-05-17T12:17:38.717Z"
   },
   {
    "duration": 249,
    "start_time": "2022-05-17T12:17:38.725Z"
   },
   {
    "duration": 4,
    "start_time": "2022-05-17T12:17:38.976Z"
   },
   {
    "duration": 620,
    "start_time": "2022-05-17T12:17:38.982Z"
   },
   {
    "duration": 60,
    "start_time": "2022-05-17T12:17:39.604Z"
   },
   {
    "duration": 400,
    "start_time": "2022-05-17T12:17:39.666Z"
   },
   {
    "duration": 46,
    "start_time": "2022-05-17T12:17:40.068Z"
   },
   {
    "duration": 403,
    "start_time": "2022-05-17T12:17:40.117Z"
   },
   {
    "duration": 57,
    "start_time": "2022-05-17T12:17:40.523Z"
   },
   {
    "duration": 16,
    "start_time": "2022-05-17T12:17:40.582Z"
   },
   {
    "duration": 15,
    "start_time": "2022-05-17T12:17:40.600Z"
   },
   {
    "duration": 4,
    "start_time": "2022-05-17T12:39:51.607Z"
   },
   {
    "duration": 13,
    "start_time": "2022-05-17T12:39:51.614Z"
   },
   {
    "duration": 313,
    "start_time": "2022-05-17T12:39:51.629Z"
   },
   {
    "duration": 43,
    "start_time": "2022-05-17T12:39:51.945Z"
   },
   {
    "duration": 258,
    "start_time": "2022-05-17T12:39:51.992Z"
   },
   {
    "duration": 41,
    "start_time": "2022-05-17T12:39:52.252Z"
   },
   {
    "duration": 178,
    "start_time": "2022-05-17T12:39:52.296Z"
   },
   {
    "duration": 23,
    "start_time": "2022-05-17T12:39:52.477Z"
   },
   {
    "duration": 43,
    "start_time": "2022-05-17T12:39:52.502Z"
   },
   {
    "duration": 53,
    "start_time": "2022-05-17T12:39:52.548Z"
   },
   {
    "duration": 17,
    "start_time": "2022-05-17T12:39:52.603Z"
   },
   {
    "duration": 174,
    "start_time": "2022-05-17T12:39:52.622Z"
   },
   {
    "duration": 136,
    "start_time": "2022-05-17T12:39:52.798Z"
   },
   {
    "duration": 90,
    "start_time": "2022-05-17T12:39:52.939Z"
   },
   {
    "duration": 32,
    "start_time": "2022-05-17T12:39:53.032Z"
   },
   {
    "duration": 12,
    "start_time": "2022-05-17T12:39:53.067Z"
   },
   {
    "duration": 9,
    "start_time": "2022-05-17T12:39:53.082Z"
   },
   {
    "duration": 23,
    "start_time": "2022-05-17T12:39:53.093Z"
   },
   {
    "duration": 69,
    "start_time": "2022-05-17T12:39:53.118Z"
   },
   {
    "duration": 55,
    "start_time": "2022-05-17T12:39:53.190Z"
   },
   {
    "duration": 61,
    "start_time": "2022-05-17T12:39:53.260Z"
   },
   {
    "duration": 72,
    "start_time": "2022-05-17T12:39:53.323Z"
   },
   {
    "duration": 43,
    "start_time": "2022-05-17T12:39:53.398Z"
   },
   {
    "duration": 58,
    "start_time": "2022-05-17T12:39:53.443Z"
   },
   {
    "duration": 35,
    "start_time": "2022-05-17T12:39:53.504Z"
   },
   {
    "duration": 36,
    "start_time": "2022-05-17T12:39:53.563Z"
   },
   {
    "duration": 31,
    "start_time": "2022-05-17T12:39:53.603Z"
   },
   {
    "duration": 61,
    "start_time": "2022-05-17T12:39:53.637Z"
   },
   {
    "duration": 12,
    "start_time": "2022-05-17T12:39:53.700Z"
   },
   {
    "duration": 20,
    "start_time": "2022-05-17T12:39:53.714Z"
   },
   {
    "duration": 52,
    "start_time": "2022-05-17T12:39:53.736Z"
   },
   {
    "duration": 55,
    "start_time": "2022-05-17T12:39:53.790Z"
   },
   {
    "duration": 10,
    "start_time": "2022-05-17T12:39:53.860Z"
   },
   {
    "duration": 14,
    "start_time": "2022-05-17T12:39:53.874Z"
   },
   {
    "duration": 258,
    "start_time": "2022-05-17T12:39:53.891Z"
   },
   {
    "duration": 4,
    "start_time": "2022-05-17T12:39:54.152Z"
   },
   {
    "duration": 465,
    "start_time": "2022-05-17T12:39:54.170Z"
   },
   {
    "duration": 64,
    "start_time": "2022-05-17T12:39:54.638Z"
   },
   {
    "duration": 551,
    "start_time": "2022-05-17T12:39:54.704Z"
   },
   {
    "duration": 49,
    "start_time": "2022-05-17T12:39:55.258Z"
   },
   {
    "duration": 419,
    "start_time": "2022-05-17T12:39:55.312Z"
   },
   {
    "duration": 67,
    "start_time": "2022-05-17T12:39:55.733Z"
   },
   {
    "duration": 15,
    "start_time": "2022-05-17T12:39:55.803Z"
   },
   {
    "duration": 51,
    "start_time": "2022-05-17T12:39:55.820Z"
   },
   {
    "duration": 28,
    "start_time": "2022-05-17T12:41:37.987Z"
   },
   {
    "duration": 37,
    "start_time": "2022-05-17T12:41:53.372Z"
   },
   {
    "duration": 38,
    "start_time": "2022-05-17T12:42:03.094Z"
   },
   {
    "duration": 46,
    "start_time": "2022-05-17T12:42:40.615Z"
   },
   {
    "duration": 166,
    "start_time": "2022-05-17T12:54:08.382Z"
   },
   {
    "duration": 110,
    "start_time": "2022-05-17T13:12:21.099Z"
   },
   {
    "duration": 7,
    "start_time": "2022-05-17T13:15:43.543Z"
   },
   {
    "duration": 122,
    "start_time": "2022-05-17T13:17:21.709Z"
   },
   {
    "duration": 165,
    "start_time": "2022-05-17T13:18:34.312Z"
   },
   {
    "duration": 25,
    "start_time": "2022-05-17T13:26:12.480Z"
   },
   {
    "duration": 29,
    "start_time": "2022-05-17T13:26:37.764Z"
   },
   {
    "duration": 17,
    "start_time": "2022-05-17T13:28:10.638Z"
   },
   {
    "duration": 38,
    "start_time": "2022-05-17T13:44:52.301Z"
   },
   {
    "duration": 37,
    "start_time": "2022-05-17T13:45:15.767Z"
   },
   {
    "duration": 112,
    "start_time": "2022-05-17T13:59:55.276Z"
   },
   {
    "duration": 72,
    "start_time": "2022-05-17T14:15:02.033Z"
   },
   {
    "duration": 2612,
    "start_time": "2022-05-17T14:15:12.890Z"
   },
   {
    "duration": 6,
    "start_time": "2022-05-17T14:15:15.510Z"
   },
   {
    "duration": 277,
    "start_time": "2022-05-17T14:15:15.519Z"
   },
   {
    "duration": 39,
    "start_time": "2022-05-17T14:15:15.798Z"
   },
   {
    "duration": 220,
    "start_time": "2022-05-17T14:15:15.841Z"
   },
   {
    "duration": 24,
    "start_time": "2022-05-17T14:15:16.063Z"
   },
   {
    "duration": 187,
    "start_time": "2022-05-17T14:15:16.089Z"
   },
   {
    "duration": 40,
    "start_time": "2022-05-17T14:15:16.278Z"
   },
   {
    "duration": 20,
    "start_time": "2022-05-17T14:15:16.321Z"
   },
   {
    "duration": 40,
    "start_time": "2022-05-17T14:15:16.343Z"
   },
   {
    "duration": 43,
    "start_time": "2022-05-17T14:15:16.385Z"
   },
   {
    "duration": 159,
    "start_time": "2022-05-17T14:15:16.430Z"
   },
   {
    "duration": 111,
    "start_time": "2022-05-17T14:15:16.592Z"
   },
   {
    "duration": 69,
    "start_time": "2022-05-17T14:15:16.707Z"
   },
   {
    "duration": 35,
    "start_time": "2022-05-17T14:15:16.779Z"
   },
   {
    "duration": 16,
    "start_time": "2022-05-17T14:15:16.817Z"
   },
   {
    "duration": 15,
    "start_time": "2022-05-17T14:15:16.836Z"
   },
   {
    "duration": 23,
    "start_time": "2022-05-17T14:15:16.854Z"
   },
   {
    "duration": 58,
    "start_time": "2022-05-17T14:15:16.880Z"
   },
   {
    "duration": 44,
    "start_time": "2022-05-17T14:15:16.941Z"
   },
   {
    "duration": 69,
    "start_time": "2022-05-17T14:15:16.988Z"
   },
   {
    "duration": 33,
    "start_time": "2022-05-17T14:15:17.060Z"
   },
   {
    "duration": 64,
    "start_time": "2022-05-17T14:15:17.096Z"
   },
   {
    "duration": 55,
    "start_time": "2022-05-17T14:15:17.163Z"
   },
   {
    "duration": 37,
    "start_time": "2022-05-17T14:15:17.221Z"
   },
   {
    "duration": 25,
    "start_time": "2022-05-17T14:15:17.260Z"
   },
   {
    "duration": 58,
    "start_time": "2022-05-17T14:15:17.287Z"
   },
   {
    "duration": 31,
    "start_time": "2022-05-17T14:15:17.347Z"
   },
   {
    "duration": 11,
    "start_time": "2022-05-17T14:15:17.380Z"
   },
   {
    "duration": 24,
    "start_time": "2022-05-17T14:15:17.409Z"
   },
   {
    "duration": 30,
    "start_time": "2022-05-17T14:15:17.435Z"
   },
   {
    "duration": 43,
    "start_time": "2022-05-17T14:15:17.467Z"
   },
   {
    "duration": 7,
    "start_time": "2022-05-17T14:15:17.513Z"
   },
   {
    "duration": 11,
    "start_time": "2022-05-17T14:15:17.522Z"
   },
   {
    "duration": 238,
    "start_time": "2022-05-17T14:15:17.536Z"
   },
   {
    "duration": 3,
    "start_time": "2022-05-17T14:15:17.776Z"
   },
   {
    "duration": 453,
    "start_time": "2022-05-17T14:15:17.781Z"
   },
   {
    "duration": 45,
    "start_time": "2022-05-17T14:15:18.236Z"
   },
   {
    "duration": 455,
    "start_time": "2022-05-17T14:15:18.283Z"
   },
   {
    "duration": 46,
    "start_time": "2022-05-17T14:15:18.740Z"
   },
   {
    "duration": 460,
    "start_time": "2022-05-17T14:15:18.816Z"
   },
   {
    "duration": 58,
    "start_time": "2022-05-17T14:15:19.278Z"
   },
   {
    "duration": 16,
    "start_time": "2022-05-17T14:15:19.338Z"
   },
   {
    "duration": 13,
    "start_time": "2022-05-17T14:15:19.356Z"
   },
   {
    "duration": 57,
    "start_time": "2022-05-17T14:20:21.929Z"
   },
   {
    "duration": 34,
    "start_time": "2022-05-17T14:21:22.663Z"
   },
   {
    "duration": 1969,
    "start_time": "2022-05-17T14:21:36.475Z"
   },
   {
    "duration": 5,
    "start_time": "2022-05-17T14:21:38.447Z"
   },
   {
    "duration": 275,
    "start_time": "2022-05-17T14:21:38.454Z"
   },
   {
    "duration": 27,
    "start_time": "2022-05-17T14:21:38.732Z"
   },
   {
    "duration": 237,
    "start_time": "2022-05-17T14:21:38.762Z"
   },
   {
    "duration": 33,
    "start_time": "2022-05-17T14:21:39.009Z"
   },
   {
    "duration": 146,
    "start_time": "2022-05-17T14:21:39.044Z"
   },
   {
    "duration": 34,
    "start_time": "2022-05-17T14:21:39.192Z"
   },
   {
    "duration": 31,
    "start_time": "2022-05-17T14:21:39.231Z"
   },
   {
    "duration": 37,
    "start_time": "2022-05-17T14:21:39.266Z"
   },
   {
    "duration": 17,
    "start_time": "2022-05-17T14:21:39.310Z"
   },
   {
    "duration": 154,
    "start_time": "2022-05-17T14:21:39.330Z"
   },
   {
    "duration": 128,
    "start_time": "2022-05-17T14:21:39.486Z"
   },
   {
    "duration": 73,
    "start_time": "2022-05-17T14:21:39.616Z"
   },
   {
    "duration": 29,
    "start_time": "2022-05-17T14:21:39.691Z"
   },
   {
    "duration": 26,
    "start_time": "2022-05-17T14:21:39.722Z"
   },
   {
    "duration": 11,
    "start_time": "2022-05-17T14:21:39.751Z"
   },
   {
    "duration": 22,
    "start_time": "2022-05-17T14:21:39.764Z"
   },
   {
    "duration": 54,
    "start_time": "2022-05-17T14:21:39.788Z"
   },
   {
    "duration": 76,
    "start_time": "2022-05-17T14:21:39.845Z"
   },
   {
    "duration": 48,
    "start_time": "2022-05-17T14:21:39.924Z"
   },
   {
    "duration": 54,
    "start_time": "2022-05-17T14:21:39.974Z"
   },
   {
    "duration": 45,
    "start_time": "2022-05-17T14:21:40.031Z"
   },
   {
    "duration": 61,
    "start_time": "2022-05-17T14:21:40.078Z"
   },
   {
    "duration": 35,
    "start_time": "2022-05-17T14:21:40.142Z"
   },
   {
    "duration": 52,
    "start_time": "2022-05-17T14:21:40.179Z"
   },
   {
    "duration": 30,
    "start_time": "2022-05-17T14:21:40.233Z"
   },
   {
    "duration": 55,
    "start_time": "2022-05-17T14:21:40.268Z"
   },
   {
    "duration": 15,
    "start_time": "2022-05-17T14:21:40.326Z"
   },
   {
    "duration": 28,
    "start_time": "2022-05-17T14:21:40.344Z"
   },
   {
    "duration": 17,
    "start_time": "2022-05-17T14:21:40.375Z"
   },
   {
    "duration": 75,
    "start_time": "2022-05-17T14:21:40.394Z"
   },
   {
    "duration": 6,
    "start_time": "2022-05-17T14:21:40.471Z"
   },
   {
    "duration": 55,
    "start_time": "2022-05-17T14:21:40.479Z"
   },
   {
    "duration": 22,
    "start_time": "2022-05-17T14:21:40.537Z"
   },
   {
    "duration": 7,
    "start_time": "2022-05-17T14:21:40.561Z"
   },
   {
    "duration": 240,
    "start_time": "2022-05-17T14:21:40.570Z"
   },
   {
    "duration": 4,
    "start_time": "2022-05-17T14:21:40.813Z"
   },
   {
    "duration": 525,
    "start_time": "2022-05-17T14:21:40.819Z"
   },
   {
    "duration": 48,
    "start_time": "2022-05-17T14:21:41.347Z"
   },
   {
    "duration": 431,
    "start_time": "2022-05-17T14:21:41.397Z"
   },
   {
    "duration": 49,
    "start_time": "2022-05-17T14:21:41.830Z"
   },
   {
    "duration": 498,
    "start_time": "2022-05-17T14:21:41.881Z"
   },
   {
    "duration": 69,
    "start_time": "2022-05-17T14:21:42.381Z"
   },
   {
    "duration": 17,
    "start_time": "2022-05-17T14:21:42.453Z"
   },
   {
    "duration": 46,
    "start_time": "2022-05-17T14:21:42.473Z"
   },
   {
    "duration": 24,
    "start_time": "2022-05-17T15:17:28.899Z"
   },
   {
    "duration": 5,
    "start_time": "2022-05-17T15:17:57.921Z"
   },
   {
    "duration": 18,
    "start_time": "2022-05-17T15:17:57.929Z"
   },
   {
    "duration": 308,
    "start_time": "2022-05-17T15:17:57.950Z"
   },
   {
    "duration": 27,
    "start_time": "2022-05-17T15:17:58.260Z"
   },
   {
    "duration": 227,
    "start_time": "2022-05-17T15:17:58.290Z"
   },
   {
    "duration": 24,
    "start_time": "2022-05-17T15:17:58.519Z"
   },
   {
    "duration": 154,
    "start_time": "2022-05-17T15:17:58.559Z"
   },
   {
    "duration": 22,
    "start_time": "2022-05-17T15:17:58.715Z"
   },
   {
    "duration": 29,
    "start_time": "2022-05-17T15:17:58.739Z"
   },
   {
    "duration": 39,
    "start_time": "2022-05-17T15:17:58.770Z"
   },
   {
    "duration": 17,
    "start_time": "2022-05-17T15:17:58.813Z"
   },
   {
    "duration": 175,
    "start_time": "2022-05-17T15:17:58.832Z"
   },
   {
    "duration": 115,
    "start_time": "2022-05-17T15:17:59.009Z"
   },
   {
    "duration": 71,
    "start_time": "2022-05-17T15:17:59.126Z"
   },
   {
    "duration": 9,
    "start_time": "2022-05-17T15:17:59.199Z"
   },
   {
    "duration": 12,
    "start_time": "2022-05-17T15:17:59.210Z"
   },
   {
    "duration": 37,
    "start_time": "2022-05-17T15:17:59.224Z"
   },
   {
    "duration": 25,
    "start_time": "2022-05-17T15:17:59.263Z"
   },
   {
    "duration": 30,
    "start_time": "2022-05-17T15:17:59.290Z"
   },
   {
    "duration": 75,
    "start_time": "2022-05-17T15:17:59.322Z"
   },
   {
    "duration": 59,
    "start_time": "2022-05-17T15:17:59.400Z"
   },
   {
    "duration": 34,
    "start_time": "2022-05-17T15:17:59.462Z"
   },
   {
    "duration": 61,
    "start_time": "2022-05-17T15:17:59.500Z"
   },
   {
    "duration": 32,
    "start_time": "2022-05-17T15:17:59.563Z"
   },
   {
    "duration": 30,
    "start_time": "2022-05-17T15:17:59.598Z"
   },
   {
    "duration": 50,
    "start_time": "2022-05-17T15:17:59.631Z"
   },
   {
    "duration": 27,
    "start_time": "2022-05-17T15:17:59.683Z"
   },
   {
    "duration": 68,
    "start_time": "2022-05-17T15:17:59.712Z"
   },
   {
    "duration": 11,
    "start_time": "2022-05-17T15:17:59.786Z"
   },
   {
    "duration": 17,
    "start_time": "2022-05-17T15:17:59.799Z"
   },
   {
    "duration": 49,
    "start_time": "2022-05-17T15:17:59.819Z"
   },
   {
    "duration": 44,
    "start_time": "2022-05-17T15:17:59.870Z"
   },
   {
    "duration": 7,
    "start_time": "2022-05-17T15:17:59.917Z"
   },
   {
    "duration": 56,
    "start_time": "2022-05-17T15:17:59.927Z"
   },
   {
    "duration": 16,
    "start_time": "2022-05-17T15:17:59.985Z"
   },
   {
    "duration": 7,
    "start_time": "2022-05-17T15:18:00.003Z"
   },
   {
    "duration": 230,
    "start_time": "2022-05-17T15:18:00.013Z"
   },
   {
    "duration": 34,
    "start_time": "2022-05-17T15:18:00.246Z"
   },
   {
    "duration": 3,
    "start_time": "2022-05-17T15:18:00.282Z"
   },
   {
    "duration": 428,
    "start_time": "2022-05-17T15:18:00.287Z"
   },
   {
    "duration": 58,
    "start_time": "2022-05-17T15:18:00.717Z"
   },
   {
    "duration": 410,
    "start_time": "2022-05-17T15:18:00.777Z"
   },
   {
    "duration": 48,
    "start_time": "2022-05-17T15:18:01.189Z"
   },
   {
    "duration": 394,
    "start_time": "2022-05-17T15:18:01.259Z"
   },
   {
    "duration": 49,
    "start_time": "2022-05-17T15:18:01.658Z"
   },
   {
    "duration": 18,
    "start_time": "2022-05-17T15:18:01.710Z"
   },
   {
    "duration": 14,
    "start_time": "2022-05-17T15:18:01.760Z"
   }
  ],
  "kernelspec": {
   "display_name": "Python 3 (ipykernel)",
   "language": "python",
   "name": "python3"
  },
  "language_info": {
   "codemirror_mode": {
    "name": "ipython",
    "version": 3
   },
   "file_extension": ".py",
   "mimetype": "text/x-python",
   "name": "python",
   "nbconvert_exporter": "python",
   "pygments_lexer": "ipython3",
   "version": "3.9.7"
  },
  "toc": {
   "base_numbering": 1,
   "nav_menu": {},
   "number_sections": true,
   "sideBar": true,
   "skip_h1_title": true,
   "title_cell": "Table of Contents",
   "title_sidebar": "Contents",
   "toc_cell": false,
   "toc_position": {},
   "toc_section_display": true,
   "toc_window_display": false
  }
 },
 "nbformat": 4,
 "nbformat_minor": 5
}
